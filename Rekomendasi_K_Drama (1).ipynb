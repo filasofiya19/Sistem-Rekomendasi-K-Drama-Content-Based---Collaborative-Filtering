{
  "nbformat": 4,
  "nbformat_minor": 0,
  "metadata": {
    "colab": {
      "provenance": []
    },
    "kernelspec": {
      "name": "python3",
      "display_name": "Python 3"
    },
    "language_info": {
      "name": "python"
    }
  },
  "cells": [
    {
      "cell_type": "markdown",
      "source": [
        "# **1. Import Library**"
      ],
      "metadata": {
        "id": "jPGDPl2k6Zh0"
      }
    },
    {
      "cell_type": "code",
      "execution_count": 107,
      "metadata": {
        "id": "XQjM08U2R5Ff"
      },
      "outputs": [],
      "source": [
        "import numpy as np\n",
        "import pandas as pd\n",
        "import matplotlib.pyplot as plt\n",
        "import seaborn as sns\n",
        "from scipy import stats\n",
        "from scipy.stats import chi2_contingency\n",
        "from sklearn.preprocessing import PowerTransformer\n",
        "from sklearn.model_selection import train_test_split\n",
        "from sklearn.model_selection import StratifiedShuffleSplit\n",
        "from sklearn.preprocessing import StandardScaler\n",
        "from sklearn.tree import DecisionTreeClassifier\n",
        "from sklearn.ensemble import RandomForestClassifier\n",
        "from sklearn.ensemble import GradientBoostingClassifier\n",
        "import xgboost as xgb\n",
        "from sklearn.metrics import roc_curve, auc, classification_report, confusion_matrix"
      ]
    },
    {
      "cell_type": "markdown",
      "source": [
        "# **2. Load Dataset**"
      ],
      "metadata": {
        "id": "feXENAz77B85"
      }
    },
    {
      "cell_type": "code",
      "source": [
        "# Import Data\n",
        "data = pd.read_csv('https://raw.githubusercontent.com/filasofiya19/Sistem-Rekomendasi-K-Drama-Content-Based---Collaborative-Filtering/refs/heads/main/kdrama.csv')\n",
        "print(data)"
      ],
      "metadata": {
        "colab": {
          "base_uri": "https://localhost:8080/"
        },
        "id": "NROIiF6o6hMj",
        "outputId": "becf8460-c5cf-467f-f5e7-f391bae4b747"
      },
      "execution_count": 108,
      "outputs": [
        {
          "output_type": "stream",
          "name": "stdout",
          "text": [
            "                       Name                   Aired Date  Year of release  \\\n",
            "0            Move to Heaven                 May 14, 2021             2021   \n",
            "1            Flower of Evil  Jul 29, 2020 - Sep 23, 2020             2020   \n",
            "2         Hospital Playlist  Mar 12, 2020 - May 28, 2020             2020   \n",
            "3       Hospital Playlist 2  Jun 17, 2021 - Sep 16, 2021             2021   \n",
            "4                 My Mister  Mar 21, 2018 - May 17, 2018             2018   \n",
            "..                      ...                          ...              ...   \n",
            "245    Live Up to Your Name   Aug 12, 2017 - Oct 1, 2017             2017   \n",
            "246    Queen for Seven Days   May 31, 2017 - Aug 3, 2017             2017   \n",
            "247                  Memory   Mar 18, 2016 - May 7, 2016             2016   \n",
            "248        A Korean Odyssey   Dec 23, 2017 - Mar 4, 2018             2017   \n",
            "249  Voice 4: Judgment Hour  Jun 18, 2021 - Jul 31, 2021             2021   \n",
            "\n",
            "    Original Network              Aired On  Number of Episodes       Duration  \\\n",
            "0            Netflix                Friday                  10        52 min.   \n",
            "1                tvN   Wednesday, Thursday                  16  1 hr. 10 min.   \n",
            "2     Netflix,  tvN               Thursday                  12  1 hr. 30 min.   \n",
            "3     Netflix,  tvN               Thursday                  12  1 hr. 40 min.   \n",
            "4                tvN   Wednesday, Thursday                  16  1 hr. 17 min.   \n",
            "..               ...                   ...                 ...            ...   \n",
            "245              tvN      Saturday, Sunday                  16  1 hr. 10 min.   \n",
            "246             KBS2   Wednesday, Thursday                  20        60 min.   \n",
            "247              tvN      Friday, Saturday                  16   1 hr. 5 min.   \n",
            "248     Netflix, tvN      Saturday, Sunday                  20  1 hr. 20 min.   \n",
            "249              tvN      Friday, Saturday                  14   1 hr. 3 min.   \n",
            "\n",
            "                            Content Rating  Rating  \\\n",
            "0    18+ Restricted (violence & profanity)     9.2   \n",
            "1                  15+ - Teens 15 or older     9.1   \n",
            "2                  15+ - Teens 15 or older     9.1   \n",
            "3                  15+ - Teens 15 or older     9.1   \n",
            "4                  15+ - Teens 15 or older     9.1   \n",
            "..                                     ...     ...   \n",
            "245                15+ - Teens 15 or older     8.3   \n",
            "246                15+ - Teens 15 or older     8.3   \n",
            "247                15+ - Teens 15 or older     8.3   \n",
            "248                15+ - Teens 15 or older     8.3   \n",
            "249                15+ - Teens 15 or older     8.3   \n",
            "\n",
            "                                              Synopsis  \\\n",
            "0    Geu Roo is a young autistic man. He works for ...   \n",
            "1    Although Baek Hee Sung is hiding a dark secret...   \n",
            "2    The stories of people going through their days...   \n",
            "3    Everyday is extraordinary for five doctors and...   \n",
            "4    Park Dong Hoon is a middle-aged engineer who i...   \n",
            "..                                                 ...   \n",
            "245  Heo Im, who is born in a concubine family in t...   \n",
            "246  This drama is about the love story between Kin...   \n",
            "247  Park Tae Suk is a lawyer who finds out that he...   \n",
            "248  In 2017, Son Oh Gong and Ma Wang are in confli...   \n",
            "249  A serial killer with an enhanced hearing abili...   \n",
            "\n",
            "                                         Genre  \\\n",
            "0                       Life,  Drama,  Family    \n",
            "1      Thriller,  Romance,  Crime,  Melodrama    \n",
            "2       Friendship,  Romance,  Life,  Medical    \n",
            "3       Friendship,  Romance,  Life,  Medical    \n",
            "4       Psychological,  Life,  Drama,  Family    \n",
            "..                                         ...   \n",
            "245      Historical, Romance, Medical, Fantasy   \n",
            "246  Historical, Romance, Melodrama, Political   \n",
            "247                  Law, Romance, Life, Drama   \n",
            "248           Horror, Comedy, Romance, Fantasy   \n",
            "249           Action, Thriller, Mystery, Crime   \n",
            "\n",
            "                                                  Tags  \\\n",
            "0    Autism, Uncle-Nephew Relationship, Death, Sava...   \n",
            "1    Married Couple, Deception, Suspense, Family Se...   \n",
            "2    Strong Friendship, Multiple Mains, Best Friend...   \n",
            "3    Workplace, Strong Friendship, Best Friends, Mu...   \n",
            "4    Age Gap, Nice Male Lead, Strong Female Lead, H...   \n",
            "..                                                 ...   \n",
            "245  Time Travel, Joseon Dynasty, Acupuncture, Stro...   \n",
            "246  Joseon Dynasty, Sibling Rivalry, Lying, Reveng...   \n",
            "247  Alzheimer's Disease, Teamwork, Bromance, Mothe...   \n",
            "248  Ghost-seeing Female Lead, Special Power, Super...   \n",
            "249  Investigation, Suspense, Animal Abuse, Psychol...   \n",
            "\n",
            "                                         Director                Screenwriter  \\\n",
            "0                                     Kim Sung Ho                Yoon Ji Ryun   \n",
            "1                      Kim Chul Gyu, Yoon Jong Ho                Yoo Jung Hee   \n",
            "2                                     Shin Won Ho                Lee Woo Jung   \n",
            "3                                     Shin Won Ho                Lee Woo Jung   \n",
            "4                       Kim Won Suk, Kim Sang Woo              Park Hae Young   \n",
            "..                                            ...                         ...   \n",
            "245                                Hong Jong Chan                 Kim Eun Hee   \n",
            "246                                  Lee Jung Sub              Choi Jin Young   \n",
            "247                                Park Chan Hong                  Kim Ji Woo   \n",
            "248  Park Hong Kyun, Kim Jung Hyun, Kim Byung Soo  Hong Jung Eun, Hong Mi Ran   \n",
            "249                  Shin Yong Hwi, Yoon Ra Young                  Ma Jin Won   \n",
            "\n",
            "                                                  Cast  \\\n",
            "0    Lee Je Hoon, Tang Jun Sang, Hong Seung Hee, Ju...   \n",
            "1    Lee Joon Gi, Moon Chae Won, Jang Hee Jin, Seo ...   \n",
            "2    Jo Jung Suk, Yoo Yeon Seok, Jung Kyung Ho, Kim...   \n",
            "3    Jo Jung Suk, Yoo Yeon Seok, Jung Kyung Ho, Kim...   \n",
            "4    Lee Sun Kyun, IU, Park Ho San, Song Sae Byuk, ...   \n",
            "..                                                 ...   \n",
            "245  Kim Nam Gil, Kim Ah Joong, Yoo Min Kyu, Moon G...   \n",
            "246  Park Min Young, Yeon Woo Jin, Lee Dong Gun, Ja...   \n",
            "247  Lee Sung Min, Kim Jee Soo, Park Jin Hee, Lee J...   \n",
            "248  Lee Seung Gi, Cha Seung Won, Oh Yeon Seo, Lee ...   \n",
            "249  Lee  Ha Na, Song Seung Heon, Son Eun Seo, Kang...   \n",
            "\n",
            "                      Production companies  Rank  \n",
            "0     Page One Film, Number Three Pictures    #1  \n",
            "1                            Monster Union    #2  \n",
            "2                    Egg Is Coming, CJ ENM    #3  \n",
            "3                    Egg Is Coming, CJ ENM    #4  \n",
            "4                         Chorokbaem Media    #5  \n",
            "..                                     ...   ...  \n",
            "245                  Bon Factory Worldwide  #246  \n",
            "246  Monster Union, OH!BROTHERS Production  #247  \n",
            "247                                MI Inc.  #248  \n",
            "248                            JS Pictures  #249  \n",
            "249                 Story & Pictures Media  #250  \n",
            "\n",
            "[250 rows x 17 columns]\n"
          ]
        }
      ]
    },
    {
      "cell_type": "markdown",
      "source": [
        "# **3. Data Understanding**"
      ],
      "metadata": {
        "id": "u7FSdNJi7Hvg"
      }
    },
    {
      "cell_type": "markdown",
      "source": [
        "**Top 250 Korean Dramas (KDrama) Dataset**\n",
        "\n",
        "Tentang Dataset:\n",
        "\n",
        "Dataset ini diambil dari [Kaggle](https://www.kaggle.com/datasets/ahbab911/top-250-korean-dramas-kdrama-dataset) mencakup 17 fitur dan 250 sampel, dengan sampel tersebut merupakan top rank judul K-Drama dalam website MyDramaList.\n",
        "\n",
        "Untuk setaip fiturnya berikut penjelasanya:"
      ],
      "metadata": {
        "id": "k5nBVSAx4-EY"
      }
    },
    {
      "cell_type": "markdown",
      "source": [
        "| Fitur               | Deskripsi                                                                                           |\n",
        "|---------------------|-----------------------------------------------------------------------------------------------------|\n",
        "| Name                | Judul dari K-drama.                                                                                 |\n",
        "| Aired Date          | Tanggal pertama kali K-drama ditayangkan.                                                           |\n",
        "| Year of Release     | Tahun di mana K-drama ini pertama kali dirilis.                                                     |\n",
        "| Original Network    | Channel televisi atau platform OTT tempat K-drama ini pertama kali ditayangkan.                     |\n",
        "| Number of Episodes  | Jumlah total episode dari K-drama tersebut.                                                         |\n",
        "| Duration            | Durasi setiap episode dalam jam dan menit.                                                          |\n",
        "| Content Rating      | Rating usia yang sesuai untuk penonton K-drama ini.                                                 |\n",
        "| Rating              | Peringkat atau rating berdasarkan vote pengguna MyDramaList pada saat dataset dibuat.               |\n",
        "| Synopsis            | Ringkasan atau plot cerita K-drama.                                                                 |\n",
        "| Genre               | Genre atau kategori utama yang menggambarkan tema K-drama.      |\n",
        "| Tags                | Elemen-elemen unik dari K-drama.          |\n",
        "| Director            | Nama sutradara yang bertanggung jawab atas K-drama ini.                                             |\n",
        "| Screenwriter        | Nama penulis skenario yang menulis cerita K-drama.                                                  |\n",
        "| Cast                | Daftar aktor dan aktris yang membintangi K-drama ini.                                               |\n",
        "| Production Companies| Perusahaan yang memproduksi K-drama tersebut.                                                       |\n",
        "| Rank                | Peringkat K-drama dalam daftar top 250, berdasarkan popularitas dan rating.                         |\n"
      ],
      "metadata": {
        "id": "RwOTWxScHYkc"
      }
    },
    {
      "cell_type": "markdown",
      "source": [
        "## **3.1 Cek Tipe Data**"
      ],
      "metadata": {
        "id": "lL4zToF07N26"
      }
    },
    {
      "cell_type": "code",
      "source": [
        "# Cek Tipe Data\n",
        "data.info()"
      ],
      "metadata": {
        "colab": {
          "base_uri": "https://localhost:8080/"
        },
        "id": "87inJ3QW7Sai",
        "outputId": "472bcea8-3ff4-4e09-9588-0f2ec4319bd2"
      },
      "execution_count": 109,
      "outputs": [
        {
          "output_type": "stream",
          "name": "stdout",
          "text": [
            "<class 'pandas.core.frame.DataFrame'>\n",
            "RangeIndex: 250 entries, 0 to 249\n",
            "Data columns (total 17 columns):\n",
            " #   Column                Non-Null Count  Dtype  \n",
            "---  ------                --------------  -----  \n",
            " 0   Name                  250 non-null    object \n",
            " 1   Aired Date            250 non-null    object \n",
            " 2   Year of release       250 non-null    int64  \n",
            " 3   Original Network      250 non-null    object \n",
            " 4   Aired On              250 non-null    object \n",
            " 5   Number of Episodes    250 non-null    int64  \n",
            " 6   Duration              250 non-null    object \n",
            " 7   Content Rating        245 non-null    object \n",
            " 8   Rating                250 non-null    float64\n",
            " 9   Synopsis              250 non-null    object \n",
            " 10  Genre                 250 non-null    object \n",
            " 11  Tags                  250 non-null    object \n",
            " 12  Director              249 non-null    object \n",
            " 13  Screenwriter          249 non-null    object \n",
            " 14  Cast                  250 non-null    object \n",
            " 15  Production companies  248 non-null    object \n",
            " 16  Rank                  250 non-null    object \n",
            "dtypes: float64(1), int64(2), object(14)\n",
            "memory usage: 33.3+ KB\n"
          ]
        }
      ]
    },
    {
      "cell_type": "markdown",
      "source": [
        "Dataset ini memiliki 1 tipe data float, 2 tipe data integer, 14 tipe data object."
      ],
      "metadata": {
        "id": "ZlB-AJHT7eUh"
      }
    },
    {
      "cell_type": "markdown",
      "source": [
        "## **3.2 Cek Dimensi Data**"
      ],
      "metadata": {
        "id": "PvQ_FHXQ7qAZ"
      }
    },
    {
      "cell_type": "code",
      "source": [
        "# Cek dimensi data\n",
        "data.shape"
      ],
      "metadata": {
        "colab": {
          "base_uri": "https://localhost:8080/"
        },
        "id": "y819CO4c7vYS",
        "outputId": "8c86cfb0-6c99-4437-b23a-e9c22c9a0858"
      },
      "execution_count": 110,
      "outputs": [
        {
          "output_type": "execute_result",
          "data": {
            "text/plain": [
              "(250, 17)"
            ]
          },
          "metadata": {},
          "execution_count": 110
        }
      ]
    },
    {
      "cell_type": "markdown",
      "source": [
        "( data memiliki 250 records (baris) dan 17 feature(kolom))"
      ],
      "metadata": {
        "id": "kWenFvL87w4X"
      }
    },
    {
      "cell_type": "code",
      "source": [
        "# Cek 5 data teratas\n",
        "data.head()"
      ],
      "metadata": {
        "colab": {
          "base_uri": "https://localhost:8080/",
          "height": 1000
        },
        "id": "UPb61BOk75KU",
        "outputId": "b7ce04ec-a6e3-4131-ce54-af96517316d5"
      },
      "execution_count": 111,
      "outputs": [
        {
          "output_type": "execute_result",
          "data": {
            "text/plain": [
              "                  Name                   Aired Date  Year of release  \\\n",
              "0       Move to Heaven                 May 14, 2021             2021   \n",
              "1       Flower of Evil  Jul 29, 2020 - Sep 23, 2020             2020   \n",
              "2    Hospital Playlist  Mar 12, 2020 - May 28, 2020             2020   \n",
              "3  Hospital Playlist 2  Jun 17, 2021 - Sep 16, 2021             2021   \n",
              "4            My Mister  Mar 21, 2018 - May 17, 2018             2018   \n",
              "\n",
              "  Original Network              Aired On  Number of Episodes       Duration  \\\n",
              "0          Netflix                Friday                  10        52 min.   \n",
              "1              tvN   Wednesday, Thursday                  16  1 hr. 10 min.   \n",
              "2   Netflix,  tvN               Thursday                  12  1 hr. 30 min.   \n",
              "3   Netflix,  tvN               Thursday                  12  1 hr. 40 min.   \n",
              "4              tvN   Wednesday, Thursday                  16  1 hr. 17 min.   \n",
              "\n",
              "                          Content Rating  Rating  \\\n",
              "0  18+ Restricted (violence & profanity)     9.2   \n",
              "1                15+ - Teens 15 or older     9.1   \n",
              "2                15+ - Teens 15 or older     9.1   \n",
              "3                15+ - Teens 15 or older     9.1   \n",
              "4                15+ - Teens 15 or older     9.1   \n",
              "\n",
              "                                            Synopsis  \\\n",
              "0  Geu Roo is a young autistic man. He works for ...   \n",
              "1  Although Baek Hee Sung is hiding a dark secret...   \n",
              "2  The stories of people going through their days...   \n",
              "3  Everyday is extraordinary for five doctors and...   \n",
              "4  Park Dong Hoon is a middle-aged engineer who i...   \n",
              "\n",
              "                                     Genre  \\\n",
              "0                   Life,  Drama,  Family    \n",
              "1  Thriller,  Romance,  Crime,  Melodrama    \n",
              "2   Friendship,  Romance,  Life,  Medical    \n",
              "3   Friendship,  Romance,  Life,  Medical    \n",
              "4   Psychological,  Life,  Drama,  Family    \n",
              "\n",
              "                                                Tags  \\\n",
              "0  Autism, Uncle-Nephew Relationship, Death, Sava...   \n",
              "1  Married Couple, Deception, Suspense, Family Se...   \n",
              "2  Strong Friendship, Multiple Mains, Best Friend...   \n",
              "3  Workplace, Strong Friendship, Best Friends, Mu...   \n",
              "4  Age Gap, Nice Male Lead, Strong Female Lead, H...   \n",
              "\n",
              "                     Director    Screenwriter  \\\n",
              "0                 Kim Sung Ho    Yoon Ji Ryun   \n",
              "1  Kim Chul Gyu, Yoon Jong Ho    Yoo Jung Hee   \n",
              "2                 Shin Won Ho    Lee Woo Jung   \n",
              "3                 Shin Won Ho    Lee Woo Jung   \n",
              "4   Kim Won Suk, Kim Sang Woo  Park Hae Young   \n",
              "\n",
              "                                                Cast  \\\n",
              "0  Lee Je Hoon, Tang Jun Sang, Hong Seung Hee, Ju...   \n",
              "1  Lee Joon Gi, Moon Chae Won, Jang Hee Jin, Seo ...   \n",
              "2  Jo Jung Suk, Yoo Yeon Seok, Jung Kyung Ho, Kim...   \n",
              "3  Jo Jung Suk, Yoo Yeon Seok, Jung Kyung Ho, Kim...   \n",
              "4  Lee Sun Kyun, IU, Park Ho San, Song Sae Byuk, ...   \n",
              "\n",
              "                   Production companies Rank  \n",
              "0  Page One Film, Number Three Pictures   #1  \n",
              "1                         Monster Union   #2  \n",
              "2                 Egg Is Coming, CJ ENM   #3  \n",
              "3                 Egg Is Coming, CJ ENM   #4  \n",
              "4                      Chorokbaem Media   #5  "
            ],
            "text/html": [
              "\n",
              "  <div id=\"df-8bba552a-6149-4c6d-9175-b81c490033e8\" class=\"colab-df-container\">\n",
              "    <div>\n",
              "<style scoped>\n",
              "    .dataframe tbody tr th:only-of-type {\n",
              "        vertical-align: middle;\n",
              "    }\n",
              "\n",
              "    .dataframe tbody tr th {\n",
              "        vertical-align: top;\n",
              "    }\n",
              "\n",
              "    .dataframe thead th {\n",
              "        text-align: right;\n",
              "    }\n",
              "</style>\n",
              "<table border=\"1\" class=\"dataframe\">\n",
              "  <thead>\n",
              "    <tr style=\"text-align: right;\">\n",
              "      <th></th>\n",
              "      <th>Name</th>\n",
              "      <th>Aired Date</th>\n",
              "      <th>Year of release</th>\n",
              "      <th>Original Network</th>\n",
              "      <th>Aired On</th>\n",
              "      <th>Number of Episodes</th>\n",
              "      <th>Duration</th>\n",
              "      <th>Content Rating</th>\n",
              "      <th>Rating</th>\n",
              "      <th>Synopsis</th>\n",
              "      <th>Genre</th>\n",
              "      <th>Tags</th>\n",
              "      <th>Director</th>\n",
              "      <th>Screenwriter</th>\n",
              "      <th>Cast</th>\n",
              "      <th>Production companies</th>\n",
              "      <th>Rank</th>\n",
              "    </tr>\n",
              "  </thead>\n",
              "  <tbody>\n",
              "    <tr>\n",
              "      <th>0</th>\n",
              "      <td>Move to Heaven</td>\n",
              "      <td>May 14, 2021</td>\n",
              "      <td>2021</td>\n",
              "      <td>Netflix</td>\n",
              "      <td>Friday</td>\n",
              "      <td>10</td>\n",
              "      <td>52 min.</td>\n",
              "      <td>18+ Restricted (violence &amp; profanity)</td>\n",
              "      <td>9.2</td>\n",
              "      <td>Geu Roo is a young autistic man. He works for ...</td>\n",
              "      <td>Life,  Drama,  Family</td>\n",
              "      <td>Autism, Uncle-Nephew Relationship, Death, Sava...</td>\n",
              "      <td>Kim Sung Ho</td>\n",
              "      <td>Yoon Ji Ryun</td>\n",
              "      <td>Lee Je Hoon, Tang Jun Sang, Hong Seung Hee, Ju...</td>\n",
              "      <td>Page One Film, Number Three Pictures</td>\n",
              "      <td>#1</td>\n",
              "    </tr>\n",
              "    <tr>\n",
              "      <th>1</th>\n",
              "      <td>Flower of Evil</td>\n",
              "      <td>Jul 29, 2020 - Sep 23, 2020</td>\n",
              "      <td>2020</td>\n",
              "      <td>tvN</td>\n",
              "      <td>Wednesday, Thursday</td>\n",
              "      <td>16</td>\n",
              "      <td>1 hr. 10 min.</td>\n",
              "      <td>15+ - Teens 15 or older</td>\n",
              "      <td>9.1</td>\n",
              "      <td>Although Baek Hee Sung is hiding a dark secret...</td>\n",
              "      <td>Thriller,  Romance,  Crime,  Melodrama</td>\n",
              "      <td>Married Couple, Deception, Suspense, Family Se...</td>\n",
              "      <td>Kim Chul Gyu, Yoon Jong Ho</td>\n",
              "      <td>Yoo Jung Hee</td>\n",
              "      <td>Lee Joon Gi, Moon Chae Won, Jang Hee Jin, Seo ...</td>\n",
              "      <td>Monster Union</td>\n",
              "      <td>#2</td>\n",
              "    </tr>\n",
              "    <tr>\n",
              "      <th>2</th>\n",
              "      <td>Hospital Playlist</td>\n",
              "      <td>Mar 12, 2020 - May 28, 2020</td>\n",
              "      <td>2020</td>\n",
              "      <td>Netflix,  tvN</td>\n",
              "      <td>Thursday</td>\n",
              "      <td>12</td>\n",
              "      <td>1 hr. 30 min.</td>\n",
              "      <td>15+ - Teens 15 or older</td>\n",
              "      <td>9.1</td>\n",
              "      <td>The stories of people going through their days...</td>\n",
              "      <td>Friendship,  Romance,  Life,  Medical</td>\n",
              "      <td>Strong Friendship, Multiple Mains, Best Friend...</td>\n",
              "      <td>Shin Won Ho</td>\n",
              "      <td>Lee Woo Jung</td>\n",
              "      <td>Jo Jung Suk, Yoo Yeon Seok, Jung Kyung Ho, Kim...</td>\n",
              "      <td>Egg Is Coming, CJ ENM</td>\n",
              "      <td>#3</td>\n",
              "    </tr>\n",
              "    <tr>\n",
              "      <th>3</th>\n",
              "      <td>Hospital Playlist 2</td>\n",
              "      <td>Jun 17, 2021 - Sep 16, 2021</td>\n",
              "      <td>2021</td>\n",
              "      <td>Netflix,  tvN</td>\n",
              "      <td>Thursday</td>\n",
              "      <td>12</td>\n",
              "      <td>1 hr. 40 min.</td>\n",
              "      <td>15+ - Teens 15 or older</td>\n",
              "      <td>9.1</td>\n",
              "      <td>Everyday is extraordinary for five doctors and...</td>\n",
              "      <td>Friendship,  Romance,  Life,  Medical</td>\n",
              "      <td>Workplace, Strong Friendship, Best Friends, Mu...</td>\n",
              "      <td>Shin Won Ho</td>\n",
              "      <td>Lee Woo Jung</td>\n",
              "      <td>Jo Jung Suk, Yoo Yeon Seok, Jung Kyung Ho, Kim...</td>\n",
              "      <td>Egg Is Coming, CJ ENM</td>\n",
              "      <td>#4</td>\n",
              "    </tr>\n",
              "    <tr>\n",
              "      <th>4</th>\n",
              "      <td>My Mister</td>\n",
              "      <td>Mar 21, 2018 - May 17, 2018</td>\n",
              "      <td>2018</td>\n",
              "      <td>tvN</td>\n",
              "      <td>Wednesday, Thursday</td>\n",
              "      <td>16</td>\n",
              "      <td>1 hr. 17 min.</td>\n",
              "      <td>15+ - Teens 15 or older</td>\n",
              "      <td>9.1</td>\n",
              "      <td>Park Dong Hoon is a middle-aged engineer who i...</td>\n",
              "      <td>Psychological,  Life,  Drama,  Family</td>\n",
              "      <td>Age Gap, Nice Male Lead, Strong Female Lead, H...</td>\n",
              "      <td>Kim Won Suk, Kim Sang Woo</td>\n",
              "      <td>Park Hae Young</td>\n",
              "      <td>Lee Sun Kyun, IU, Park Ho San, Song Sae Byuk, ...</td>\n",
              "      <td>Chorokbaem Media</td>\n",
              "      <td>#5</td>\n",
              "    </tr>\n",
              "  </tbody>\n",
              "</table>\n",
              "</div>\n",
              "    <div class=\"colab-df-buttons\">\n",
              "\n",
              "  <div class=\"colab-df-container\">\n",
              "    <button class=\"colab-df-convert\" onclick=\"convertToInteractive('df-8bba552a-6149-4c6d-9175-b81c490033e8')\"\n",
              "            title=\"Convert this dataframe to an interactive table.\"\n",
              "            style=\"display:none;\">\n",
              "\n",
              "  <svg xmlns=\"http://www.w3.org/2000/svg\" height=\"24px\" viewBox=\"0 -960 960 960\">\n",
              "    <path d=\"M120-120v-720h720v720H120Zm60-500h600v-160H180v160Zm220 220h160v-160H400v160Zm0 220h160v-160H400v160ZM180-400h160v-160H180v160Zm440 0h160v-160H620v160ZM180-180h160v-160H180v160Zm440 0h160v-160H620v160Z\"/>\n",
              "  </svg>\n",
              "    </button>\n",
              "\n",
              "  <style>\n",
              "    .colab-df-container {\n",
              "      display:flex;\n",
              "      gap: 12px;\n",
              "    }\n",
              "\n",
              "    .colab-df-convert {\n",
              "      background-color: #E8F0FE;\n",
              "      border: none;\n",
              "      border-radius: 50%;\n",
              "      cursor: pointer;\n",
              "      display: none;\n",
              "      fill: #1967D2;\n",
              "      height: 32px;\n",
              "      padding: 0 0 0 0;\n",
              "      width: 32px;\n",
              "    }\n",
              "\n",
              "    .colab-df-convert:hover {\n",
              "      background-color: #E2EBFA;\n",
              "      box-shadow: 0px 1px 2px rgba(60, 64, 67, 0.3), 0px 1px 3px 1px rgba(60, 64, 67, 0.15);\n",
              "      fill: #174EA6;\n",
              "    }\n",
              "\n",
              "    .colab-df-buttons div {\n",
              "      margin-bottom: 4px;\n",
              "    }\n",
              "\n",
              "    [theme=dark] .colab-df-convert {\n",
              "      background-color: #3B4455;\n",
              "      fill: #D2E3FC;\n",
              "    }\n",
              "\n",
              "    [theme=dark] .colab-df-convert:hover {\n",
              "      background-color: #434B5C;\n",
              "      box-shadow: 0px 1px 3px 1px rgba(0, 0, 0, 0.15);\n",
              "      filter: drop-shadow(0px 1px 2px rgba(0, 0, 0, 0.3));\n",
              "      fill: #FFFFFF;\n",
              "    }\n",
              "  </style>\n",
              "\n",
              "    <script>\n",
              "      const buttonEl =\n",
              "        document.querySelector('#df-8bba552a-6149-4c6d-9175-b81c490033e8 button.colab-df-convert');\n",
              "      buttonEl.style.display =\n",
              "        google.colab.kernel.accessAllowed ? 'block' : 'none';\n",
              "\n",
              "      async function convertToInteractive(key) {\n",
              "        const element = document.querySelector('#df-8bba552a-6149-4c6d-9175-b81c490033e8');\n",
              "        const dataTable =\n",
              "          await google.colab.kernel.invokeFunction('convertToInteractive',\n",
              "                                                    [key], {});\n",
              "        if (!dataTable) return;\n",
              "\n",
              "        const docLinkHtml = 'Like what you see? Visit the ' +\n",
              "          '<a target=\"_blank\" href=https://colab.research.google.com/notebooks/data_table.ipynb>data table notebook</a>'\n",
              "          + ' to learn more about interactive tables.';\n",
              "        element.innerHTML = '';\n",
              "        dataTable['output_type'] = 'display_data';\n",
              "        await google.colab.output.renderOutput(dataTable, element);\n",
              "        const docLink = document.createElement('div');\n",
              "        docLink.innerHTML = docLinkHtml;\n",
              "        element.appendChild(docLink);\n",
              "      }\n",
              "    </script>\n",
              "  </div>\n",
              "\n",
              "\n",
              "<div id=\"df-8ff229a8-caf6-40be-9f4b-20cf25e08c32\">\n",
              "  <button class=\"colab-df-quickchart\" onclick=\"quickchart('df-8ff229a8-caf6-40be-9f4b-20cf25e08c32')\"\n",
              "            title=\"Suggest charts\"\n",
              "            style=\"display:none;\">\n",
              "\n",
              "<svg xmlns=\"http://www.w3.org/2000/svg\" height=\"24px\"viewBox=\"0 0 24 24\"\n",
              "     width=\"24px\">\n",
              "    <g>\n",
              "        <path d=\"M19 3H5c-1.1 0-2 .9-2 2v14c0 1.1.9 2 2 2h14c1.1 0 2-.9 2-2V5c0-1.1-.9-2-2-2zM9 17H7v-7h2v7zm4 0h-2V7h2v10zm4 0h-2v-4h2v4z\"/>\n",
              "    </g>\n",
              "</svg>\n",
              "  </button>\n",
              "\n",
              "<style>\n",
              "  .colab-df-quickchart {\n",
              "      --bg-color: #E8F0FE;\n",
              "      --fill-color: #1967D2;\n",
              "      --hover-bg-color: #E2EBFA;\n",
              "      --hover-fill-color: #174EA6;\n",
              "      --disabled-fill-color: #AAA;\n",
              "      --disabled-bg-color: #DDD;\n",
              "  }\n",
              "\n",
              "  [theme=dark] .colab-df-quickchart {\n",
              "      --bg-color: #3B4455;\n",
              "      --fill-color: #D2E3FC;\n",
              "      --hover-bg-color: #434B5C;\n",
              "      --hover-fill-color: #FFFFFF;\n",
              "      --disabled-bg-color: #3B4455;\n",
              "      --disabled-fill-color: #666;\n",
              "  }\n",
              "\n",
              "  .colab-df-quickchart {\n",
              "    background-color: var(--bg-color);\n",
              "    border: none;\n",
              "    border-radius: 50%;\n",
              "    cursor: pointer;\n",
              "    display: none;\n",
              "    fill: var(--fill-color);\n",
              "    height: 32px;\n",
              "    padding: 0;\n",
              "    width: 32px;\n",
              "  }\n",
              "\n",
              "  .colab-df-quickchart:hover {\n",
              "    background-color: var(--hover-bg-color);\n",
              "    box-shadow: 0 1px 2px rgba(60, 64, 67, 0.3), 0 1px 3px 1px rgba(60, 64, 67, 0.15);\n",
              "    fill: var(--button-hover-fill-color);\n",
              "  }\n",
              "\n",
              "  .colab-df-quickchart-complete:disabled,\n",
              "  .colab-df-quickchart-complete:disabled:hover {\n",
              "    background-color: var(--disabled-bg-color);\n",
              "    fill: var(--disabled-fill-color);\n",
              "    box-shadow: none;\n",
              "  }\n",
              "\n",
              "  .colab-df-spinner {\n",
              "    border: 2px solid var(--fill-color);\n",
              "    border-color: transparent;\n",
              "    border-bottom-color: var(--fill-color);\n",
              "    animation:\n",
              "      spin 1s steps(1) infinite;\n",
              "  }\n",
              "\n",
              "  @keyframes spin {\n",
              "    0% {\n",
              "      border-color: transparent;\n",
              "      border-bottom-color: var(--fill-color);\n",
              "      border-left-color: var(--fill-color);\n",
              "    }\n",
              "    20% {\n",
              "      border-color: transparent;\n",
              "      border-left-color: var(--fill-color);\n",
              "      border-top-color: var(--fill-color);\n",
              "    }\n",
              "    30% {\n",
              "      border-color: transparent;\n",
              "      border-left-color: var(--fill-color);\n",
              "      border-top-color: var(--fill-color);\n",
              "      border-right-color: var(--fill-color);\n",
              "    }\n",
              "    40% {\n",
              "      border-color: transparent;\n",
              "      border-right-color: var(--fill-color);\n",
              "      border-top-color: var(--fill-color);\n",
              "    }\n",
              "    60% {\n",
              "      border-color: transparent;\n",
              "      border-right-color: var(--fill-color);\n",
              "    }\n",
              "    80% {\n",
              "      border-color: transparent;\n",
              "      border-right-color: var(--fill-color);\n",
              "      border-bottom-color: var(--fill-color);\n",
              "    }\n",
              "    90% {\n",
              "      border-color: transparent;\n",
              "      border-bottom-color: var(--fill-color);\n",
              "    }\n",
              "  }\n",
              "</style>\n",
              "\n",
              "  <script>\n",
              "    async function quickchart(key) {\n",
              "      const quickchartButtonEl =\n",
              "        document.querySelector('#' + key + ' button');\n",
              "      quickchartButtonEl.disabled = true;  // To prevent multiple clicks.\n",
              "      quickchartButtonEl.classList.add('colab-df-spinner');\n",
              "      try {\n",
              "        const charts = await google.colab.kernel.invokeFunction(\n",
              "            'suggestCharts', [key], {});\n",
              "      } catch (error) {\n",
              "        console.error('Error during call to suggestCharts:', error);\n",
              "      }\n",
              "      quickchartButtonEl.classList.remove('colab-df-spinner');\n",
              "      quickchartButtonEl.classList.add('colab-df-quickchart-complete');\n",
              "    }\n",
              "    (() => {\n",
              "      let quickchartButtonEl =\n",
              "        document.querySelector('#df-8ff229a8-caf6-40be-9f4b-20cf25e08c32 button');\n",
              "      quickchartButtonEl.style.display =\n",
              "        google.colab.kernel.accessAllowed ? 'block' : 'none';\n",
              "    })();\n",
              "  </script>\n",
              "</div>\n",
              "\n",
              "    </div>\n",
              "  </div>\n"
            ],
            "application/vnd.google.colaboratory.intrinsic+json": {
              "type": "dataframe",
              "variable_name": "data",
              "summary": "{\n  \"name\": \"data\",\n  \"rows\": 250,\n  \"fields\": [\n    {\n      \"column\": \"Name\",\n      \"properties\": {\n        \"dtype\": \"string\",\n        \"num_unique_values\": 250,\n        \"samples\": [\n          \"I'm Not a Robot\",\n          \"Weak Hero Class 1\",\n          \"365\"\n        ],\n        \"semantic_type\": \"\",\n        \"description\": \"\"\n      }\n    },\n    {\n      \"column\": \"Aired Date\",\n      \"properties\": {\n        \"dtype\": \"string\",\n        \"num_unique_values\": 248,\n        \"samples\": [\n          \"Oct 26, 2020 - Jan  5, 2021\",\n          \"Nov 18, 2022\",\n          \"Mar 23, 2022 - Apr 13, 2022\"\n        ],\n        \"semantic_type\": \"\",\n        \"description\": \"\"\n      }\n    },\n    {\n      \"column\": \"Year of release\",\n      \"properties\": {\n        \"dtype\": \"number\",\n        \"std\": 3,\n        \"min\": 2003,\n        \"max\": 2022,\n        \"num_unique_values\": 17,\n        \"samples\": [\n          2021,\n          2020,\n          2017\n        ],\n        \"semantic_type\": \"\",\n        \"description\": \"\"\n      }\n    },\n    {\n      \"column\": \"Original Network\",\n      \"properties\": {\n        \"dtype\": \"category\",\n        \"num_unique_values\": 45,\n        \"samples\": [\n          \"SBS, ViuTV\",\n          \"OCN, tvN\",\n          \"ENA, Olleh TV\"\n        ],\n        \"semantic_type\": \"\",\n        \"description\": \"\"\n      }\n    },\n    {\n      \"column\": \"Aired On\",\n      \"properties\": {\n        \"dtype\": \"category\",\n        \"num_unique_values\": 21,\n        \"samples\": [\n          \"Friday\",\n          \"Monday, Tuesday, Wednesday, Thursday, Friday\",\n          \"Monday, Thursday\"\n        ],\n        \"semantic_type\": \"\",\n        \"description\": \"\"\n      }\n    },\n    {\n      \"column\": \"Number of Episodes\",\n      \"properties\": {\n        \"dtype\": \"number\",\n        \"std\": 13,\n        \"min\": 1,\n        \"max\": 133,\n        \"num_unique_values\": 30,\n        \"samples\": [\n          81,\n          28,\n          60\n        ],\n        \"semantic_type\": \"\",\n        \"description\": \"\"\n      }\n    },\n    {\n      \"column\": \"Duration\",\n      \"properties\": {\n        \"dtype\": \"category\",\n        \"num_unique_values\": 38,\n        \"samples\": [\n          \"44 min.\",\n          \"15 min.\",\n          \"1 hr. 17 min.\"\n        ],\n        \"semantic_type\": \"\",\n        \"description\": \"\"\n      }\n    },\n    {\n      \"column\": \"Content Rating\",\n      \"properties\": {\n        \"dtype\": \"category\",\n        \"num_unique_values\": 4,\n        \"samples\": [\n          \"15+ - Teens 15 or older\",\n          \"G - All Ages\",\n          \"18+ Restricted (violence & profanity)\"\n        ],\n        \"semantic_type\": \"\",\n        \"description\": \"\"\n      }\n    },\n    {\n      \"column\": \"Rating\",\n      \"properties\": {\n        \"dtype\": \"number\",\n        \"std\": 0.2213594362117869,\n        \"min\": 8.3,\n        \"max\": 9.2,\n        \"num_unique_values\": 10,\n        \"samples\": [\n          8.4,\n          9.1,\n          8.7\n        ],\n        \"semantic_type\": \"\",\n        \"description\": \"\"\n      }\n    },\n    {\n      \"column\": \"Synopsis\",\n      \"properties\": {\n        \"dtype\": \"string\",\n        \"num_unique_values\": 250,\n        \"samples\": [\n          \"Kim Min Kyu is the largest shareholder of a financial company. He suffers from a \\\"human allergy\\\", preventing him from normal interactions with other people. He becomes interested in a robotic project named Aji-3 created by the Santa Maria robotic team. The team is headed by Hong Baek Gyun, inventor of Aji-3 and world-renowned robotics professor. He modeled Aji-3 after his ex-girlfriend, Jo Ji Ah, a struggling inventor that also works as a personal shopper to make ends meet. Just when Kim Min Kyu wants to test the robot, an accident causes the malfunction of the robot's battery. Hong Baek Gyun begs Jo Ji Ah to take the place of Aji-3 and pretend to be the robot so they can get funding from Kim Min Kyu. But, Aji-3 becomes the closest thing that the lonely Min Kyu has to real contact with another person.\",\n          \"Yeon Shi Eun is a model student who ranks at the top of his high school. Physically, Yeon Shi Eun appears weak, but by using his wits and psychology, he fights against the violence that takes place inside and outside of his school.\",\n          \"A story where ten people get the chance to go back in time by one year, but unexpectedly mysterious situations start to arise when their fates are changed and twisted in the process.\"\n        ],\n        \"semantic_type\": \"\",\n        \"description\": \"\"\n      }\n    },\n    {\n      \"column\": \"Genre\",\n      \"properties\": {\n        \"dtype\": \"string\",\n        \"num_unique_values\": 205,\n        \"samples\": [\n          \"Thriller,  Mystery,  Sci-Fi \",\n          \"Historical,  Mystery,  Comedy,  Romance \",\n          \"Thriller, Mystery, Psychological\"\n        ],\n        \"semantic_type\": \"\",\n        \"description\": \"\"\n      }\n    },\n    {\n      \"column\": \"Tags\",\n      \"properties\": {\n        \"dtype\": \"string\",\n        \"num_unique_values\": 250,\n        \"samples\": [\n          \"Haphephobia, Hidden Identity, Rich Male Lead, Robot, Eccentric Male Lead, Double Identity, Sismance, Hardworking Female Lead, Healing, Forgiveness\",\n          \"Bromance, Smart Male Lead, Violence, School Bullying, Adapted From A Webtoon, Delinquent Supporting Character, Quiet Male Lead, Skilled Fighter, Hidden Past, Strong Male Lead\",\n          \"Strong Female Lead, Time Travel, Nice Male Lead, Suspense, Murder, Detective, Fate, Supernatural, Accident, Webtoon Writer\"\n        ],\n        \"semantic_type\": \"\",\n        \"description\": \"\"\n      }\n    },\n    {\n      \"column\": \"Director\",\n      \"properties\": {\n        \"dtype\": \"string\",\n        \"num_unique_values\": 184,\n        \"samples\": [\n          \"Kim Tae Yoon, Sung Chi Wook\",\n          \"Kim Jae Hong, Park Bo Ram\",\n          \"Cha Young Hoon\"\n        ],\n        \"semantic_type\": \"\",\n        \"description\": \"\"\n      }\n    },\n    {\n      \"column\": \"Screenwriter\",\n      \"properties\": {\n        \"dtype\": \"string\",\n        \"num_unique_values\": 182,\n        \"samples\": [\n          \"Song Ji Na\",\n          \"Seol Yi Na, Kwon Il Yong\",\n          \"Im Hee Chul\"\n        ],\n        \"semantic_type\": \"\",\n        \"description\": \"\"\n      }\n    },\n    {\n      \"column\": \"Cast\",\n      \"properties\": {\n        \"dtype\": \"string\",\n        \"num_unique_values\": 249,\n        \"samples\": [\n          \"Jeon Do Yeon, Ryu Joon Yeol, Park Byung Eun, Kim Hyo Jin, Park Ji Young, Park In Hwan\",\n          \"Park Hae Soo, Jung Kyung Ho, Krystal Jung, Im Hwa Young, Ye Soo Jung, Kim Kyung Nam\",\n          \"Gong Hyo Jin, So Ji Sub, Seo In Guk, Kim Yoo Ri, Choi Jung Woo, Kim  Mi Kyung\"\n        ],\n        \"semantic_type\": \"\",\n        \"description\": \"\"\n      }\n    },\n    {\n      \"column\": \"Production companies\",\n      \"properties\": {\n        \"dtype\": \"string\",\n        \"num_unique_values\": 171,\n        \"samples\": [\n          \"Lydus Contents Company, AStory\",\n          \"Studio Phoenix, Chorokbaem Media, SLL\",\n          \"HB Entertainment\"\n        ],\n        \"semantic_type\": \"\",\n        \"description\": \"\"\n      }\n    },\n    {\n      \"column\": \"Rank\",\n      \"properties\": {\n        \"dtype\": \"string\",\n        \"num_unique_values\": 250,\n        \"samples\": [\n          \"#143\",\n          \"#7\",\n          \"#98\"\n        ],\n        \"semantic_type\": \"\",\n        \"description\": \"\"\n      }\n    }\n  ]\n}"
            }
          },
          "metadata": {},
          "execution_count": 111
        }
      ]
    },
    {
      "cell_type": "code",
      "source": [
        "#Cek 5 data terbawah\n",
        "data.tail()"
      ],
      "metadata": {
        "colab": {
          "base_uri": "https://localhost:8080/",
          "height": 1000
        },
        "id": "9oLFO17m7-Bp",
        "outputId": "7ac844ec-c159-4ba4-fce7-b4dfd79770d2"
      },
      "execution_count": 112,
      "outputs": [
        {
          "output_type": "execute_result",
          "data": {
            "text/plain": [
              "                       Name                   Aired Date  Year of release  \\\n",
              "245    Live Up to Your Name   Aug 12, 2017 - Oct 1, 2017             2017   \n",
              "246    Queen for Seven Days   May 31, 2017 - Aug 3, 2017             2017   \n",
              "247                  Memory   Mar 18, 2016 - May 7, 2016             2016   \n",
              "248        A Korean Odyssey   Dec 23, 2017 - Mar 4, 2018             2017   \n",
              "249  Voice 4: Judgment Hour  Jun 18, 2021 - Jul 31, 2021             2021   \n",
              "\n",
              "    Original Network             Aired On  Number of Episodes       Duration  \\\n",
              "245              tvN     Saturday, Sunday                  16  1 hr. 10 min.   \n",
              "246             KBS2  Wednesday, Thursday                  20        60 min.   \n",
              "247              tvN     Friday, Saturday                  16   1 hr. 5 min.   \n",
              "248     Netflix, tvN     Saturday, Sunday                  20  1 hr. 20 min.   \n",
              "249              tvN     Friday, Saturday                  14   1 hr. 3 min.   \n",
              "\n",
              "              Content Rating  Rating  \\\n",
              "245  15+ - Teens 15 or older     8.3   \n",
              "246  15+ - Teens 15 or older     8.3   \n",
              "247  15+ - Teens 15 or older     8.3   \n",
              "248  15+ - Teens 15 or older     8.3   \n",
              "249  15+ - Teens 15 or older     8.3   \n",
              "\n",
              "                                              Synopsis  \\\n",
              "245  Heo Im, who is born in a concubine family in t...   \n",
              "246  This drama is about the love story between Kin...   \n",
              "247  Park Tae Suk is a lawyer who finds out that he...   \n",
              "248  In 2017, Son Oh Gong and Ma Wang are in confli...   \n",
              "249  A serial killer with an enhanced hearing abili...   \n",
              "\n",
              "                                         Genre  \\\n",
              "245      Historical, Romance, Medical, Fantasy   \n",
              "246  Historical, Romance, Melodrama, Political   \n",
              "247                  Law, Romance, Life, Drama   \n",
              "248           Horror, Comedy, Romance, Fantasy   \n",
              "249           Action, Thriller, Mystery, Crime   \n",
              "\n",
              "                                                  Tags  \\\n",
              "245  Time Travel, Joseon Dynasty, Acupuncture, Stro...   \n",
              "246  Joseon Dynasty, Sibling Rivalry, Lying, Reveng...   \n",
              "247  Alzheimer's Disease, Teamwork, Bromance, Mothe...   \n",
              "248  Ghost-seeing Female Lead, Special Power, Super...   \n",
              "249  Investigation, Suspense, Animal Abuse, Psychol...   \n",
              "\n",
              "                                         Director                Screenwriter  \\\n",
              "245                                Hong Jong Chan                 Kim Eun Hee   \n",
              "246                                  Lee Jung Sub              Choi Jin Young   \n",
              "247                                Park Chan Hong                  Kim Ji Woo   \n",
              "248  Park Hong Kyun, Kim Jung Hyun, Kim Byung Soo  Hong Jung Eun, Hong Mi Ran   \n",
              "249                  Shin Yong Hwi, Yoon Ra Young                  Ma Jin Won   \n",
              "\n",
              "                                                  Cast  \\\n",
              "245  Kim Nam Gil, Kim Ah Joong, Yoo Min Kyu, Moon G...   \n",
              "246  Park Min Young, Yeon Woo Jin, Lee Dong Gun, Ja...   \n",
              "247  Lee Sung Min, Kim Jee Soo, Park Jin Hee, Lee J...   \n",
              "248  Lee Seung Gi, Cha Seung Won, Oh Yeon Seo, Lee ...   \n",
              "249  Lee  Ha Na, Song Seung Heon, Son Eun Seo, Kang...   \n",
              "\n",
              "                      Production companies  Rank  \n",
              "245                  Bon Factory Worldwide  #246  \n",
              "246  Monster Union, OH!BROTHERS Production  #247  \n",
              "247                                MI Inc.  #248  \n",
              "248                            JS Pictures  #249  \n",
              "249                 Story & Pictures Media  #250  "
            ],
            "text/html": [
              "\n",
              "  <div id=\"df-b215e45e-f2a6-4b80-bf8a-69dc888141d5\" class=\"colab-df-container\">\n",
              "    <div>\n",
              "<style scoped>\n",
              "    .dataframe tbody tr th:only-of-type {\n",
              "        vertical-align: middle;\n",
              "    }\n",
              "\n",
              "    .dataframe tbody tr th {\n",
              "        vertical-align: top;\n",
              "    }\n",
              "\n",
              "    .dataframe thead th {\n",
              "        text-align: right;\n",
              "    }\n",
              "</style>\n",
              "<table border=\"1\" class=\"dataframe\">\n",
              "  <thead>\n",
              "    <tr style=\"text-align: right;\">\n",
              "      <th></th>\n",
              "      <th>Name</th>\n",
              "      <th>Aired Date</th>\n",
              "      <th>Year of release</th>\n",
              "      <th>Original Network</th>\n",
              "      <th>Aired On</th>\n",
              "      <th>Number of Episodes</th>\n",
              "      <th>Duration</th>\n",
              "      <th>Content Rating</th>\n",
              "      <th>Rating</th>\n",
              "      <th>Synopsis</th>\n",
              "      <th>Genre</th>\n",
              "      <th>Tags</th>\n",
              "      <th>Director</th>\n",
              "      <th>Screenwriter</th>\n",
              "      <th>Cast</th>\n",
              "      <th>Production companies</th>\n",
              "      <th>Rank</th>\n",
              "    </tr>\n",
              "  </thead>\n",
              "  <tbody>\n",
              "    <tr>\n",
              "      <th>245</th>\n",
              "      <td>Live Up to Your Name</td>\n",
              "      <td>Aug 12, 2017 - Oct 1, 2017</td>\n",
              "      <td>2017</td>\n",
              "      <td>tvN</td>\n",
              "      <td>Saturday, Sunday</td>\n",
              "      <td>16</td>\n",
              "      <td>1 hr. 10 min.</td>\n",
              "      <td>15+ - Teens 15 or older</td>\n",
              "      <td>8.3</td>\n",
              "      <td>Heo Im, who is born in a concubine family in t...</td>\n",
              "      <td>Historical, Romance, Medical, Fantasy</td>\n",
              "      <td>Time Travel, Joseon Dynasty, Acupuncture, Stro...</td>\n",
              "      <td>Hong Jong Chan</td>\n",
              "      <td>Kim Eun Hee</td>\n",
              "      <td>Kim Nam Gil, Kim Ah Joong, Yoo Min Kyu, Moon G...</td>\n",
              "      <td>Bon Factory Worldwide</td>\n",
              "      <td>#246</td>\n",
              "    </tr>\n",
              "    <tr>\n",
              "      <th>246</th>\n",
              "      <td>Queen for Seven Days</td>\n",
              "      <td>May 31, 2017 - Aug 3, 2017</td>\n",
              "      <td>2017</td>\n",
              "      <td>KBS2</td>\n",
              "      <td>Wednesday, Thursday</td>\n",
              "      <td>20</td>\n",
              "      <td>60 min.</td>\n",
              "      <td>15+ - Teens 15 or older</td>\n",
              "      <td>8.3</td>\n",
              "      <td>This drama is about the love story between Kin...</td>\n",
              "      <td>Historical, Romance, Melodrama, Political</td>\n",
              "      <td>Joseon Dynasty, Sibling Rivalry, Lying, Reveng...</td>\n",
              "      <td>Lee Jung Sub</td>\n",
              "      <td>Choi Jin Young</td>\n",
              "      <td>Park Min Young, Yeon Woo Jin, Lee Dong Gun, Ja...</td>\n",
              "      <td>Monster Union, OH!BROTHERS Production</td>\n",
              "      <td>#247</td>\n",
              "    </tr>\n",
              "    <tr>\n",
              "      <th>247</th>\n",
              "      <td>Memory</td>\n",
              "      <td>Mar 18, 2016 - May 7, 2016</td>\n",
              "      <td>2016</td>\n",
              "      <td>tvN</td>\n",
              "      <td>Friday, Saturday</td>\n",
              "      <td>16</td>\n",
              "      <td>1 hr. 5 min.</td>\n",
              "      <td>15+ - Teens 15 or older</td>\n",
              "      <td>8.3</td>\n",
              "      <td>Park Tae Suk is a lawyer who finds out that he...</td>\n",
              "      <td>Law, Romance, Life, Drama</td>\n",
              "      <td>Alzheimer's Disease, Teamwork, Bromance, Mothe...</td>\n",
              "      <td>Park Chan Hong</td>\n",
              "      <td>Kim Ji Woo</td>\n",
              "      <td>Lee Sung Min, Kim Jee Soo, Park Jin Hee, Lee J...</td>\n",
              "      <td>MI Inc.</td>\n",
              "      <td>#248</td>\n",
              "    </tr>\n",
              "    <tr>\n",
              "      <th>248</th>\n",
              "      <td>A Korean Odyssey</td>\n",
              "      <td>Dec 23, 2017 - Mar 4, 2018</td>\n",
              "      <td>2017</td>\n",
              "      <td>Netflix, tvN</td>\n",
              "      <td>Saturday, Sunday</td>\n",
              "      <td>20</td>\n",
              "      <td>1 hr. 20 min.</td>\n",
              "      <td>15+ - Teens 15 or older</td>\n",
              "      <td>8.3</td>\n",
              "      <td>In 2017, Son Oh Gong and Ma Wang are in confli...</td>\n",
              "      <td>Horror, Comedy, Romance, Fantasy</td>\n",
              "      <td>Ghost-seeing Female Lead, Special Power, Super...</td>\n",
              "      <td>Park Hong Kyun, Kim Jung Hyun, Kim Byung Soo</td>\n",
              "      <td>Hong Jung Eun, Hong Mi Ran</td>\n",
              "      <td>Lee Seung Gi, Cha Seung Won, Oh Yeon Seo, Lee ...</td>\n",
              "      <td>JS Pictures</td>\n",
              "      <td>#249</td>\n",
              "    </tr>\n",
              "    <tr>\n",
              "      <th>249</th>\n",
              "      <td>Voice 4: Judgment Hour</td>\n",
              "      <td>Jun 18, 2021 - Jul 31, 2021</td>\n",
              "      <td>2021</td>\n",
              "      <td>tvN</td>\n",
              "      <td>Friday, Saturday</td>\n",
              "      <td>14</td>\n",
              "      <td>1 hr. 3 min.</td>\n",
              "      <td>15+ - Teens 15 or older</td>\n",
              "      <td>8.3</td>\n",
              "      <td>A serial killer with an enhanced hearing abili...</td>\n",
              "      <td>Action, Thriller, Mystery, Crime</td>\n",
              "      <td>Investigation, Suspense, Animal Abuse, Psychol...</td>\n",
              "      <td>Shin Yong Hwi, Yoon Ra Young</td>\n",
              "      <td>Ma Jin Won</td>\n",
              "      <td>Lee  Ha Na, Song Seung Heon, Son Eun Seo, Kang...</td>\n",
              "      <td>Story &amp; Pictures Media</td>\n",
              "      <td>#250</td>\n",
              "    </tr>\n",
              "  </tbody>\n",
              "</table>\n",
              "</div>\n",
              "    <div class=\"colab-df-buttons\">\n",
              "\n",
              "  <div class=\"colab-df-container\">\n",
              "    <button class=\"colab-df-convert\" onclick=\"convertToInteractive('df-b215e45e-f2a6-4b80-bf8a-69dc888141d5')\"\n",
              "            title=\"Convert this dataframe to an interactive table.\"\n",
              "            style=\"display:none;\">\n",
              "\n",
              "  <svg xmlns=\"http://www.w3.org/2000/svg\" height=\"24px\" viewBox=\"0 -960 960 960\">\n",
              "    <path d=\"M120-120v-720h720v720H120Zm60-500h600v-160H180v160Zm220 220h160v-160H400v160Zm0 220h160v-160H400v160ZM180-400h160v-160H180v160Zm440 0h160v-160H620v160ZM180-180h160v-160H180v160Zm440 0h160v-160H620v160Z\"/>\n",
              "  </svg>\n",
              "    </button>\n",
              "\n",
              "  <style>\n",
              "    .colab-df-container {\n",
              "      display:flex;\n",
              "      gap: 12px;\n",
              "    }\n",
              "\n",
              "    .colab-df-convert {\n",
              "      background-color: #E8F0FE;\n",
              "      border: none;\n",
              "      border-radius: 50%;\n",
              "      cursor: pointer;\n",
              "      display: none;\n",
              "      fill: #1967D2;\n",
              "      height: 32px;\n",
              "      padding: 0 0 0 0;\n",
              "      width: 32px;\n",
              "    }\n",
              "\n",
              "    .colab-df-convert:hover {\n",
              "      background-color: #E2EBFA;\n",
              "      box-shadow: 0px 1px 2px rgba(60, 64, 67, 0.3), 0px 1px 3px 1px rgba(60, 64, 67, 0.15);\n",
              "      fill: #174EA6;\n",
              "    }\n",
              "\n",
              "    .colab-df-buttons div {\n",
              "      margin-bottom: 4px;\n",
              "    }\n",
              "\n",
              "    [theme=dark] .colab-df-convert {\n",
              "      background-color: #3B4455;\n",
              "      fill: #D2E3FC;\n",
              "    }\n",
              "\n",
              "    [theme=dark] .colab-df-convert:hover {\n",
              "      background-color: #434B5C;\n",
              "      box-shadow: 0px 1px 3px 1px rgba(0, 0, 0, 0.15);\n",
              "      filter: drop-shadow(0px 1px 2px rgba(0, 0, 0, 0.3));\n",
              "      fill: #FFFFFF;\n",
              "    }\n",
              "  </style>\n",
              "\n",
              "    <script>\n",
              "      const buttonEl =\n",
              "        document.querySelector('#df-b215e45e-f2a6-4b80-bf8a-69dc888141d5 button.colab-df-convert');\n",
              "      buttonEl.style.display =\n",
              "        google.colab.kernel.accessAllowed ? 'block' : 'none';\n",
              "\n",
              "      async function convertToInteractive(key) {\n",
              "        const element = document.querySelector('#df-b215e45e-f2a6-4b80-bf8a-69dc888141d5');\n",
              "        const dataTable =\n",
              "          await google.colab.kernel.invokeFunction('convertToInteractive',\n",
              "                                                    [key], {});\n",
              "        if (!dataTable) return;\n",
              "\n",
              "        const docLinkHtml = 'Like what you see? Visit the ' +\n",
              "          '<a target=\"_blank\" href=https://colab.research.google.com/notebooks/data_table.ipynb>data table notebook</a>'\n",
              "          + ' to learn more about interactive tables.';\n",
              "        element.innerHTML = '';\n",
              "        dataTable['output_type'] = 'display_data';\n",
              "        await google.colab.output.renderOutput(dataTable, element);\n",
              "        const docLink = document.createElement('div');\n",
              "        docLink.innerHTML = docLinkHtml;\n",
              "        element.appendChild(docLink);\n",
              "      }\n",
              "    </script>\n",
              "  </div>\n",
              "\n",
              "\n",
              "<div id=\"df-7f0ceb04-6182-43dc-92fb-864f4f63268c\">\n",
              "  <button class=\"colab-df-quickchart\" onclick=\"quickchart('df-7f0ceb04-6182-43dc-92fb-864f4f63268c')\"\n",
              "            title=\"Suggest charts\"\n",
              "            style=\"display:none;\">\n",
              "\n",
              "<svg xmlns=\"http://www.w3.org/2000/svg\" height=\"24px\"viewBox=\"0 0 24 24\"\n",
              "     width=\"24px\">\n",
              "    <g>\n",
              "        <path d=\"M19 3H5c-1.1 0-2 .9-2 2v14c0 1.1.9 2 2 2h14c1.1 0 2-.9 2-2V5c0-1.1-.9-2-2-2zM9 17H7v-7h2v7zm4 0h-2V7h2v10zm4 0h-2v-4h2v4z\"/>\n",
              "    </g>\n",
              "</svg>\n",
              "  </button>\n",
              "\n",
              "<style>\n",
              "  .colab-df-quickchart {\n",
              "      --bg-color: #E8F0FE;\n",
              "      --fill-color: #1967D2;\n",
              "      --hover-bg-color: #E2EBFA;\n",
              "      --hover-fill-color: #174EA6;\n",
              "      --disabled-fill-color: #AAA;\n",
              "      --disabled-bg-color: #DDD;\n",
              "  }\n",
              "\n",
              "  [theme=dark] .colab-df-quickchart {\n",
              "      --bg-color: #3B4455;\n",
              "      --fill-color: #D2E3FC;\n",
              "      --hover-bg-color: #434B5C;\n",
              "      --hover-fill-color: #FFFFFF;\n",
              "      --disabled-bg-color: #3B4455;\n",
              "      --disabled-fill-color: #666;\n",
              "  }\n",
              "\n",
              "  .colab-df-quickchart {\n",
              "    background-color: var(--bg-color);\n",
              "    border: none;\n",
              "    border-radius: 50%;\n",
              "    cursor: pointer;\n",
              "    display: none;\n",
              "    fill: var(--fill-color);\n",
              "    height: 32px;\n",
              "    padding: 0;\n",
              "    width: 32px;\n",
              "  }\n",
              "\n",
              "  .colab-df-quickchart:hover {\n",
              "    background-color: var(--hover-bg-color);\n",
              "    box-shadow: 0 1px 2px rgba(60, 64, 67, 0.3), 0 1px 3px 1px rgba(60, 64, 67, 0.15);\n",
              "    fill: var(--button-hover-fill-color);\n",
              "  }\n",
              "\n",
              "  .colab-df-quickchart-complete:disabled,\n",
              "  .colab-df-quickchart-complete:disabled:hover {\n",
              "    background-color: var(--disabled-bg-color);\n",
              "    fill: var(--disabled-fill-color);\n",
              "    box-shadow: none;\n",
              "  }\n",
              "\n",
              "  .colab-df-spinner {\n",
              "    border: 2px solid var(--fill-color);\n",
              "    border-color: transparent;\n",
              "    border-bottom-color: var(--fill-color);\n",
              "    animation:\n",
              "      spin 1s steps(1) infinite;\n",
              "  }\n",
              "\n",
              "  @keyframes spin {\n",
              "    0% {\n",
              "      border-color: transparent;\n",
              "      border-bottom-color: var(--fill-color);\n",
              "      border-left-color: var(--fill-color);\n",
              "    }\n",
              "    20% {\n",
              "      border-color: transparent;\n",
              "      border-left-color: var(--fill-color);\n",
              "      border-top-color: var(--fill-color);\n",
              "    }\n",
              "    30% {\n",
              "      border-color: transparent;\n",
              "      border-left-color: var(--fill-color);\n",
              "      border-top-color: var(--fill-color);\n",
              "      border-right-color: var(--fill-color);\n",
              "    }\n",
              "    40% {\n",
              "      border-color: transparent;\n",
              "      border-right-color: var(--fill-color);\n",
              "      border-top-color: var(--fill-color);\n",
              "    }\n",
              "    60% {\n",
              "      border-color: transparent;\n",
              "      border-right-color: var(--fill-color);\n",
              "    }\n",
              "    80% {\n",
              "      border-color: transparent;\n",
              "      border-right-color: var(--fill-color);\n",
              "      border-bottom-color: var(--fill-color);\n",
              "    }\n",
              "    90% {\n",
              "      border-color: transparent;\n",
              "      border-bottom-color: var(--fill-color);\n",
              "    }\n",
              "  }\n",
              "</style>\n",
              "\n",
              "  <script>\n",
              "    async function quickchart(key) {\n",
              "      const quickchartButtonEl =\n",
              "        document.querySelector('#' + key + ' button');\n",
              "      quickchartButtonEl.disabled = true;  // To prevent multiple clicks.\n",
              "      quickchartButtonEl.classList.add('colab-df-spinner');\n",
              "      try {\n",
              "        const charts = await google.colab.kernel.invokeFunction(\n",
              "            'suggestCharts', [key], {});\n",
              "      } catch (error) {\n",
              "        console.error('Error during call to suggestCharts:', error);\n",
              "      }\n",
              "      quickchartButtonEl.classList.remove('colab-df-spinner');\n",
              "      quickchartButtonEl.classList.add('colab-df-quickchart-complete');\n",
              "    }\n",
              "    (() => {\n",
              "      let quickchartButtonEl =\n",
              "        document.querySelector('#df-7f0ceb04-6182-43dc-92fb-864f4f63268c button');\n",
              "      quickchartButtonEl.style.display =\n",
              "        google.colab.kernel.accessAllowed ? 'block' : 'none';\n",
              "    })();\n",
              "  </script>\n",
              "</div>\n",
              "\n",
              "    </div>\n",
              "  </div>\n"
            ],
            "application/vnd.google.colaboratory.intrinsic+json": {
              "type": "dataframe",
              "summary": "{\n  \"name\": \"data\",\n  \"rows\": 5,\n  \"fields\": [\n    {\n      \"column\": \"Name\",\n      \"properties\": {\n        \"dtype\": \"string\",\n        \"num_unique_values\": 5,\n        \"samples\": [\n          \"Queen for Seven Days\",\n          \"Voice 4: Judgment Hour\",\n          \"Memory\"\n        ],\n        \"semantic_type\": \"\",\n        \"description\": \"\"\n      }\n    },\n    {\n      \"column\": \"Aired Date\",\n      \"properties\": {\n        \"dtype\": \"string\",\n        \"num_unique_values\": 5,\n        \"samples\": [\n          \"May 31, 2017 - Aug 3, 2017\",\n          \"Jun 18, 2021 - Jul 31, 2021\",\n          \"Mar 18, 2016 - May 7, 2016\"\n        ],\n        \"semantic_type\": \"\",\n        \"description\": \"\"\n      }\n    },\n    {\n      \"column\": \"Year of release\",\n      \"properties\": {\n        \"dtype\": \"number\",\n        \"std\": 1,\n        \"min\": 2016,\n        \"max\": 2021,\n        \"num_unique_values\": 3,\n        \"samples\": [\n          2017,\n          2016,\n          2021\n        ],\n        \"semantic_type\": \"\",\n        \"description\": \"\"\n      }\n    },\n    {\n      \"column\": \"Original Network\",\n      \"properties\": {\n        \"dtype\": \"string\",\n        \"num_unique_values\": 3,\n        \"samples\": [\n          \"tvN\",\n          \"KBS2\",\n          \"Netflix, tvN\"\n        ],\n        \"semantic_type\": \"\",\n        \"description\": \"\"\n      }\n    },\n    {\n      \"column\": \"Aired On\",\n      \"properties\": {\n        \"dtype\": \"string\",\n        \"num_unique_values\": 3,\n        \"samples\": [\n          \"Saturday, Sunday\",\n          \"Wednesday, Thursday\",\n          \"Friday, Saturday\"\n        ],\n        \"semantic_type\": \"\",\n        \"description\": \"\"\n      }\n    },\n    {\n      \"column\": \"Number of Episodes\",\n      \"properties\": {\n        \"dtype\": \"number\",\n        \"std\": 2,\n        \"min\": 14,\n        \"max\": 20,\n        \"num_unique_values\": 3,\n        \"samples\": [\n          16,\n          20,\n          14\n        ],\n        \"semantic_type\": \"\",\n        \"description\": \"\"\n      }\n    },\n    {\n      \"column\": \"Duration\",\n      \"properties\": {\n        \"dtype\": \"string\",\n        \"num_unique_values\": 5,\n        \"samples\": [\n          \"60 min.\",\n          \"1 hr. 3 min.\",\n          \"1 hr. 5 min.\"\n        ],\n        \"semantic_type\": \"\",\n        \"description\": \"\"\n      }\n    },\n    {\n      \"column\": \"Content Rating\",\n      \"properties\": {\n        \"dtype\": \"category\",\n        \"num_unique_values\": 1,\n        \"samples\": [\n          \"15+ - Teens 15 or older\"\n        ],\n        \"semantic_type\": \"\",\n        \"description\": \"\"\n      }\n    },\n    {\n      \"column\": \"Rating\",\n      \"properties\": {\n        \"dtype\": \"number\",\n        \"std\": 0.0,\n        \"min\": 8.3,\n        \"max\": 8.3,\n        \"num_unique_values\": 1,\n        \"samples\": [\n          8.3\n        ],\n        \"semantic_type\": \"\",\n        \"description\": \"\"\n      }\n    },\n    {\n      \"column\": \"Synopsis\",\n      \"properties\": {\n        \"dtype\": \"string\",\n        \"num_unique_values\": 5,\n        \"samples\": [\n          \"This drama is about the love story between King Jung Jong and his Queen Dan Kyung, who was crowned and deposed within the span of a week due to rival political factions that controlled the king\\u2019s rule. According to historical legend, after the queen was dethroned and removed from the palace, the king would walk to the outside royal pavilion every day and sigh as he gazed at a mountain in her direction. After hearing this, she placed a red skirt, her favorite to wear in the palace, on a rock on the mountain face so he would know that she was well and that she still yearned for him.\"\n        ],\n        \"semantic_type\": \"\",\n        \"description\": \"\"\n      }\n    },\n    {\n      \"column\": \"Genre\",\n      \"properties\": {\n        \"dtype\": \"string\",\n        \"num_unique_values\": 5,\n        \"samples\": [\n          \"Historical, Romance, Melodrama, Political\"\n        ],\n        \"semantic_type\": \"\",\n        \"description\": \"\"\n      }\n    },\n    {\n      \"column\": \"Tags\",\n      \"properties\": {\n        \"dtype\": \"string\",\n        \"num_unique_values\": 5,\n        \"samples\": [\n          \"Joseon Dynasty, Sibling Rivalry, Lying, Revenge, First Love, Strong Female Lead, Love Triangle, Royalty, Jealousy, Drama\"\n        ],\n        \"semantic_type\": \"\",\n        \"description\": \"\"\n      }\n    },\n    {\n      \"column\": \"Director\",\n      \"properties\": {\n        \"dtype\": \"string\",\n        \"num_unique_values\": 5,\n        \"samples\": [\n          \"Lee Jung Sub\"\n        ],\n        \"semantic_type\": \"\",\n        \"description\": \"\"\n      }\n    },\n    {\n      \"column\": \"Screenwriter\",\n      \"properties\": {\n        \"dtype\": \"string\",\n        \"num_unique_values\": 5,\n        \"samples\": [\n          \"Choi Jin Young\"\n        ],\n        \"semantic_type\": \"\",\n        \"description\": \"\"\n      }\n    },\n    {\n      \"column\": \"Cast\",\n      \"properties\": {\n        \"dtype\": \"string\",\n        \"num_unique_values\": 5,\n        \"samples\": [\n          \"Park Min Young, Yeon Woo Jin, Lee Dong Gun, Jang Hyun Sung, Kang Shin Il, Go Bo Gyeol\"\n        ],\n        \"semantic_type\": \"\",\n        \"description\": \"\"\n      }\n    },\n    {\n      \"column\": \"Production companies\",\n      \"properties\": {\n        \"dtype\": \"string\",\n        \"num_unique_values\": 5,\n        \"samples\": [\n          \"Monster Union, OH!BROTHERS Production\"\n        ],\n        \"semantic_type\": \"\",\n        \"description\": \"\"\n      }\n    },\n    {\n      \"column\": \"Rank\",\n      \"properties\": {\n        \"dtype\": \"string\",\n        \"num_unique_values\": 5,\n        \"samples\": [\n          \"#247\"\n        ],\n        \"semantic_type\": \"\",\n        \"description\": \"\"\n      }\n    }\n  ]\n}"
            }
          },
          "metadata": {},
          "execution_count": 112
        }
      ]
    },
    {
      "cell_type": "markdown",
      "source": [
        "## **3.3 Cek Missing Value**"
      ],
      "metadata": {
        "id": "kvzNpbY6IcNh"
      }
    },
    {
      "cell_type": "code",
      "source": [
        "# Cek Missing Value\n",
        "data.isnull().sum()"
      ],
      "metadata": {
        "colab": {
          "base_uri": "https://localhost:8080/",
          "height": 617
        },
        "id": "45j44V608K74",
        "outputId": "6e627f64-d6cd-47ab-afa7-13bdc7241a26"
      },
      "execution_count": 113,
      "outputs": [
        {
          "output_type": "execute_result",
          "data": {
            "text/plain": [
              "Name                    0\n",
              "Aired Date              0\n",
              "Year of release         0\n",
              "Original Network        0\n",
              "Aired On                0\n",
              "Number of Episodes      0\n",
              "Duration                0\n",
              "Content Rating          5\n",
              "Rating                  0\n",
              "Synopsis                0\n",
              "Genre                   0\n",
              "Tags                    0\n",
              "Director                1\n",
              "Screenwriter            1\n",
              "Cast                    0\n",
              "Production companies    2\n",
              "Rank                    0\n",
              "dtype: int64"
            ],
            "text/html": [
              "<div>\n",
              "<style scoped>\n",
              "    .dataframe tbody tr th:only-of-type {\n",
              "        vertical-align: middle;\n",
              "    }\n",
              "\n",
              "    .dataframe tbody tr th {\n",
              "        vertical-align: top;\n",
              "    }\n",
              "\n",
              "    .dataframe thead th {\n",
              "        text-align: right;\n",
              "    }\n",
              "</style>\n",
              "<table border=\"1\" class=\"dataframe\">\n",
              "  <thead>\n",
              "    <tr style=\"text-align: right;\">\n",
              "      <th></th>\n",
              "      <th>0</th>\n",
              "    </tr>\n",
              "  </thead>\n",
              "  <tbody>\n",
              "    <tr>\n",
              "      <th>Name</th>\n",
              "      <td>0</td>\n",
              "    </tr>\n",
              "    <tr>\n",
              "      <th>Aired Date</th>\n",
              "      <td>0</td>\n",
              "    </tr>\n",
              "    <tr>\n",
              "      <th>Year of release</th>\n",
              "      <td>0</td>\n",
              "    </tr>\n",
              "    <tr>\n",
              "      <th>Original Network</th>\n",
              "      <td>0</td>\n",
              "    </tr>\n",
              "    <tr>\n",
              "      <th>Aired On</th>\n",
              "      <td>0</td>\n",
              "    </tr>\n",
              "    <tr>\n",
              "      <th>Number of Episodes</th>\n",
              "      <td>0</td>\n",
              "    </tr>\n",
              "    <tr>\n",
              "      <th>Duration</th>\n",
              "      <td>0</td>\n",
              "    </tr>\n",
              "    <tr>\n",
              "      <th>Content Rating</th>\n",
              "      <td>5</td>\n",
              "    </tr>\n",
              "    <tr>\n",
              "      <th>Rating</th>\n",
              "      <td>0</td>\n",
              "    </tr>\n",
              "    <tr>\n",
              "      <th>Synopsis</th>\n",
              "      <td>0</td>\n",
              "    </tr>\n",
              "    <tr>\n",
              "      <th>Genre</th>\n",
              "      <td>0</td>\n",
              "    </tr>\n",
              "    <tr>\n",
              "      <th>Tags</th>\n",
              "      <td>0</td>\n",
              "    </tr>\n",
              "    <tr>\n",
              "      <th>Director</th>\n",
              "      <td>1</td>\n",
              "    </tr>\n",
              "    <tr>\n",
              "      <th>Screenwriter</th>\n",
              "      <td>1</td>\n",
              "    </tr>\n",
              "    <tr>\n",
              "      <th>Cast</th>\n",
              "      <td>0</td>\n",
              "    </tr>\n",
              "    <tr>\n",
              "      <th>Production companies</th>\n",
              "      <td>2</td>\n",
              "    </tr>\n",
              "    <tr>\n",
              "      <th>Rank</th>\n",
              "      <td>0</td>\n",
              "    </tr>\n",
              "  </tbody>\n",
              "</table>\n",
              "</div><br><label><b>dtype:</b> int64</label>"
            ]
          },
          "metadata": {},
          "execution_count": 113
        }
      ]
    },
    {
      "cell_type": "code",
      "source": [
        "data[data.isnull().any(axis=1)]\n"
      ],
      "metadata": {
        "colab": {
          "base_uri": "https://localhost:8080/",
          "height": 1000
        },
        "id": "6syqR85YDEY9",
        "outputId": "f12290fa-0acc-47b2-e0fb-ba0d40b59d69"
      },
      "execution_count": 114,
      "outputs": [
        {
          "output_type": "execute_result",
          "data": {
            "text/plain": [
              "                             Name                   Aired Date  \\\n",
              "140             One Dollar Lawyer  Sep 23, 2022 - Nov 11, 2022   \n",
              "146                          Duel   Jun 3, 2017 - Jul 23, 2017   \n",
              "171                        Player  Sep 29, 2018 - Nov 11, 2018   \n",
              "190          The Mysterious Class  Nov 12, 2021 - Dec 31, 2021   \n",
              "192  It's Okay, That's Friendship                  Mar 5, 2021   \n",
              "218                     Angry Mom   Mar 18, 2015 - May 7, 2015   \n",
              "230                     Liar Game  Oct 20, 2014 - Nov 25, 2014   \n",
              "240                 Coffee Prince   Jul 2, 2007 - Aug 28, 2007   \n",
              "\n",
              "     Year of release Original Network             Aired On  \\\n",
              "140             2022              SBS     Friday, Saturday   \n",
              "146             2017              OCN     Saturday, Sunday   \n",
              "171             2018              OCN     Saturday, Sunday   \n",
              "190             2021          YouTube               Friday   \n",
              "192             2021          YouTube               Friday   \n",
              "218             2015              MBC  Wednesday, Thursday   \n",
              "230             2014              tvN      Monday, Tuesday   \n",
              "240             2007              MBC      Monday, Tuesday   \n",
              "\n",
              "     Number of Episodes       Duration           Content Rating  Rating  \\\n",
              "140                  12  1 hr. 10 min.                      NaN     8.4   \n",
              "146                  16   1 hr. 3 min.                      NaN     8.4   \n",
              "171                  14   1 hr. 5 min.                      NaN     8.4   \n",
              "190                   8        20 min.                      NaN     8.3   \n",
              "192                   1        20 min.             G - All Ages     8.3   \n",
              "218                  16  1 hr. 10 min.  15+ - Teens 15 or older     8.3   \n",
              "230                  12   1 hr. 3 min.                      NaN     8.3   \n",
              "240                  17        60 min.  15+ - Teens 15 or older     8.3   \n",
              "\n",
              "                                              Synopsis  \\\n",
              "140  Cheon Ji Hun is a lawyer with unusual flair. H...   \n",
              "146  Jang Deuk Cheon, a hardened detective cop whos...   \n",
              "171  A police redemption team consisting of a swind...   \n",
              "190  \"There are 21 students in our class.\" \"What ar...   \n",
              "192  The 12 members of TREASURE take on acting for ...   \n",
              "218  The protagonist, Jo Kang Ja was once legendary...   \n",
              "230  Various contestants take part in a game show w...   \n",
              "240  Choi Han Gyul is the grandson of chairwoman Ba...   \n",
              "\n",
              "                                       Genre  \\\n",
              "140                       Comedy, Law, Drama   \n",
              "146                Thriller, Mystery, Sci-Fi   \n",
              "171        Action, Thriller, Mystery, Comedy   \n",
              "190     Mystery, Horror, Youth, Supernatural   \n",
              "192                             Comedy, Life   \n",
              "218                 Comedy, Drama, Melodrama   \n",
              "230  Thriller, Mystery, Psychological, Drama   \n",
              "240             Food, Comedy, Romance, Drama   \n",
              "\n",
              "                                                  Tags       Director  \\\n",
              "140  Lawyer Male Lead, Former Prosecutor Male Lead,...   Kim Jae Hyun   \n",
              "146  Amnesia, Human Experimentation, Kidnapping, Tr...   Lee Jong Jae   \n",
              "171  Strong Female Lead, Corruption, Hidden Identit...    Go Jae Hyun   \n",
              "190  Student, Ghost, Investigation, High School, Sc...      Ha Han Me   \n",
              "192  Idol Male Lead, Multiple Mains, Transfer Stude...            NaN   \n",
              "218  Independent Female Lead, Mother-Daughter Relat...         Ashbun   \n",
              "230  Naive Female Lead, Debt, Game Show, Swindler M...  Kim Hong Seon   \n",
              "240  Cross-Dressing, Hidden Identity, Boss-Employee...  Lee Yoon Jung   \n",
              "\n",
              "                      Screenwriter  \\\n",
              "140  Choi Soo Jin, Choi Chang Hwan   \n",
              "146                   Kim Yoon Joo   \n",
              "171                 Shin Jae Hyung   \n",
              "190                    Han Song-yi   \n",
              "192                            NaN   \n",
              "218                     Kim Ban Di   \n",
              "230                   Ryu Yong Jae   \n",
              "240     Jang Hyun Joo, Lee Jung Ah   \n",
              "\n",
              "                                                  Cast  \\\n",
              "140  Namkoong Min, Kim Ji Eun, Choi Dae Hoon, Lee D...   \n",
              "146  Jung Jae Young, Kim Jung Eun, Yang Se Jong, Se...   \n",
              "171  Song Seung Heon, Krystal Jung, Lee Si Eon, Tae...   \n",
              "190  Choi Hyun Suk, Park Ji Hoon, Yoshi, Kim Jun Ky...   \n",
              "192  Choi Hyun Suk, Park Ji Hoon, Kim Jun Kyu, Yosh...   \n",
              "218  Kim Hee Sun, Kim Yoo Jung, Ji Hyun Woo, Kim Ji...   \n",
              "230  Lee Sang Yoon, Kim So Eun, Shin Sung Rok, Cha ...   \n",
              "240  Gong Yoo, Yoon Eun Hye, Lee Sun Kyun, Chae Jun...   \n",
              "\n",
              "          Production companies  Rank  \n",
              "140                   Studio S  #141  \n",
              "146           Chorokbaem Media  #147  \n",
              "171                iWill Media  #172  \n",
              "190           YG Entertainment  #191  \n",
              "192           YG Entertainment  #193  \n",
              "218                        NaN  #219  \n",
              "230  Apollo Pictures, Fantagio  #231  \n",
              "240                        NaN  #241  "
            ],
            "text/html": [
              "\n",
              "  <div id=\"df-4682d488-5ece-4f7a-959d-1987de95cdc2\" class=\"colab-df-container\">\n",
              "    <div>\n",
              "<style scoped>\n",
              "    .dataframe tbody tr th:only-of-type {\n",
              "        vertical-align: middle;\n",
              "    }\n",
              "\n",
              "    .dataframe tbody tr th {\n",
              "        vertical-align: top;\n",
              "    }\n",
              "\n",
              "    .dataframe thead th {\n",
              "        text-align: right;\n",
              "    }\n",
              "</style>\n",
              "<table border=\"1\" class=\"dataframe\">\n",
              "  <thead>\n",
              "    <tr style=\"text-align: right;\">\n",
              "      <th></th>\n",
              "      <th>Name</th>\n",
              "      <th>Aired Date</th>\n",
              "      <th>Year of release</th>\n",
              "      <th>Original Network</th>\n",
              "      <th>Aired On</th>\n",
              "      <th>Number of Episodes</th>\n",
              "      <th>Duration</th>\n",
              "      <th>Content Rating</th>\n",
              "      <th>Rating</th>\n",
              "      <th>Synopsis</th>\n",
              "      <th>Genre</th>\n",
              "      <th>Tags</th>\n",
              "      <th>Director</th>\n",
              "      <th>Screenwriter</th>\n",
              "      <th>Cast</th>\n",
              "      <th>Production companies</th>\n",
              "      <th>Rank</th>\n",
              "    </tr>\n",
              "  </thead>\n",
              "  <tbody>\n",
              "    <tr>\n",
              "      <th>140</th>\n",
              "      <td>One Dollar Lawyer</td>\n",
              "      <td>Sep 23, 2022 - Nov 11, 2022</td>\n",
              "      <td>2022</td>\n",
              "      <td>SBS</td>\n",
              "      <td>Friday, Saturday</td>\n",
              "      <td>12</td>\n",
              "      <td>1 hr. 10 min.</td>\n",
              "      <td>NaN</td>\n",
              "      <td>8.4</td>\n",
              "      <td>Cheon Ji Hun is a lawyer with unusual flair. H...</td>\n",
              "      <td>Comedy, Law, Drama</td>\n",
              "      <td>Lawyer Male Lead, Former Prosecutor Male Lead,...</td>\n",
              "      <td>Kim Jae Hyun</td>\n",
              "      <td>Choi Soo Jin, Choi Chang Hwan</td>\n",
              "      <td>Namkoong Min, Kim Ji Eun, Choi Dae Hoon, Lee D...</td>\n",
              "      <td>Studio S</td>\n",
              "      <td>#141</td>\n",
              "    </tr>\n",
              "    <tr>\n",
              "      <th>146</th>\n",
              "      <td>Duel</td>\n",
              "      <td>Jun 3, 2017 - Jul 23, 2017</td>\n",
              "      <td>2017</td>\n",
              "      <td>OCN</td>\n",
              "      <td>Saturday, Sunday</td>\n",
              "      <td>16</td>\n",
              "      <td>1 hr. 3 min.</td>\n",
              "      <td>NaN</td>\n",
              "      <td>8.4</td>\n",
              "      <td>Jang Deuk Cheon, a hardened detective cop whos...</td>\n",
              "      <td>Thriller, Mystery, Sci-Fi</td>\n",
              "      <td>Amnesia, Human Experimentation, Kidnapping, Tr...</td>\n",
              "      <td>Lee Jong Jae</td>\n",
              "      <td>Kim Yoon Joo</td>\n",
              "      <td>Jung Jae Young, Kim Jung Eun, Yang Se Jong, Se...</td>\n",
              "      <td>Chorokbaem Media</td>\n",
              "      <td>#147</td>\n",
              "    </tr>\n",
              "    <tr>\n",
              "      <th>171</th>\n",
              "      <td>Player</td>\n",
              "      <td>Sep 29, 2018 - Nov 11, 2018</td>\n",
              "      <td>2018</td>\n",
              "      <td>OCN</td>\n",
              "      <td>Saturday, Sunday</td>\n",
              "      <td>14</td>\n",
              "      <td>1 hr. 5 min.</td>\n",
              "      <td>NaN</td>\n",
              "      <td>8.4</td>\n",
              "      <td>A police redemption team consisting of a swind...</td>\n",
              "      <td>Action, Thriller, Mystery, Comedy</td>\n",
              "      <td>Strong Female Lead, Corruption, Hidden Identit...</td>\n",
              "      <td>Go Jae Hyun</td>\n",
              "      <td>Shin Jae Hyung</td>\n",
              "      <td>Song Seung Heon, Krystal Jung, Lee Si Eon, Tae...</td>\n",
              "      <td>iWill Media</td>\n",
              "      <td>#172</td>\n",
              "    </tr>\n",
              "    <tr>\n",
              "      <th>190</th>\n",
              "      <td>The Mysterious Class</td>\n",
              "      <td>Nov 12, 2021 - Dec 31, 2021</td>\n",
              "      <td>2021</td>\n",
              "      <td>YouTube</td>\n",
              "      <td>Friday</td>\n",
              "      <td>8</td>\n",
              "      <td>20 min.</td>\n",
              "      <td>NaN</td>\n",
              "      <td>8.3</td>\n",
              "      <td>\"There are 21 students in our class.\" \"What ar...</td>\n",
              "      <td>Mystery, Horror, Youth, Supernatural</td>\n",
              "      <td>Student, Ghost, Investigation, High School, Sc...</td>\n",
              "      <td>Ha Han Me</td>\n",
              "      <td>Han Song-yi</td>\n",
              "      <td>Choi Hyun Suk, Park Ji Hoon, Yoshi, Kim Jun Ky...</td>\n",
              "      <td>YG Entertainment</td>\n",
              "      <td>#191</td>\n",
              "    </tr>\n",
              "    <tr>\n",
              "      <th>192</th>\n",
              "      <td>It's Okay, That's Friendship</td>\n",
              "      <td>Mar 5, 2021</td>\n",
              "      <td>2021</td>\n",
              "      <td>YouTube</td>\n",
              "      <td>Friday</td>\n",
              "      <td>1</td>\n",
              "      <td>20 min.</td>\n",
              "      <td>G - All Ages</td>\n",
              "      <td>8.3</td>\n",
              "      <td>The 12 members of TREASURE take on acting for ...</td>\n",
              "      <td>Comedy, Life</td>\n",
              "      <td>Idol Male Lead, Multiple Mains, Transfer Stude...</td>\n",
              "      <td>NaN</td>\n",
              "      <td>NaN</td>\n",
              "      <td>Choi Hyun Suk, Park Ji Hoon, Kim Jun Kyu, Yosh...</td>\n",
              "      <td>YG Entertainment</td>\n",
              "      <td>#193</td>\n",
              "    </tr>\n",
              "    <tr>\n",
              "      <th>218</th>\n",
              "      <td>Angry Mom</td>\n",
              "      <td>Mar 18, 2015 - May 7, 2015</td>\n",
              "      <td>2015</td>\n",
              "      <td>MBC</td>\n",
              "      <td>Wednesday, Thursday</td>\n",
              "      <td>16</td>\n",
              "      <td>1 hr. 10 min.</td>\n",
              "      <td>15+ - Teens 15 or older</td>\n",
              "      <td>8.3</td>\n",
              "      <td>The protagonist, Jo Kang Ja was once legendary...</td>\n",
              "      <td>Comedy, Drama, Melodrama</td>\n",
              "      <td>Independent Female Lead, Mother-Daughter Relat...</td>\n",
              "      <td>Ashbun</td>\n",
              "      <td>Kim Ban Di</td>\n",
              "      <td>Kim Hee Sun, Kim Yoo Jung, Ji Hyun Woo, Kim Ji...</td>\n",
              "      <td>NaN</td>\n",
              "      <td>#219</td>\n",
              "    </tr>\n",
              "    <tr>\n",
              "      <th>230</th>\n",
              "      <td>Liar Game</td>\n",
              "      <td>Oct 20, 2014 - Nov 25, 2014</td>\n",
              "      <td>2014</td>\n",
              "      <td>tvN</td>\n",
              "      <td>Monday, Tuesday</td>\n",
              "      <td>12</td>\n",
              "      <td>1 hr. 3 min.</td>\n",
              "      <td>NaN</td>\n",
              "      <td>8.3</td>\n",
              "      <td>Various contestants take part in a game show w...</td>\n",
              "      <td>Thriller, Mystery, Psychological, Drama</td>\n",
              "      <td>Naive Female Lead, Debt, Game Show, Swindler M...</td>\n",
              "      <td>Kim Hong Seon</td>\n",
              "      <td>Ryu Yong Jae</td>\n",
              "      <td>Lee Sang Yoon, Kim So Eun, Shin Sung Rok, Cha ...</td>\n",
              "      <td>Apollo Pictures, Fantagio</td>\n",
              "      <td>#231</td>\n",
              "    </tr>\n",
              "    <tr>\n",
              "      <th>240</th>\n",
              "      <td>Coffee Prince</td>\n",
              "      <td>Jul 2, 2007 - Aug 28, 2007</td>\n",
              "      <td>2007</td>\n",
              "      <td>MBC</td>\n",
              "      <td>Monday, Tuesday</td>\n",
              "      <td>17</td>\n",
              "      <td>60 min.</td>\n",
              "      <td>15+ - Teens 15 or older</td>\n",
              "      <td>8.3</td>\n",
              "      <td>Choi Han Gyul is the grandson of chairwoman Ba...</td>\n",
              "      <td>Food, Comedy, Romance, Drama</td>\n",
              "      <td>Cross-Dressing, Hidden Identity, Boss-Employee...</td>\n",
              "      <td>Lee Yoon Jung</td>\n",
              "      <td>Jang Hyun Joo, Lee Jung Ah</td>\n",
              "      <td>Gong Yoo, Yoon Eun Hye, Lee Sun Kyun, Chae Jun...</td>\n",
              "      <td>NaN</td>\n",
              "      <td>#241</td>\n",
              "    </tr>\n",
              "  </tbody>\n",
              "</table>\n",
              "</div>\n",
              "    <div class=\"colab-df-buttons\">\n",
              "\n",
              "  <div class=\"colab-df-container\">\n",
              "    <button class=\"colab-df-convert\" onclick=\"convertToInteractive('df-4682d488-5ece-4f7a-959d-1987de95cdc2')\"\n",
              "            title=\"Convert this dataframe to an interactive table.\"\n",
              "            style=\"display:none;\">\n",
              "\n",
              "  <svg xmlns=\"http://www.w3.org/2000/svg\" height=\"24px\" viewBox=\"0 -960 960 960\">\n",
              "    <path d=\"M120-120v-720h720v720H120Zm60-500h600v-160H180v160Zm220 220h160v-160H400v160Zm0 220h160v-160H400v160ZM180-400h160v-160H180v160Zm440 0h160v-160H620v160ZM180-180h160v-160H180v160Zm440 0h160v-160H620v160Z\"/>\n",
              "  </svg>\n",
              "    </button>\n",
              "\n",
              "  <style>\n",
              "    .colab-df-container {\n",
              "      display:flex;\n",
              "      gap: 12px;\n",
              "    }\n",
              "\n",
              "    .colab-df-convert {\n",
              "      background-color: #E8F0FE;\n",
              "      border: none;\n",
              "      border-radius: 50%;\n",
              "      cursor: pointer;\n",
              "      display: none;\n",
              "      fill: #1967D2;\n",
              "      height: 32px;\n",
              "      padding: 0 0 0 0;\n",
              "      width: 32px;\n",
              "    }\n",
              "\n",
              "    .colab-df-convert:hover {\n",
              "      background-color: #E2EBFA;\n",
              "      box-shadow: 0px 1px 2px rgba(60, 64, 67, 0.3), 0px 1px 3px 1px rgba(60, 64, 67, 0.15);\n",
              "      fill: #174EA6;\n",
              "    }\n",
              "\n",
              "    .colab-df-buttons div {\n",
              "      margin-bottom: 4px;\n",
              "    }\n",
              "\n",
              "    [theme=dark] .colab-df-convert {\n",
              "      background-color: #3B4455;\n",
              "      fill: #D2E3FC;\n",
              "    }\n",
              "\n",
              "    [theme=dark] .colab-df-convert:hover {\n",
              "      background-color: #434B5C;\n",
              "      box-shadow: 0px 1px 3px 1px rgba(0, 0, 0, 0.15);\n",
              "      filter: drop-shadow(0px 1px 2px rgba(0, 0, 0, 0.3));\n",
              "      fill: #FFFFFF;\n",
              "    }\n",
              "  </style>\n",
              "\n",
              "    <script>\n",
              "      const buttonEl =\n",
              "        document.querySelector('#df-4682d488-5ece-4f7a-959d-1987de95cdc2 button.colab-df-convert');\n",
              "      buttonEl.style.display =\n",
              "        google.colab.kernel.accessAllowed ? 'block' : 'none';\n",
              "\n",
              "      async function convertToInteractive(key) {\n",
              "        const element = document.querySelector('#df-4682d488-5ece-4f7a-959d-1987de95cdc2');\n",
              "        const dataTable =\n",
              "          await google.colab.kernel.invokeFunction('convertToInteractive',\n",
              "                                                    [key], {});\n",
              "        if (!dataTable) return;\n",
              "\n",
              "        const docLinkHtml = 'Like what you see? Visit the ' +\n",
              "          '<a target=\"_blank\" href=https://colab.research.google.com/notebooks/data_table.ipynb>data table notebook</a>'\n",
              "          + ' to learn more about interactive tables.';\n",
              "        element.innerHTML = '';\n",
              "        dataTable['output_type'] = 'display_data';\n",
              "        await google.colab.output.renderOutput(dataTable, element);\n",
              "        const docLink = document.createElement('div');\n",
              "        docLink.innerHTML = docLinkHtml;\n",
              "        element.appendChild(docLink);\n",
              "      }\n",
              "    </script>\n",
              "  </div>\n",
              "\n",
              "\n",
              "<div id=\"df-96e661cf-eaa8-4cc1-9b0d-783404b275a6\">\n",
              "  <button class=\"colab-df-quickchart\" onclick=\"quickchart('df-96e661cf-eaa8-4cc1-9b0d-783404b275a6')\"\n",
              "            title=\"Suggest charts\"\n",
              "            style=\"display:none;\">\n",
              "\n",
              "<svg xmlns=\"http://www.w3.org/2000/svg\" height=\"24px\"viewBox=\"0 0 24 24\"\n",
              "     width=\"24px\">\n",
              "    <g>\n",
              "        <path d=\"M19 3H5c-1.1 0-2 .9-2 2v14c0 1.1.9 2 2 2h14c1.1 0 2-.9 2-2V5c0-1.1-.9-2-2-2zM9 17H7v-7h2v7zm4 0h-2V7h2v10zm4 0h-2v-4h2v4z\"/>\n",
              "    </g>\n",
              "</svg>\n",
              "  </button>\n",
              "\n",
              "<style>\n",
              "  .colab-df-quickchart {\n",
              "      --bg-color: #E8F0FE;\n",
              "      --fill-color: #1967D2;\n",
              "      --hover-bg-color: #E2EBFA;\n",
              "      --hover-fill-color: #174EA6;\n",
              "      --disabled-fill-color: #AAA;\n",
              "      --disabled-bg-color: #DDD;\n",
              "  }\n",
              "\n",
              "  [theme=dark] .colab-df-quickchart {\n",
              "      --bg-color: #3B4455;\n",
              "      --fill-color: #D2E3FC;\n",
              "      --hover-bg-color: #434B5C;\n",
              "      --hover-fill-color: #FFFFFF;\n",
              "      --disabled-bg-color: #3B4455;\n",
              "      --disabled-fill-color: #666;\n",
              "  }\n",
              "\n",
              "  .colab-df-quickchart {\n",
              "    background-color: var(--bg-color);\n",
              "    border: none;\n",
              "    border-radius: 50%;\n",
              "    cursor: pointer;\n",
              "    display: none;\n",
              "    fill: var(--fill-color);\n",
              "    height: 32px;\n",
              "    padding: 0;\n",
              "    width: 32px;\n",
              "  }\n",
              "\n",
              "  .colab-df-quickchart:hover {\n",
              "    background-color: var(--hover-bg-color);\n",
              "    box-shadow: 0 1px 2px rgba(60, 64, 67, 0.3), 0 1px 3px 1px rgba(60, 64, 67, 0.15);\n",
              "    fill: var(--button-hover-fill-color);\n",
              "  }\n",
              "\n",
              "  .colab-df-quickchart-complete:disabled,\n",
              "  .colab-df-quickchart-complete:disabled:hover {\n",
              "    background-color: var(--disabled-bg-color);\n",
              "    fill: var(--disabled-fill-color);\n",
              "    box-shadow: none;\n",
              "  }\n",
              "\n",
              "  .colab-df-spinner {\n",
              "    border: 2px solid var(--fill-color);\n",
              "    border-color: transparent;\n",
              "    border-bottom-color: var(--fill-color);\n",
              "    animation:\n",
              "      spin 1s steps(1) infinite;\n",
              "  }\n",
              "\n",
              "  @keyframes spin {\n",
              "    0% {\n",
              "      border-color: transparent;\n",
              "      border-bottom-color: var(--fill-color);\n",
              "      border-left-color: var(--fill-color);\n",
              "    }\n",
              "    20% {\n",
              "      border-color: transparent;\n",
              "      border-left-color: var(--fill-color);\n",
              "      border-top-color: var(--fill-color);\n",
              "    }\n",
              "    30% {\n",
              "      border-color: transparent;\n",
              "      border-left-color: var(--fill-color);\n",
              "      border-top-color: var(--fill-color);\n",
              "      border-right-color: var(--fill-color);\n",
              "    }\n",
              "    40% {\n",
              "      border-color: transparent;\n",
              "      border-right-color: var(--fill-color);\n",
              "      border-top-color: var(--fill-color);\n",
              "    }\n",
              "    60% {\n",
              "      border-color: transparent;\n",
              "      border-right-color: var(--fill-color);\n",
              "    }\n",
              "    80% {\n",
              "      border-color: transparent;\n",
              "      border-right-color: var(--fill-color);\n",
              "      border-bottom-color: var(--fill-color);\n",
              "    }\n",
              "    90% {\n",
              "      border-color: transparent;\n",
              "      border-bottom-color: var(--fill-color);\n",
              "    }\n",
              "  }\n",
              "</style>\n",
              "\n",
              "  <script>\n",
              "    async function quickchart(key) {\n",
              "      const quickchartButtonEl =\n",
              "        document.querySelector('#' + key + ' button');\n",
              "      quickchartButtonEl.disabled = true;  // To prevent multiple clicks.\n",
              "      quickchartButtonEl.classList.add('colab-df-spinner');\n",
              "      try {\n",
              "        const charts = await google.colab.kernel.invokeFunction(\n",
              "            'suggestCharts', [key], {});\n",
              "      } catch (error) {\n",
              "        console.error('Error during call to suggestCharts:', error);\n",
              "      }\n",
              "      quickchartButtonEl.classList.remove('colab-df-spinner');\n",
              "      quickchartButtonEl.classList.add('colab-df-quickchart-complete');\n",
              "    }\n",
              "    (() => {\n",
              "      let quickchartButtonEl =\n",
              "        document.querySelector('#df-96e661cf-eaa8-4cc1-9b0d-783404b275a6 button');\n",
              "      quickchartButtonEl.style.display =\n",
              "        google.colab.kernel.accessAllowed ? 'block' : 'none';\n",
              "    })();\n",
              "  </script>\n",
              "</div>\n",
              "\n",
              "    </div>\n",
              "  </div>\n"
            ],
            "application/vnd.google.colaboratory.intrinsic+json": {
              "type": "dataframe",
              "summary": "{\n  \"name\": \"data[data\",\n  \"rows\": 8,\n  \"fields\": [\n    {\n      \"column\": \"Name\",\n      \"properties\": {\n        \"dtype\": \"string\",\n        \"num_unique_values\": 8,\n        \"samples\": [\n          \"Duel\",\n          \"Angry Mom\",\n          \"One Dollar Lawyer\"\n        ],\n        \"semantic_type\": \"\",\n        \"description\": \"\"\n      }\n    },\n    {\n      \"column\": \"Aired Date\",\n      \"properties\": {\n        \"dtype\": \"string\",\n        \"num_unique_values\": 8,\n        \"samples\": [\n          \"Jun 3, 2017 - Jul 23, 2017\",\n          \"Mar 18, 2015 - May 7, 2015\",\n          \"Sep 23, 2022 - Nov 11, 2022\"\n        ],\n        \"semantic_type\": \"\",\n        \"description\": \"\"\n      }\n    },\n    {\n      \"column\": \"Year of release\",\n      \"properties\": {\n        \"dtype\": \"number\",\n        \"std\": 4,\n        \"min\": 2007,\n        \"max\": 2022,\n        \"num_unique_values\": 7,\n        \"samples\": [\n          2022,\n          2017,\n          2014\n        ],\n        \"semantic_type\": \"\",\n        \"description\": \"\"\n      }\n    },\n    {\n      \"column\": \"Original Network\",\n      \"properties\": {\n        \"dtype\": \"string\",\n        \"num_unique_values\": 5,\n        \"samples\": [\n          \"OCN\",\n          \"tvN\",\n          \"YouTube\"\n        ],\n        \"semantic_type\": \"\",\n        \"description\": \"\"\n      }\n    },\n    {\n      \"column\": \"Aired On\",\n      \"properties\": {\n        \"dtype\": \"string\",\n        \"num_unique_values\": 5,\n        \"samples\": [\n          \"Saturday, Sunday\",\n          \"Monday, Tuesday\",\n          \"Friday\"\n        ],\n        \"semantic_type\": \"\",\n        \"description\": \"\"\n      }\n    },\n    {\n      \"column\": \"Number of Episodes\",\n      \"properties\": {\n        \"dtype\": \"number\",\n        \"std\": 5,\n        \"min\": 1,\n        \"max\": 17,\n        \"num_unique_values\": 6,\n        \"samples\": [\n          12,\n          16,\n          17\n        ],\n        \"semantic_type\": \"\",\n        \"description\": \"\"\n      }\n    },\n    {\n      \"column\": \"Duration\",\n      \"properties\": {\n        \"dtype\": \"string\",\n        \"num_unique_values\": 5,\n        \"samples\": [\n          \"1 hr. 3 min.\",\n          \"60 min.\",\n          \"1 hr. 5 min.\"\n        ],\n        \"semantic_type\": \"\",\n        \"description\": \"\"\n      }\n    },\n    {\n      \"column\": \"Content Rating\",\n      \"properties\": {\n        \"dtype\": \"category\",\n        \"num_unique_values\": 2,\n        \"samples\": [\n          \"15+ - Teens 15 or older\",\n          \"G - All Ages\"\n        ],\n        \"semantic_type\": \"\",\n        \"description\": \"\"\n      }\n    },\n    {\n      \"column\": \"Rating\",\n      \"properties\": {\n        \"dtype\": \"number\",\n        \"std\": 0.05175491695067639,\n        \"min\": 8.3,\n        \"max\": 8.4,\n        \"num_unique_values\": 2,\n        \"samples\": [\n          8.3,\n          8.4\n        ],\n        \"semantic_type\": \"\",\n        \"description\": \"\"\n      }\n    },\n    {\n      \"column\": \"Synopsis\",\n      \"properties\": {\n        \"dtype\": \"string\",\n        \"num_unique_values\": 8,\n        \"samples\": [\n          \"Jang Deuk Cheon, a hardened detective cop whose daughter is kidnapped, begins a chase against great odds to solve the mystery of his situation and find his child before it is too late. He starts to hunt down the suspect using the one clue he has: Two men with the same face were at the crime scene.\",\n          \"The protagonist, Jo Kang Ja was once legendary for being the toughest, most feared troublemaker at her high school in Busan. Due to her pregnancy in her late teens, she drops out of school and tries to become a responsible mother to her daughter, Oh Ah Ran. Fast-forward to the present, Kang Ja is now 34 years old and Ah Ran is a teenager attending high school. The two have a contentious relationship, with Ah Ran ashamed of Kang Ja's unrefined ajumma manners. Meanwhile, in Myungsung High School, when Ah Ran befriends the class outcast Jin Yi Kyung, it makes her the target of the school bullies who make her life hell, yet she's too proud to tell her mother what's happening. When Kang Ja finds out that her daughter is getting bullied, she decides to take matters into her own hands. Unbeknownst to Ah Ran, Kang Ja enrolls in Myungsung High as an undercover student with the false name \\\"Jo Bang Wool\\\" to teach those bullies a lesson. But she ends up unraveling the darker problems within the educational system. Kang Ja makes it her mission to put a stop to the school violence, dig up the flaws of the education system, and school corruption at Myungsung High with the help of Ah Ran and naive, idealistic homeroom teacher Park No Ah.\"\n        ],\n        \"semantic_type\": \"\",\n        \"description\": \"\"\n      }\n    },\n    {\n      \"column\": \"Genre\",\n      \"properties\": {\n        \"dtype\": \"string\",\n        \"num_unique_values\": 8,\n        \"samples\": [\n          \"Thriller, Mystery, Sci-Fi\",\n          \"Comedy, Drama, Melodrama\"\n        ],\n        \"semantic_type\": \"\",\n        \"description\": \"\"\n      }\n    },\n    {\n      \"column\": \"Tags\",\n      \"properties\": {\n        \"dtype\": \"string\",\n        \"num_unique_values\": 8,\n        \"samples\": [\n          \"Amnesia, Human Experimentation, Kidnapping, Tragic Past, Father-Daughter Relationship, Bromance, Investigation, Suspense, Revenge, Murder\",\n          \"Independent Female Lead, Mother-Daughter Relationship, High School, Corruption, Strong Female Lead, School Bullying, Double Identity, Sexual Harassment, Sexual Assault, Smart Female Lead\"\n        ],\n        \"semantic_type\": \"\",\n        \"description\": \"\"\n      }\n    },\n    {\n      \"column\": \"Director\",\n      \"properties\": {\n        \"dtype\": \"string\",\n        \"num_unique_values\": 7,\n        \"samples\": [\n          \"Kim Jae Hyun\",\n          \"Lee Jong Jae\"\n        ],\n        \"semantic_type\": \"\",\n        \"description\": \"\"\n      }\n    },\n    {\n      \"column\": \"Screenwriter\",\n      \"properties\": {\n        \"dtype\": \"string\",\n        \"num_unique_values\": 7,\n        \"samples\": [\n          \"Choi Soo Jin, Choi Chang Hwan\",\n          \"Kim Yoon Joo\"\n        ],\n        \"semantic_type\": \"\",\n        \"description\": \"\"\n      }\n    },\n    {\n      \"column\": \"Cast\",\n      \"properties\": {\n        \"dtype\": \"string\",\n        \"num_unique_values\": 8,\n        \"samples\": [\n          \"Jung Jae Young, Kim Jung Eun, Yang Se Jong, Seo Eun Soo, Kim Ki Doo, Yoon Gyung Ho\",\n          \"Kim Hee Sun, Kim Yoo Jung, Ji Hyun Woo, Kim Ji Soo, Baro, Kim Tae Hoon\"\n        ],\n        \"semantic_type\": \"\",\n        \"description\": \"\"\n      }\n    },\n    {\n      \"column\": \"Production companies\",\n      \"properties\": {\n        \"dtype\": \"string\",\n        \"num_unique_values\": 5,\n        \"samples\": [\n          \"Chorokbaem Media\",\n          \"Apollo Pictures, Fantagio\"\n        ],\n        \"semantic_type\": \"\",\n        \"description\": \"\"\n      }\n    },\n    {\n      \"column\": \"Rank\",\n      \"properties\": {\n        \"dtype\": \"string\",\n        \"num_unique_values\": 8,\n        \"samples\": [\n          \"#147\",\n          \"#219\"\n        ],\n        \"semantic_type\": \"\",\n        \"description\": \"\"\n      }\n    }\n  ]\n}"
            }
          },
          "metadata": {},
          "execution_count": 114
        }
      ]
    },
    {
      "cell_type": "markdown",
      "source": [
        "Terlihat beberapa fitur yang memiliki 9 missing value yaitu Content Rating, Director, Screenwriter dan Production companies yang tersebar dalam 8 baris. karena 8 baris ini presentasinya kecil jadi baris yg ada missing valuenya dihapus saja"
      ],
      "metadata": {
        "id": "RTX4ttpaD3Cx"
      }
    },
    {
      "cell_type": "markdown",
      "source": [
        "## **3.4  Data Duplikat**"
      ],
      "metadata": {
        "id": "5uT-eQO1IvfD"
      }
    },
    {
      "cell_type": "code",
      "source": [
        "# cek duplikat\n",
        "data.duplicated().any()"
      ],
      "metadata": {
        "colab": {
          "base_uri": "https://localhost:8080/"
        },
        "id": "zZxIs23cI1gi",
        "outputId": "b35d747a-fcff-470a-938a-99b6f144e391"
      },
      "execution_count": 115,
      "outputs": [
        {
          "output_type": "execute_result",
          "data": {
            "text/plain": [
              "False"
            ]
          },
          "metadata": {},
          "execution_count": 115
        }
      ]
    },
    {
      "cell_type": "markdown",
      "source": [
        "Tidak ada duplikat dalam dataset ini."
      ],
      "metadata": {
        "id": "jBnlIdbEI23o"
      }
    },
    {
      "cell_type": "markdown",
      "source": [
        "# **4. Analisis Univariat dan Visulisasinya**"
      ],
      "metadata": {
        "id": "bcLOI9BmvZ7z"
      }
    },
    {
      "cell_type": "markdown",
      "source": [
        "## **4.1 Analisis Univariat Tahun Rilis**"
      ],
      "metadata": {
        "id": "AsxOHqgqDyNT"
      }
    },
    {
      "cell_type": "code",
      "source": [
        "# Analisis Univariat Tahun Rilis\n",
        "data['Year of release'].value_counts().sort_index().plot(kind='bar')"
      ],
      "metadata": {
        "colab": {
          "base_uri": "https://localhost:8080/",
          "height": 489
        },
        "id": "52kpfZM6v46T",
        "outputId": "407a9fd7-cf32-410c-c2a8-1569322c43a0"
      },
      "execution_count": 116,
      "outputs": [
        {
          "output_type": "execute_result",
          "data": {
            "text/plain": [
              "<Axes: xlabel='Year of release'>"
            ]
          },
          "metadata": {},
          "execution_count": 116
        },
        {
          "output_type": "display_data",
          "data": {
            "text/plain": [
              "<Figure size 640x480 with 1 Axes>"
            ],
            "image/png": "[encoded data removed]"
          },
          "metadata": {}
        }
      ]
    },
    {
      "cell_type": "markdown",
      "source": [
        "Pada Dataset ini paling banyak K-Drama yang rilis tahun 2021."
      ],
      "metadata": {
        "id": "-bmn1PbzB9FC"
      }
    },
    {
      "cell_type": "markdown",
      "source": [
        "## **4.2 Analisis Univariat Saluran Penyiaran K-Drama**"
      ],
      "metadata": {
        "id": "CkMuLU4eD1iM"
      }
    },
    {
      "cell_type": "code",
      "source": [
        "# Analisis Univariat Saluran Penyiaran K-Drama\n",
        "data['Original Network'].value_counts().plot(kind='bar')"
      ],
      "metadata": {
        "colab": {
          "base_uri": "https://localhost:8080/",
          "height": 618
        },
        "id": "3p6vGjqpv-1S",
        "outputId": "2fd3077d-dbd2-49c3-e957-4853b3c8535f"
      },
      "execution_count": 117,
      "outputs": [
        {
          "output_type": "execute_result",
          "data": {
            "text/plain": [
              "<Axes: xlabel='Original Network'>"
            ]
          },
          "metadata": {},
          "execution_count": 117
        },
        {
          "output_type": "display_data",
          "data": {
            "text/plain": [
              "<Figure size 640x480 with 1 Axes>"
            ],
            "image/png": "[encoded data removed]"
          },
          "metadata": {}
        }
      ]
    },
    {
      "cell_type": "markdown",
      "source": [
        "Terlihat pada dataset ini, k-darama yang ada terbanyak dari saluran tvN."
      ],
      "metadata": {
        "id": "XU8czHoCCHqv"
      }
    },
    {
      "cell_type": "markdown",
      "source": [
        "## **4.3 Analisis Univariat Hari penyiaran K-Drama**"
      ],
      "metadata": {
        "id": "3uzhTJ7vD6Mk"
      }
    },
    {
      "cell_type": "code",
      "source": [
        "# Analisis Univariat Hari penyiaran K-Drama\n",
        "data['Aired On'].value_counts().plot(kind='bar')"
      ],
      "metadata": {
        "colab": {
          "base_uri": "https://localhost:8080/",
          "height": 787
        },
        "id": "dcgaTca_wDiP",
        "outputId": "7aabefc5-4ad9-4bba-baf8-7d80f13c4275"
      },
      "execution_count": 118,
      "outputs": [
        {
          "output_type": "execute_result",
          "data": {
            "text/plain": [
              "<Axes: xlabel='Aired On'>"
            ]
          },
          "metadata": {},
          "execution_count": 118
        },
        {
          "output_type": "display_data",
          "data": {
            "text/plain": [
              "<Figure size 640x480 with 1 Axes>"
            ],
            "image/png": "[encoded data removed]"
          },
          "metadata": {}
        }
      ]
    },
    {
      "cell_type": "markdown",
      "source": [
        "Terlihat pada dataset ini, k-drama yang ada terbanyak di siarkan pada Wednesday, Thursday"
      ],
      "metadata": {
        "id": "UNw4g5vIDAQg"
      }
    },
    {
      "cell_type": "markdown",
      "source": [
        "## **4.4 Analisis Univariat Jumlah Episode K-Drama**"
      ],
      "metadata": {
        "id": "M0oz-owcD9Wc"
      }
    },
    {
      "cell_type": "code",
      "source": [
        "# Analisis UnivariatJumlah Episode K-Drama\n",
        "data['Number of Episodes'].plot(kind='hist', bins=10)"
      ],
      "metadata": {
        "colab": {
          "base_uri": "https://localhost:8080/",
          "height": 448
        },
        "id": "Jor9awWewIEZ",
        "outputId": "7a118aa6-bf78-419d-be54-ac29dc2553bc"
      },
      "execution_count": 119,
      "outputs": [
        {
          "output_type": "execute_result",
          "data": {
            "text/plain": [
              "<Axes: ylabel='Frequency'>"
            ]
          },
          "metadata": {},
          "execution_count": 119
        },
        {
          "output_type": "display_data",
          "data": {
            "text/plain": [
              "<Figure size 640x480 with 1 Axes>"
            ],
            "image/png": "[encoded data removed]"
          },
          "metadata": {}
        }
      ]
    },
    {
      "cell_type": "markdown",
      "source": [
        "Rentang episode 10 -30 mendominasi kebanyakan k-darama dalam dataset ini."
      ],
      "metadata": {
        "id": "Yp_8kO8zDNGN"
      }
    },
    {
      "cell_type": "markdown",
      "source": [
        " ## **4.5 Analisis Univariat Waktu Durasi Tayang K-Drama per episode**"
      ],
      "metadata": {
        "id": "NHXjL27UD_is"
      }
    },
    {
      "cell_type": "code",
      "source": [
        "#Convert Durasi ke dalam menit\n",
        "import re\n",
        "\n",
        "def convert_duration(duration):\n",
        "    # Cari jam dan menit\n",
        "    hours = re.findall(r'(\\d+)\\s*hr', duration)\n",
        "    minutes = re.findall(r'(\\d+)\\s*min', duration)\n",
        "\n",
        "    # Konversi jam ke menit, jika ada\n",
        "    total_minutes = 0\n",
        "    if hours:\n",
        "        total_minutes += int(hours[0]) * 60\n",
        "    if minutes:\n",
        "        total_minutes += int(minutes[0])\n",
        "\n",
        "    return total_minutes\n",
        "\n",
        "# Terapkan fungsi ke kolom 'Duration'\n",
        "data['Duration'] = data['Duration'].apply(convert_duration)\n"
      ],
      "metadata": {
        "id": "jygZOjDVwatX"
      },
      "execution_count": 120,
      "outputs": []
    },
    {
      "cell_type": "code",
      "source": [
        "data['Duration'].plot(kind='hist', bins=10)\n",
        "plt.title('Distribution of Duration')\n",
        "plt.xlabel('Duration (minutes)')\n",
        "plt.ylabel('Frequency')\n",
        "plt.show()"
      ],
      "metadata": {
        "colab": {
          "base_uri": "https://localhost:8080/",
          "height": 472
        },
        "id": "VrEZ9u5OwQxN",
        "outputId": "29580db2-d5c2-4868-9356-8685c1ca0e95"
      },
      "execution_count": 121,
      "outputs": [
        {
          "output_type": "display_data",
          "data": {
            "text/plain": [
              "<Figure size 640x480 with 1 Axes>"
            ],
            "image/png": "[encoded data removed]"
          },
          "metadata": {}
        }
      ]
    },
    {
      "cell_type": "markdown",
      "source": [
        "Kebanyakan K-Drama dalam dataset ini berdurasi 60 - 70 menit."
      ],
      "metadata": {
        "id": "4i4yDybTEOL3"
      }
    },
    {
      "cell_type": "markdown",
      "source": [
        "## **4.6 Analisis Univariat kategori Content Rating usia**  "
      ],
      "metadata": {
        "id": "3mKeJIkUEWLL"
      }
    },
    {
      "cell_type": "code",
      "source": [
        "data['Content Rating'].value_counts().plot(kind='bar')"
      ],
      "metadata": {
        "colab": {
          "base_uri": "https://localhost:8080/",
          "height": 713
        },
        "id": "gePU2oLTw2pT",
        "outputId": "fca6ea74-c00b-405d-f048-649becc22b44"
      },
      "execution_count": 122,
      "outputs": [
        {
          "output_type": "execute_result",
          "data": {
            "text/plain": [
              "<Axes: xlabel='Content Rating'>"
            ]
          },
          "metadata": {},
          "execution_count": 122
        },
        {
          "output_type": "display_data",
          "data": {
            "text/plain": [
              "<Figure size 640x480 with 1 Axes>"
            ],
            "image/png": "[encoded data removed]"
          },
          "metadata": {}
        }
      ]
    },
    {
      "cell_type": "markdown",
      "source": [
        "Kebanayakan K-Drama dataset ini diperuntukkan untuk penonton dengan usia 15 tahun ke atas."
      ],
      "metadata": {
        "id": "xDPfFwhEEjgH"
      }
    },
    {
      "cell_type": "markdown",
      "source": [
        " ## **4.7 Analisis Univariat Rating K-Drama**"
      ],
      "metadata": {
        "id": "CLdRjZX0EtdS"
      }
    },
    {
      "cell_type": "code",
      "source": [
        "data['Rating'].plot(kind='hist', bins=10)\n"
      ],
      "metadata": {
        "colab": {
          "base_uri": "https://localhost:8080/",
          "height": 448
        },
        "id": "GTSCtrhCw7DJ",
        "outputId": "7abdb4a5-a6d8-405c-e0ac-aa88036d4593"
      },
      "execution_count": 123,
      "outputs": [
        {
          "output_type": "execute_result",
          "data": {
            "text/plain": [
              "<Axes: ylabel='Frequency'>"
            ]
          },
          "metadata": {},
          "execution_count": 123
        },
        {
          "output_type": "display_data",
          "data": {
            "text/plain": [
              "<Figure size 640x480 with 1 Axes>"
            ],
            "image/png": "[encoded data removed]"
          },
          "metadata": {}
        }
      ]
    },
    {
      "cell_type": "markdown",
      "source": [
        "Kebanykan K-Drama dalam dataset ini memiliki rating 8,3 - 8,4."
      ],
      "metadata": {
        "id": "gA-mzIcpE5o3"
      }
    },
    {
      "cell_type": "markdown",
      "source": [
        "# **5. Analisis Multivariat dan Visualisasinya**"
      ],
      "metadata": {
        "id": "xab8fWevFEbg"
      }
    },
    {
      "cell_type": "markdown",
      "source": [
        "## **5.1 Analsis Multivariat Rating dengan Jumlah Episode**"
      ],
      "metadata": {
        "id": "Dt2AJ3VtITV1"
      }
    },
    {
      "cell_type": "code",
      "source": [
        "sns.scatterplot(x='Number of Episodes', y='Rating', data=data)\n",
        "plt.title('Rating vs. Number of Episodes')\n",
        "plt.show()\n"
      ],
      "metadata": {
        "colab": {
          "base_uri": "https://localhost:8080/",
          "height": 472
        },
        "id": "3A_VgzpMx5W4",
        "outputId": "3c0cbe3c-e203-47f1-d41c-917094ae1bc2"
      },
      "execution_count": 124,
      "outputs": [
        {
          "output_type": "display_data",
          "data": {
            "text/plain": [
              "<Figure size 640x480 with 1 Axes>"
            ],
            "image/png": "[encoded data removed]"
          },
          "metadata": {}
        }
      ]
    },
    {
      "cell_type": "markdown",
      "source": [
        "K-Drama dengan Rating Tinggi kebanyakan rentang episodenya antara 0 - 40."
      ],
      "metadata": {
        "id": "lxpFJmbMI9yy"
      }
    },
    {
      "cell_type": "markdown",
      "source": [
        "## **5.2 Analsis Multivariat Rating, Content Rating dengan Jumlah Episode**"
      ],
      "metadata": {
        "id": "u8bkjCEQJL8c"
      }
    },
    {
      "cell_type": "code",
      "source": [
        "plt.figure(figsize=(10, 6))\n",
        "sns.scatterplot(x='Number of Episodes', y='Rating', hue='Content Rating', data=data, palette='viridis')\n",
        "plt.title('Content Rating vs. Rating vs. Number of Episodes')\n",
        "plt.show()\n"
      ],
      "metadata": {
        "colab": {
          "base_uri": "https://localhost:8080/",
          "height": 564
        },
        "id": "2A0F1Cb0yEfh",
        "outputId": "16134940-dd43-47d9-ea84-37b2f5fd78a3"
      },
      "execution_count": 125,
      "outputs": [
        {
          "output_type": "display_data",
          "data": {
            "text/plain": [
              "<Figure size 1000x600 with 1 Axes>"
            ],
            "image/png": "[encoded data removed]"
          },
          "metadata": {}
        }
      ]
    },
    {
      "cell_type": "markdown",
      "source": [
        "Tidak terlalu berpengaruh anatara Rating, Content Rating dengan Jumlah Episode."
      ],
      "metadata": {
        "id": "CEuamnp5OpMI"
      }
    },
    {
      "cell_type": "markdown",
      "source": [
        "## **5.3 Analsis Multivariat Rating dengan Genre**"
      ],
      "metadata": {
        "id": "n1bjwjZ0JXDE"
      }
    },
    {
      "cell_type": "code",
      "source": [
        "# Pisahkan genre\n",
        "genre_ratings = data['Genre'].str.get_dummies(',').multiply(data['Rating'], axis=0)\n",
        "genre_avg_ratings = genre_ratings.mean().sort_values(ascending=False)\n",
        "\n",
        "plt.figure(figsize=(12, 8))\n",
        "sns.barplot(x=genre_avg_ratings.index, y=genre_avg_ratings.values)\n",
        "plt.title('Average Rating by Genre')\n",
        "plt.xticks(rotation=90)\n",
        "plt.show()\n"
      ],
      "metadata": {
        "colab": {
          "base_uri": "https://localhost:8080/",
          "height": 843
        },
        "id": "EMG-N7eXyLQ3",
        "outputId": "f143c452-6b46-44fb-cf8a-7c51f78ca4de"
      },
      "execution_count": 126,
      "outputs": [
        {
          "output_type": "stream",
          "name": "stderr",
          "text": [
            "/usr/local/lib/python3.10/dist-packages/IPython/core/pylabtools.py:151: UserWarning: Glyph 13 (\r) missing from current font.\n",
            "  fig.canvas.print_figure(bytes_io, **kw)\n"
          ]
        },
        {
          "output_type": "display_data",
          "data": {
            "text/plain": [
              "<Figure size 1200x800 with 1 Axes>"
            ],
            "image/png": "[encoded data removed]"
          },
          "metadata": {}
        }
      ]
    },
    {
      "cell_type": "markdown",
      "source": [
        "Rating Tinggi K-Drama didominasi Genre Drama, Romance, dan Thriller."
      ],
      "metadata": {
        "id": "72gKk7uxJbu9"
      }
    },
    {
      "cell_type": "markdown",
      "source": [
        "# **6. Data Preparation**"
      ],
      "metadata": {
        "id": "4f0U1sCBIlg3"
      }
    },
    {
      "cell_type": "markdown",
      "source": [
        "## **6.1 Handling Missing Value**"
      ],
      "metadata": {
        "id": "scKg7N9gI9fY"
      }
    },
    {
      "cell_type": "code",
      "source": [
        "data.dropna(inplace=True)"
      ],
      "metadata": {
        "id": "ZnLn5kOgHOlK"
      },
      "execution_count": 127,
      "outputs": []
    },
    {
      "cell_type": "code",
      "source": [
        "# Cek Missing Value\n",
        "data.isnull().sum()"
      ],
      "metadata": {
        "colab": {
          "base_uri": "https://localhost:8080/",
          "height": 617
        },
        "id": "Ro0PvYN5Cq72",
        "outputId": "e983134b-c10e-4f86-8e1f-cdee57eeef22"
      },
      "execution_count": 128,
      "outputs": [
        {
          "output_type": "execute_result",
          "data": {
            "text/plain": [
              "Name                    0\n",
              "Aired Date              0\n",
              "Year of release         0\n",
              "Original Network        0\n",
              "Aired On                0\n",
              "Number of Episodes      0\n",
              "Duration                0\n",
              "Content Rating          0\n",
              "Rating                  0\n",
              "Synopsis                0\n",
              "Genre                   0\n",
              "Tags                    0\n",
              "Director                0\n",
              "Screenwriter            0\n",
              "Cast                    0\n",
              "Production companies    0\n",
              "Rank                    0\n",
              "dtype: int64"
            ],
            "text/html": [
              "<div>\n",
              "<style scoped>\n",
              "    .dataframe tbody tr th:only-of-type {\n",
              "        vertical-align: middle;\n",
              "    }\n",
              "\n",
              "    .dataframe tbody tr th {\n",
              "        vertical-align: top;\n",
              "    }\n",
              "\n",
              "    .dataframe thead th {\n",
              "        text-align: right;\n",
              "    }\n",
              "</style>\n",
              "<table border=\"1\" class=\"dataframe\">\n",
              "  <thead>\n",
              "    <tr style=\"text-align: right;\">\n",
              "      <th></th>\n",
              "      <th>0</th>\n",
              "    </tr>\n",
              "  </thead>\n",
              "  <tbody>\n",
              "    <tr>\n",
              "      <th>Name</th>\n",
              "      <td>0</td>\n",
              "    </tr>\n",
              "    <tr>\n",
              "      <th>Aired Date</th>\n",
              "      <td>0</td>\n",
              "    </tr>\n",
              "    <tr>\n",
              "      <th>Year of release</th>\n",
              "      <td>0</td>\n",
              "    </tr>\n",
              "    <tr>\n",
              "      <th>Original Network</th>\n",
              "      <td>0</td>\n",
              "    </tr>\n",
              "    <tr>\n",
              "      <th>Aired On</th>\n",
              "      <td>0</td>\n",
              "    </tr>\n",
              "    <tr>\n",
              "      <th>Number of Episodes</th>\n",
              "      <td>0</td>\n",
              "    </tr>\n",
              "    <tr>\n",
              "      <th>Duration</th>\n",
              "      <td>0</td>\n",
              "    </tr>\n",
              "    <tr>\n",
              "      <th>Content Rating</th>\n",
              "      <td>0</td>\n",
              "    </tr>\n",
              "    <tr>\n",
              "      <th>Rating</th>\n",
              "      <td>0</td>\n",
              "    </tr>\n",
              "    <tr>\n",
              "      <th>Synopsis</th>\n",
              "      <td>0</td>\n",
              "    </tr>\n",
              "    <tr>\n",
              "      <th>Genre</th>\n",
              "      <td>0</td>\n",
              "    </tr>\n",
              "    <tr>\n",
              "      <th>Tags</th>\n",
              "      <td>0</td>\n",
              "    </tr>\n",
              "    <tr>\n",
              "      <th>Director</th>\n",
              "      <td>0</td>\n",
              "    </tr>\n",
              "    <tr>\n",
              "      <th>Screenwriter</th>\n",
              "      <td>0</td>\n",
              "    </tr>\n",
              "    <tr>\n",
              "      <th>Cast</th>\n",
              "      <td>0</td>\n",
              "    </tr>\n",
              "    <tr>\n",
              "      <th>Production companies</th>\n",
              "      <td>0</td>\n",
              "    </tr>\n",
              "    <tr>\n",
              "      <th>Rank</th>\n",
              "      <td>0</td>\n",
              "    </tr>\n",
              "  </tbody>\n",
              "</table>\n",
              "</div><br><label><b>dtype:</b> int64</label>"
            ]
          },
          "metadata": {},
          "execution_count": 128
        }
      ]
    },
    {
      "cell_type": "markdown",
      "source": [
        "Sekarang tidak ada missing value lagi, data yang semula memiliki 250 data judul film, sekarang hanya ada 242 judul film."
      ],
      "metadata": {
        "id": "qpTj-x07TFKO"
      }
    },
    {
      "cell_type": "markdown",
      "source": [
        "# **7. Model Development dengan Content Based Filtering**"
      ],
      "metadata": {
        "id": "NVID41qUKCBH"
      }
    },
    {
      "cell_type": "markdown",
      "source": [
        "Teknik ini merekomendasikan item yang mirip dengan preferensi pengguna di masa lalu. Content-Based Filtering merekomendasikan item berdasarkan kemiripan fitur  preferensi item yang sudah disukai atau dipilih oleh pengguna di masa a. Dalam kasus ini, fitur yang digunakan adalah genre K-Drama.\n",
        "Teknik yang Digunakan: Biasanya menggunakan similarity measures (salah satunya, cosine similarity) untuk menghitung kemiripan antar item. Rekomendasi dihasilkan dengan memilih item yang memiliki skor kemiripan tertinggi dengan item yang diberikan.\n",
        "\n",
        "Pada tahap ini akan di bangun sistem rekomendasi sederhana Judul K-drama berdasarkan Genre"
      ],
      "metadata": {
        "id": "y9XFMRBBTXWl"
      }
    },
    {
      "cell_type": "markdown",
      "source": [
        "## **7.1 Feature Engineering Representasi Teks**"
      ],
      "metadata": {
        "id": "P6wHMDyohPjT"
      }
    },
    {
      "cell_type": "markdown",
      "source": [
        "Feature Engineering merupakan  teknik rekayasa fitur untuk representasi teks. Teknik ini mengubah teks pada data masukan ke dalam bentuk numerik sehingga dapat digunakan untuk pemodelan. [Feature Engginering](https://www.dicoding.com/academies/319/tutorials/18804)"
      ],
      "metadata": {
        "id": "W8psYr9mkVLd"
      }
    },
    {
      "cell_type": "markdown",
      "source": [
        "TF-IDF (Term Frequency-Inverse Document Frequency) adalah teknik yang digunakan untuk menilai seberapa penting sebuah kata dalam konteks dokumen atau korpus. Pendekatan ini mengatasi kelemahan metode frekuensi kata sederhana dengan melakukan skala ulang berdasarkan seberapa sering kata tersebut muncul di keseluruhan dokumen.\n",
        "\n",
        "Teknik ini mengubah teks pada data masukan ke dalam bentuk numerik sehingga dapat digunakan untuk pemodelan. Pada Feature Engineering ini menggunakan metode Basic vectorization approaches yaitu TF-IDF."
      ],
      "metadata": {
        "id": "b-BufYXdhIb5"
      }
    },
    {
      "cell_type": "markdown",
      "source": [
        "TF-IDF (Term Frequency-Inverse Document Frequency) adalah teknik yang digunakan untuk menilai seberapa penting sebuah kata dalam konteks dokumen atau korpus. Pendekatan ini mengatasi kelemahan metode frekuensi kata sederhana dengan melakukan skala ulang berdasarkan seberapa sering kata tersebut muncul di keseluruhan dokumen.\n",
        "\n",
        "Pendekatan ini menggunakan dua komponen utama:\n",
        "\n",
        "* TF (Term Frequency): Mengukur seberapa sering kata muncul dalam teks, dinormalisasi berdasarkan panjang dokumen.\n",
        "* DF (Inverse Document Frequency): Mengukur seberapa unik kata tersebut dalam seluruh dokumen, sehingga kata yang umum di seluruh korpus diberi bobot lebih rendah.\n",
        "\n",
        "Skor TF-IDF dihitung dengan mengalikan nilai TF dan IDF dari suatu kata. Hasilnya digunakan untuk mengenali istilah-istilah yang penting dalam teks tertentu. [TF-IDF](https://www.dicoding.com/academies/319/tutorials/18804)"
      ],
      "metadata": {
        "id": "WDarAU9lhzdu"
      }
    },
    {
      "cell_type": "markdown",
      "source": [
        "Disini digunakan data Genre Karena penonton biasanya cenderung menyukai konten K-Drama yang meiliki tema Genre yang hampir mirip."
      ],
      "metadata": {
        "id": "z_xb5WYSKrP-"
      }
    },
    {
      "cell_type": "code",
      "source": [
        "from sklearn.feature_extraction.text import TfidfVectorizer\n",
        "\n",
        "# Inisialisasi TfidfVectorizer\n",
        "tf = TfidfVectorizer()\n",
        "\n",
        "# Melakukan perhitungan idf pada data Genre\n",
        "tf.fit(data['Genre'])\n",
        "\n",
        "# Mapping array dari fitur index integer ke fitur Genre\n",
        "tf.get_feature_names_out()"
      ],
      "metadata": {
        "id": "4h6oT6j4KPLl",
        "colab": {
          "base_uri": "https://localhost:8080/"
        },
        "outputId": "166bad40-acbc-4832-d7ef-06ccc281d854"
      },
      "execution_count": 129,
      "outputs": [
        {
          "output_type": "execute_result",
          "data": {
            "text/plain": [
              "array(['action', 'adventure', 'business', 'comedy', 'crime', 'drama',\n",
              "       'family', 'fantasy', 'fi', 'food', 'friendship', 'historical',\n",
              "       'horror', 'law', 'life', 'medical', 'melodrama', 'military',\n",
              "       'music', 'mystery', 'political', 'psychological', 'romance',\n",
              "       'school', 'sci', 'sitcom', 'sports', 'supernatural', 'thriller',\n",
              "       'youth'], dtype=object)"
            ]
          },
          "metadata": {},
          "execution_count": 129
        }
      ]
    },
    {
      "cell_type": "markdown",
      "source": [
        "Terlihat beberapa Genre yang ada dalam dataset."
      ],
      "metadata": {
        "id": "QXi0kgoBlQDm"
      }
    },
    {
      "cell_type": "code",
      "source": [
        "# Melakukan fit lalu ditransformasikan ke bentuk matrix\n",
        "tfidf_matrix = tf.fit_transform(data['Genre'])\n",
        "\n",
        "# Melihat ukuran matrix tfidf\n",
        "tfidf_matrix.shape"
      ],
      "metadata": {
        "colab": {
          "base_uri": "https://localhost:8080/"
        },
        "id": "g1xX2r4cQ5np",
        "outputId": "6c2fa609-6e6e-46b4-e47e-893fb746a236"
      },
      "execution_count": 130,
      "outputs": [
        {
          "output_type": "execute_result",
          "data": {
            "text/plain": [
              "(242, 30)"
            ]
          },
          "metadata": {},
          "execution_count": 130
        }
      ]
    },
    {
      "cell_type": "markdown",
      "source": [
        "Perhatikanlah, matriks yang di miliki berukuran (242, 30). Nilai 242 merupakan ukuran data dan 30 merupakan matrik kategori Genre.\n",
        "\n",
        "Untuk menghasilkan vektor tf-idf dalam bentuk matriks, kita menggunakan fungsi todense()"
      ],
      "metadata": {
        "id": "uRIaEetclCMp"
      }
    },
    {
      "cell_type": "code",
      "source": [
        "# Mengubah vektor tf-idf dalam bentuk matriks dengan fungsi todense()\n",
        "tfidf_matrix.todense()"
      ],
      "metadata": {
        "colab": {
          "base_uri": "https://localhost:8080/"
        },
        "id": "DMK2-Tz6Q-F3",
        "outputId": "5feb55b4-90e2-400d-e600-ededd35ec890"
      },
      "execution_count": 131,
      "outputs": [
        {
          "output_type": "execute_result",
          "data": {
            "text/plain": [
              "matrix([[0.        , 0.        , 0.        , ..., 0.        , 0.        ,\n",
              "         0.        ],\n",
              "        [0.        , 0.        , 0.        , ..., 0.        , 0.41718287,\n",
              "         0.        ],\n",
              "        [0.        , 0.        , 0.        , ..., 0.        , 0.        ,\n",
              "         0.        ],\n",
              "        ...,\n",
              "        [0.        , 0.        , 0.        , ..., 0.        , 0.        ,\n",
              "         0.        ],\n",
              "        [0.        , 0.        , 0.        , ..., 0.        , 0.        ,\n",
              "         0.        ],\n",
              "        [0.5288721 , 0.        , 0.        , ..., 0.        , 0.40599467,\n",
              "         0.        ]])"
            ]
          },
          "metadata": {},
          "execution_count": 131
        }
      ]
    },
    {
      "cell_type": "code",
      "source": [
        "# Membuat dataframe untuk melihat tf-idf matrix\n",
        "# Kolom diisi dengan Judul K-Drama (Name)\n",
        "# Baris diisi dengan Genre\n",
        "\n",
        "pd.DataFrame(\n",
        "    tfidf_matrix.todense(),\n",
        "    columns=tf.get_feature_names_out(),\n",
        "    index=data.Name\n",
        ").sample(22, axis=1).sample(10, axis=0)"
      ],
      "metadata": {
        "colab": {
          "base_uri": "https://localhost:8080/",
          "height": 617
        },
        "id": "GpwBakXAQ_bG",
        "outputId": "8aa34641-d97d-485e-c004-a3061e9c568a"
      },
      "execution_count": 132,
      "outputs": [
        {
          "output_type": "execute_result",
          "data": {
            "text/plain": [
              "                                      supernatural  food  thriller      life  \\\n",
              "Name                                                                           \n",
              "Defendant                                      0.0   0.0  0.446531  0.000000   \n",
              "Team Bulldog: Off-duty Investigation           0.0   0.0  0.000000  0.000000   \n",
              "Gu Family Book                                 0.0   0.0  0.000000  0.000000   \n",
              "Mystic Pop-Up Bar                              0.0   0.0  0.000000  0.000000   \n",
              "Strangers from Hell                            0.0   0.0  0.341998  0.000000   \n",
              "Our Beloved Summer                             0.0   0.0  0.000000  0.528333   \n",
              "If You Wish Upon Me                            0.0   0.0  0.000000  0.523820   \n",
              "Work Later, Drink Now                          0.0   0.0  0.000000  0.712532   \n",
              "One Ordinary Day                               0.0   0.0  0.384232  0.000000   \n",
              "Lost                                           0.0   0.0  0.000000  0.643558   \n",
              "\n",
              "                                       fi  political     drama  melodrama  \\\n",
              "Name                                                                        \n",
              "Defendant                             0.0        0.0  0.358737   0.000000   \n",
              "Team Bulldog: Off-duty Investigation  0.0        0.0  0.387040   0.000000   \n",
              "Gu Family Book                        0.0        0.0  0.000000   0.000000   \n",
              "Mystic Pop-Up Bar                     0.0        0.0  0.000000   0.000000   \n",
              "Strangers from Hell                   0.0        0.0  0.274756   0.000000   \n",
              "Our Beloved Summer                    0.0        0.0  0.325838   0.000000   \n",
              "If You Wish Upon Me                   0.0        0.0  0.323055   0.000000   \n",
              "Work Later, Drink Now                 0.0        0.0  0.439439   0.000000   \n",
              "One Ordinary Day                      0.0        0.0  0.000000   0.000000   \n",
              "Lost                                  0.0        0.0  0.396901   0.654449   \n",
              "\n",
              "                                      military  sitcom  ...  friendship  \\\n",
              "Name                                                    ...               \n",
              "Defendant                                  0.0     0.0  ...         0.0   \n",
              "Team Bulldog: Off-duty Investigation       0.0     0.0  ...         0.0   \n",
              "Gu Family Book                             0.0     0.0  ...         0.0   \n",
              "Mystic Pop-Up Bar                          0.0     0.0  ...         0.0   \n",
              "Strangers from Hell                        0.0     0.0  ...         0.0   \n",
              "Our Beloved Summer                         0.0     0.0  ...         0.0   \n",
              "If You Wish Upon Me                        0.0     0.0  ...         0.0   \n",
              "Work Later, Drink Now                      0.0     0.0  ...         0.0   \n",
              "One Ordinary Day                           0.0     0.0  ...         0.0   \n",
              "Lost                                       0.0     0.0  ...         0.0   \n",
              "\n",
              "                                      music  business  school    comedy  \\\n",
              "Name                                                                      \n",
              "Defendant                               0.0       0.0     0.0  0.000000   \n",
              "Team Bulldog: Off-duty Investigation    0.0       0.0     0.0  0.481761   \n",
              "Gu Family Book                          0.0       0.0     0.0  0.000000   \n",
              "Mystic Pop-Up Bar                       0.0       0.0     0.0  0.371384   \n",
              "Strangers from Hell                     0.0       0.0     0.0  0.000000   \n",
              "Our Beloved Summer                      0.0       0.0     0.0  0.000000   \n",
              "If You Wish Upon Me                     0.0       0.0     0.0  0.000000   \n",
              "Work Later, Drink Now                   0.0       0.0     0.0  0.546984   \n",
              "One Ordinary Day                        0.0       0.0     0.0  0.000000   \n",
              "Lost                                    0.0       0.0     0.0  0.000000   \n",
              "\n",
              "                                         crime   family  sports    horror  \\\n",
              "Name                                                                        \n",
              "Defendant                             0.000000  0.00000     0.0  0.000000   \n",
              "Team Bulldog: Off-duty Investigation  0.000000  0.00000     0.0  0.000000   \n",
              "Gu Family Book                        0.000000  0.00000     0.0  0.000000   \n",
              "Mystic Pop-Up Bar                     0.000000  0.67001     0.0  0.000000   \n",
              "Strangers from Hell                   0.000000  0.00000     0.0  0.679132   \n",
              "Our Beloved Summer                    0.000000  0.00000     0.0  0.000000   \n",
              "If You Wish Upon Me                   0.000000  0.00000     0.0  0.000000   \n",
              "Work Later, Drink Now                 0.000000  0.00000     0.0  0.000000   \n",
              "One Ordinary Day                      0.595698  0.00000     0.0  0.000000   \n",
              "Lost                                  0.000000  0.00000     0.0  0.000000   \n",
              "\n",
              "                                       medical  \n",
              "Name                                            \n",
              "Defendant                             0.000000  \n",
              "Team Bulldog: Off-duty Investigation  0.000000  \n",
              "Gu Family Book                        0.000000  \n",
              "Mystic Pop-Up Bar                     0.000000  \n",
              "Strangers from Hell                   0.000000  \n",
              "Our Beloved Summer                    0.000000  \n",
              "If You Wish Upon Me                   0.725454  \n",
              "Work Later, Drink Now                 0.000000  \n",
              "One Ordinary Day                      0.000000  \n",
              "Lost                                  0.000000  \n",
              "\n",
              "[10 rows x 22 columns]"
            ],
            "text/html": [
              "\n",
              "  <div id=\"df-6ec54297-4b39-4bf2-9ca5-febf12731654\" class=\"colab-df-container\">\n",
              "    <div>\n",
              "<style scoped>\n",
              "    .dataframe tbody tr th:only-of-type {\n",
              "        vertical-align: middle;\n",
              "    }\n",
              "\n",
              "    .dataframe tbody tr th {\n",
              "        vertical-align: top;\n",
              "    }\n",
              "\n",
              "    .dataframe thead th {\n",
              "        text-align: right;\n",
              "    }\n",
              "</style>\n",
              "<table border=\"1\" class=\"dataframe\">\n",
              "  <thead>\n",
              "    <tr style=\"text-align: right;\">\n",
              "      <th></th>\n",
              "      <th>supernatural</th>\n",
              "      <th>food</th>\n",
              "      <th>thriller</th>\n",
              "      <th>life</th>\n",
              "      <th>fi</th>\n",
              "      <th>political</th>\n",
              "      <th>drama</th>\n",
              "      <th>melodrama</th>\n",
              "      <th>military</th>\n",
              "      <th>sitcom</th>\n",
              "      <th>...</th>\n",
              "      <th>friendship</th>\n",
              "      <th>music</th>\n",
              "      <th>business</th>\n",
              "      <th>school</th>\n",
              "      <th>comedy</th>\n",
              "      <th>crime</th>\n",
              "      <th>family</th>\n",
              "      <th>sports</th>\n",
              "      <th>horror</th>\n",
              "      <th>medical</th>\n",
              "    </tr>\n",
              "    <tr>\n",
              "      <th>Name</th>\n",
              "      <th></th>\n",
              "      <th></th>\n",
              "      <th></th>\n",
              "      <th></th>\n",
              "      <th></th>\n",
              "      <th></th>\n",
              "      <th></th>\n",
              "      <th></th>\n",
              "      <th></th>\n",
              "      <th></th>\n",
              "      <th></th>\n",
              "      <th></th>\n",
              "      <th></th>\n",
              "      <th></th>\n",
              "      <th></th>\n",
              "      <th></th>\n",
              "      <th></th>\n",
              "      <th></th>\n",
              "      <th></th>\n",
              "      <th></th>\n",
              "      <th></th>\n",
              "    </tr>\n",
              "  </thead>\n",
              "  <tbody>\n",
              "    <tr>\n",
              "      <th>Defendant</th>\n",
              "      <td>0.0</td>\n",
              "      <td>0.0</td>\n",
              "      <td>0.446531</td>\n",
              "      <td>0.000000</td>\n",
              "      <td>0.0</td>\n",
              "      <td>0.0</td>\n",
              "      <td>0.358737</td>\n",
              "      <td>0.000000</td>\n",
              "      <td>0.0</td>\n",
              "      <td>0.0</td>\n",
              "      <td>...</td>\n",
              "      <td>0.0</td>\n",
              "      <td>0.0</td>\n",
              "      <td>0.0</td>\n",
              "      <td>0.0</td>\n",
              "      <td>0.000000</td>\n",
              "      <td>0.000000</td>\n",
              "      <td>0.00000</td>\n",
              "      <td>0.0</td>\n",
              "      <td>0.000000</td>\n",
              "      <td>0.000000</td>\n",
              "    </tr>\n",
              "    <tr>\n",
              "      <th>Team Bulldog: Off-duty Investigation</th>\n",
              "      <td>0.0</td>\n",
              "      <td>0.0</td>\n",
              "      <td>0.000000</td>\n",
              "      <td>0.000000</td>\n",
              "      <td>0.0</td>\n",
              "      <td>0.0</td>\n",
              "      <td>0.387040</td>\n",
              "      <td>0.000000</td>\n",
              "      <td>0.0</td>\n",
              "      <td>0.0</td>\n",
              "      <td>...</td>\n",
              "      <td>0.0</td>\n",
              "      <td>0.0</td>\n",
              "      <td>0.0</td>\n",
              "      <td>0.0</td>\n",
              "      <td>0.481761</td>\n",
              "      <td>0.000000</td>\n",
              "      <td>0.00000</td>\n",
              "      <td>0.0</td>\n",
              "      <td>0.000000</td>\n",
              "      <td>0.000000</td>\n",
              "    </tr>\n",
              "    <tr>\n",
              "      <th>Gu Family Book</th>\n",
              "      <td>0.0</td>\n",
              "      <td>0.0</td>\n",
              "      <td>0.000000</td>\n",
              "      <td>0.000000</td>\n",
              "      <td>0.0</td>\n",
              "      <td>0.0</td>\n",
              "      <td>0.000000</td>\n",
              "      <td>0.000000</td>\n",
              "      <td>0.0</td>\n",
              "      <td>0.0</td>\n",
              "      <td>...</td>\n",
              "      <td>0.0</td>\n",
              "      <td>0.0</td>\n",
              "      <td>0.0</td>\n",
              "      <td>0.0</td>\n",
              "      <td>0.000000</td>\n",
              "      <td>0.000000</td>\n",
              "      <td>0.00000</td>\n",
              "      <td>0.0</td>\n",
              "      <td>0.000000</td>\n",
              "      <td>0.000000</td>\n",
              "    </tr>\n",
              "    <tr>\n",
              "      <th>Mystic Pop-Up Bar</th>\n",
              "      <td>0.0</td>\n",
              "      <td>0.0</td>\n",
              "      <td>0.000000</td>\n",
              "      <td>0.000000</td>\n",
              "      <td>0.0</td>\n",
              "      <td>0.0</td>\n",
              "      <td>0.000000</td>\n",
              "      <td>0.000000</td>\n",
              "      <td>0.0</td>\n",
              "      <td>0.0</td>\n",
              "      <td>...</td>\n",
              "      <td>0.0</td>\n",
              "      <td>0.0</td>\n",
              "      <td>0.0</td>\n",
              "      <td>0.0</td>\n",
              "      <td>0.371384</td>\n",
              "      <td>0.000000</td>\n",
              "      <td>0.67001</td>\n",
              "      <td>0.0</td>\n",
              "      <td>0.000000</td>\n",
              "      <td>0.000000</td>\n",
              "    </tr>\n",
              "    <tr>\n",
              "      <th>Strangers from Hell</th>\n",
              "      <td>0.0</td>\n",
              "      <td>0.0</td>\n",
              "      <td>0.341998</td>\n",
              "      <td>0.000000</td>\n",
              "      <td>0.0</td>\n",
              "      <td>0.0</td>\n",
              "      <td>0.274756</td>\n",
              "      <td>0.000000</td>\n",
              "      <td>0.0</td>\n",
              "      <td>0.0</td>\n",
              "      <td>...</td>\n",
              "      <td>0.0</td>\n",
              "      <td>0.0</td>\n",
              "      <td>0.0</td>\n",
              "      <td>0.0</td>\n",
              "      <td>0.000000</td>\n",
              "      <td>0.000000</td>\n",
              "      <td>0.00000</td>\n",
              "      <td>0.0</td>\n",
              "      <td>0.679132</td>\n",
              "      <td>0.000000</td>\n",
              "    </tr>\n",
              "    <tr>\n",
              "      <th>Our Beloved Summer</th>\n",
              "      <td>0.0</td>\n",
              "      <td>0.0</td>\n",
              "      <td>0.000000</td>\n",
              "      <td>0.528333</td>\n",
              "      <td>0.0</td>\n",
              "      <td>0.0</td>\n",
              "      <td>0.325838</td>\n",
              "      <td>0.000000</td>\n",
              "      <td>0.0</td>\n",
              "      <td>0.0</td>\n",
              "      <td>...</td>\n",
              "      <td>0.0</td>\n",
              "      <td>0.0</td>\n",
              "      <td>0.0</td>\n",
              "      <td>0.0</td>\n",
              "      <td>0.000000</td>\n",
              "      <td>0.000000</td>\n",
              "      <td>0.00000</td>\n",
              "      <td>0.0</td>\n",
              "      <td>0.000000</td>\n",
              "      <td>0.000000</td>\n",
              "    </tr>\n",
              "    <tr>\n",
              "      <th>If You Wish Upon Me</th>\n",
              "      <td>0.0</td>\n",
              "      <td>0.0</td>\n",
              "      <td>0.000000</td>\n",
              "      <td>0.523820</td>\n",
              "      <td>0.0</td>\n",
              "      <td>0.0</td>\n",
              "      <td>0.323055</td>\n",
              "      <td>0.000000</td>\n",
              "      <td>0.0</td>\n",
              "      <td>0.0</td>\n",
              "      <td>...</td>\n",
              "      <td>0.0</td>\n",
              "      <td>0.0</td>\n",
              "      <td>0.0</td>\n",
              "      <td>0.0</td>\n",
              "      <td>0.000000</td>\n",
              "      <td>0.000000</td>\n",
              "      <td>0.00000</td>\n",
              "      <td>0.0</td>\n",
              "      <td>0.000000</td>\n",
              "      <td>0.725454</td>\n",
              "    </tr>\n",
              "    <tr>\n",
              "      <th>Work Later, Drink Now</th>\n",
              "      <td>0.0</td>\n",
              "      <td>0.0</td>\n",
              "      <td>0.000000</td>\n",
              "      <td>0.712532</td>\n",
              "      <td>0.0</td>\n",
              "      <td>0.0</td>\n",
              "      <td>0.439439</td>\n",
              "      <td>0.000000</td>\n",
              "      <td>0.0</td>\n",
              "      <td>0.0</td>\n",
              "      <td>...</td>\n",
              "      <td>0.0</td>\n",
              "      <td>0.0</td>\n",
              "      <td>0.0</td>\n",
              "      <td>0.0</td>\n",
              "      <td>0.546984</td>\n",
              "      <td>0.000000</td>\n",
              "      <td>0.00000</td>\n",
              "      <td>0.0</td>\n",
              "      <td>0.000000</td>\n",
              "      <td>0.000000</td>\n",
              "    </tr>\n",
              "    <tr>\n",
              "      <th>One Ordinary Day</th>\n",
              "      <td>0.0</td>\n",
              "      <td>0.0</td>\n",
              "      <td>0.384232</td>\n",
              "      <td>0.000000</td>\n",
              "      <td>0.0</td>\n",
              "      <td>0.0</td>\n",
              "      <td>0.000000</td>\n",
              "      <td>0.000000</td>\n",
              "      <td>0.0</td>\n",
              "      <td>0.0</td>\n",
              "      <td>...</td>\n",
              "      <td>0.0</td>\n",
              "      <td>0.0</td>\n",
              "      <td>0.0</td>\n",
              "      <td>0.0</td>\n",
              "      <td>0.000000</td>\n",
              "      <td>0.595698</td>\n",
              "      <td>0.00000</td>\n",
              "      <td>0.0</td>\n",
              "      <td>0.000000</td>\n",
              "      <td>0.000000</td>\n",
              "    </tr>\n",
              "    <tr>\n",
              "      <th>Lost</th>\n",
              "      <td>0.0</td>\n",
              "      <td>0.0</td>\n",
              "      <td>0.000000</td>\n",
              "      <td>0.643558</td>\n",
              "      <td>0.0</td>\n",
              "      <td>0.0</td>\n",
              "      <td>0.396901</td>\n",
              "      <td>0.654449</td>\n",
              "      <td>0.0</td>\n",
              "      <td>0.0</td>\n",
              "      <td>...</td>\n",
              "      <td>0.0</td>\n",
              "      <td>0.0</td>\n",
              "      <td>0.0</td>\n",
              "      <td>0.0</td>\n",
              "      <td>0.000000</td>\n",
              "      <td>0.000000</td>\n",
              "      <td>0.00000</td>\n",
              "      <td>0.0</td>\n",
              "      <td>0.000000</td>\n",
              "      <td>0.000000</td>\n",
              "    </tr>\n",
              "  </tbody>\n",
              "</table>\n",
              "<p>10 rows × 22 columns</p>\n",
              "</div>\n",
              "    <div class=\"colab-df-buttons\">\n",
              "\n",
              "  <div class=\"colab-df-container\">\n",
              "    <button class=\"colab-df-convert\" onclick=\"convertToInteractive('df-6ec54297-4b39-4bf2-9ca5-febf12731654')\"\n",
              "            title=\"Convert this dataframe to an interactive table.\"\n",
              "            style=\"display:none;\">\n",
              "\n",
              "  <svg xmlns=\"http://www.w3.org/2000/svg\" height=\"24px\" viewBox=\"0 -960 960 960\">\n",
              "    <path d=\"M120-120v-720h720v720H120Zm60-500h600v-160H180v160Zm220 220h160v-160H400v160Zm0 220h160v-160H400v160ZM180-400h160v-160H180v160Zm440 0h160v-160H620v160ZM180-180h160v-160H180v160Zm440 0h160v-160H620v160Z\"/>\n",
              "  </svg>\n",
              "    </button>\n",
              "\n",
              "  <style>\n",
              "    .colab-df-container {\n",
              "      display:flex;\n",
              "      gap: 12px;\n",
              "    }\n",
              "\n",
              "    .colab-df-convert {\n",
              "      background-color: #E8F0FE;\n",
              "      border: none;\n",
              "      border-radius: 50%;\n",
              "      cursor: pointer;\n",
              "      display: none;\n",
              "      fill: #1967D2;\n",
              "      height: 32px;\n",
              "      padding: 0 0 0 0;\n",
              "      width: 32px;\n",
              "    }\n",
              "\n",
              "    .colab-df-convert:hover {\n",
              "      background-color: #E2EBFA;\n",
              "      box-shadow: 0px 1px 2px rgba(60, 64, 67, 0.3), 0px 1px 3px 1px rgba(60, 64, 67, 0.15);\n",
              "      fill: #174EA6;\n",
              "    }\n",
              "\n",
              "    .colab-df-buttons div {\n",
              "      margin-bottom: 4px;\n",
              "    }\n",
              "\n",
              "    [theme=dark] .colab-df-convert {\n",
              "      background-color: #3B4455;\n",
              "      fill: #D2E3FC;\n",
              "    }\n",
              "\n",
              "    [theme=dark] .colab-df-convert:hover {\n",
              "      background-color: #434B5C;\n",
              "      box-shadow: 0px 1px 3px 1px rgba(0, 0, 0, 0.15);\n",
              "      filter: drop-shadow(0px 1px 2px rgba(0, 0, 0, 0.3));\n",
              "      fill: #FFFFFF;\n",
              "    }\n",
              "  </style>\n",
              "\n",
              "    <script>\n",
              "      const buttonEl =\n",
              "        document.querySelector('#df-6ec54297-4b39-4bf2-9ca5-febf12731654 button.colab-df-convert');\n",
              "      buttonEl.style.display =\n",
              "        google.colab.kernel.accessAllowed ? 'block' : 'none';\n",
              "\n",
              "      async function convertToInteractive(key) {\n",
              "        const element = document.querySelector('#df-6ec54297-4b39-4bf2-9ca5-febf12731654');\n",
              "        const dataTable =\n",
              "          await google.colab.kernel.invokeFunction('convertToInteractive',\n",
              "                                                    [key], {});\n",
              "        if (!dataTable) return;\n",
              "\n",
              "        const docLinkHtml = 'Like what you see? Visit the ' +\n",
              "          '<a target=\"_blank\" href=https://colab.research.google.com/notebooks/data_table.ipynb>data table notebook</a>'\n",
              "          + ' to learn more about interactive tables.';\n",
              "        element.innerHTML = '';\n",
              "        dataTable['output_type'] = 'display_data';\n",
              "        await google.colab.output.renderOutput(dataTable, element);\n",
              "        const docLink = document.createElement('div');\n",
              "        docLink.innerHTML = docLinkHtml;\n",
              "        element.appendChild(docLink);\n",
              "      }\n",
              "    </script>\n",
              "  </div>\n",
              "\n",
              "\n",
              "<div id=\"df-fe42e408-b7d5-4112-9d08-b11ad7e28103\">\n",
              "  <button class=\"colab-df-quickchart\" onclick=\"quickchart('df-fe42e408-b7d5-4112-9d08-b11ad7e28103')\"\n",
              "            title=\"Suggest charts\"\n",
              "            style=\"display:none;\">\n",
              "\n",
              "<svg xmlns=\"http://www.w3.org/2000/svg\" height=\"24px\"viewBox=\"0 0 24 24\"\n",
              "     width=\"24px\">\n",
              "    <g>\n",
              "        <path d=\"M19 3H5c-1.1 0-2 .9-2 2v14c0 1.1.9 2 2 2h14c1.1 0 2-.9 2-2V5c0-1.1-.9-2-2-2zM9 17H7v-7h2v7zm4 0h-2V7h2v10zm4 0h-2v-4h2v4z\"/>\n",
              "    </g>\n",
              "</svg>\n",
              "  </button>\n",
              "\n",
              "<style>\n",
              "  .colab-df-quickchart {\n",
              "      --bg-color: #E8F0FE;\n",
              "      --fill-color: #1967D2;\n",
              "      --hover-bg-color: #E2EBFA;\n",
              "      --hover-fill-color: #174EA6;\n",
              "      --disabled-fill-color: #AAA;\n",
              "      --disabled-bg-color: #DDD;\n",
              "  }\n",
              "\n",
              "  [theme=dark] .colab-df-quickchart {\n",
              "      --bg-color: #3B4455;\n",
              "      --fill-color: #D2E3FC;\n",
              "      --hover-bg-color: #434B5C;\n",
              "      --hover-fill-color: #FFFFFF;\n",
              "      --disabled-bg-color: #3B4455;\n",
              "      --disabled-fill-color: #666;\n",
              "  }\n",
              "\n",
              "  .colab-df-quickchart {\n",
              "    background-color: var(--bg-color);\n",
              "    border: none;\n",
              "    border-radius: 50%;\n",
              "    cursor: pointer;\n",
              "    display: none;\n",
              "    fill: var(--fill-color);\n",
              "    height: 32px;\n",
              "    padding: 0;\n",
              "    width: 32px;\n",
              "  }\n",
              "\n",
              "  .colab-df-quickchart:hover {\n",
              "    background-color: var(--hover-bg-color);\n",
              "    box-shadow: 0 1px 2px rgba(60, 64, 67, 0.3), 0 1px 3px 1px rgba(60, 64, 67, 0.15);\n",
              "    fill: var(--button-hover-fill-color);\n",
              "  }\n",
              "\n",
              "  .colab-df-quickchart-complete:disabled,\n",
              "  .colab-df-quickchart-complete:disabled:hover {\n",
              "    background-color: var(--disabled-bg-color);\n",
              "    fill: var(--disabled-fill-color);\n",
              "    box-shadow: none;\n",
              "  }\n",
              "\n",
              "  .colab-df-spinner {\n",
              "    border: 2px solid var(--fill-color);\n",
              "    border-color: transparent;\n",
              "    border-bottom-color: var(--fill-color);\n",
              "    animation:\n",
              "      spin 1s steps(1) infinite;\n",
              "  }\n",
              "\n",
              "  @keyframes spin {\n",
              "    0% {\n",
              "      border-color: transparent;\n",
              "      border-bottom-color: var(--fill-color);\n",
              "      border-left-color: var(--fill-color);\n",
              "    }\n",
              "    20% {\n",
              "      border-color: transparent;\n",
              "      border-left-color: var(--fill-color);\n",
              "      border-top-color: var(--fill-color);\n",
              "    }\n",
              "    30% {\n",
              "      border-color: transparent;\n",
              "      border-left-color: var(--fill-color);\n",
              "      border-top-color: var(--fill-color);\n",
              "      border-right-color: var(--fill-color);\n",
              "    }\n",
              "    40% {\n",
              "      border-color: transparent;\n",
              "      border-right-color: var(--fill-color);\n",
              "      border-top-color: var(--fill-color);\n",
              "    }\n",
              "    60% {\n",
              "      border-color: transparent;\n",
              "      border-right-color: var(--fill-color);\n",
              "    }\n",
              "    80% {\n",
              "      border-color: transparent;\n",
              "      border-right-color: var(--fill-color);\n",
              "      border-bottom-color: var(--fill-color);\n",
              "    }\n",
              "    90% {\n",
              "      border-color: transparent;\n",
              "      border-bottom-color: var(--fill-color);\n",
              "    }\n",
              "  }\n",
              "</style>\n",
              "\n",
              "  <script>\n",
              "    async function quickchart(key) {\n",
              "      const quickchartButtonEl =\n",
              "        document.querySelector('#' + key + ' button');\n",
              "      quickchartButtonEl.disabled = true;  // To prevent multiple clicks.\n",
              "      quickchartButtonEl.classList.add('colab-df-spinner');\n",
              "      try {\n",
              "        const charts = await google.colab.kernel.invokeFunction(\n",
              "            'suggestCharts', [key], {});\n",
              "      } catch (error) {\n",
              "        console.error('Error during call to suggestCharts:', error);\n",
              "      }\n",
              "      quickchartButtonEl.classList.remove('colab-df-spinner');\n",
              "      quickchartButtonEl.classList.add('colab-df-quickchart-complete');\n",
              "    }\n",
              "    (() => {\n",
              "      let quickchartButtonEl =\n",
              "        document.querySelector('#df-fe42e408-b7d5-4112-9d08-b11ad7e28103 button');\n",
              "      quickchartButtonEl.style.display =\n",
              "        google.colab.kernel.accessAllowed ? 'block' : 'none';\n",
              "    })();\n",
              "  </script>\n",
              "</div>\n",
              "\n",
              "    </div>\n",
              "  </div>\n"
            ],
            "application/vnd.google.colaboratory.intrinsic+json": {
              "type": "dataframe"
            }
          },
          "metadata": {},
          "execution_count": 132
        }
      ]
    },
    {
      "cell_type": "markdown",
      "source": [
        "Output matriks tf-idf di atas menunjukkan beberapa judul k-drama dan kecondongan Kategori genrenya. Karena penonton biasanya cenderung menyukai konten K-Drama yang meiliki tema Genre yang hampir mirip.\n",
        "\n",
        "Sampai di sini, telah berhasil diidentifikasi  representasi fitur penting dari setiap kategori Genre dengan fungsi tfidfvectorizer, juga telah dihasilkan matriks yang menunjukkan korelasi antara Genre dengan Name (Judul K-Drama). Selanjutnya, akan dihitung derajat kesamaan antara satu judul K-Drama dengan K-Drama lainnya untuk menghasilkan kandidat Judul K-Drama yang akan direkomendasikan."
      ],
      "metadata": {
        "id": "lpvXrw5Bldru"
      }
    },
    {
      "cell_type": "markdown",
      "source": [
        "## **7.2 Similarity Measure (Derajat Kesamaan)**"
      ],
      "metadata": {
        "id": "l08RszYCibC0"
      }
    },
    {
      "cell_type": "markdown",
      "source": [
        "Dalam sistem rekomendasi, tingkat kesamaan atau degree of similarity adalah ukuran seberapa mirip dua item. Disebut juga sebagai similarity function, fungsi ini menghitung kesamaan antara dua item\n",
        "* Semakin besar jarak, kesamaan semakin kecil (menuju nol).\n",
        "* Semakin kecil jarak, kesamaan semakin besar (menuju satu).\n",
        "\n",
        "Kesamaan berbanding terbalik dengan jarak: semakin kecil jarak antar item, semakin tinggi tingkat kesamaannya. [Similarity Measure](https://www.dicoding.com/academies/319/tutorials/17128).\n",
        "\n",
        "Untuk tingkat kesamaan ini digunakan Cosine Similarity."
      ],
      "metadata": {
        "id": "o3ZW5h0EjNSY"
      }
    },
    {
      "cell_type": "markdown",
      "source": [
        "Cosine Similarity mengukur kesamaan antara dua vektor dan menentukan apakah kedua vektor tersebut menunjuk ke arah yang sama. Ia menghitung sudut cosinus antara dua vektor. Semakin kecil sudut cosinus, semakin besar nilai cosine similarity. [Cosine Similarity](https://www.dicoding.com/academies/319/tutorials/17128)."
      ],
      "metadata": {
        "id": "R2n-utgIi4JR"
      }
    },
    {
      "cell_type": "code",
      "source": [
        "from sklearn.metrics.pairwise import cosine_similarity\n",
        "\n",
        "# Menghitung cosine similarity pada matrix tf-idf\n",
        "cosine_sim = cosine_similarity(tfidf_matrix)\n",
        "cosine_sim"
      ],
      "metadata": {
        "colab": {
          "base_uri": "https://localhost:8080/"
        },
        "id": "Kcu7yhGiSDDH",
        "outputId": "8c52ce24-d0bc-4e8f-92e5-a3c93c0e1e32"
      },
      "execution_count": 133,
      "outputs": [
        {
          "output_type": "execute_result",
          "data": {
            "text/plain": [
              "array([[1.        , 0.        , 0.2306812 , ..., 0.42872005, 0.        ,\n",
              "        0.        ],\n",
              "       [0.        , 1.        , 0.07879818, ..., 0.10609312, 0.08910993,\n",
              "        0.57648491],\n",
              "       [0.2306812 , 0.07879818, 1.        , ..., 0.31810656, 0.06869611,\n",
              "        0.        ],\n",
              "       ...,\n",
              "       [0.42872005, 0.10609312, 0.31810656, ..., 1.        , 0.09249177,\n",
              "        0.        ],\n",
              "       [0.        , 0.08910993, 0.06869611, ..., 0.09249177, 1.        ,\n",
              "        0.        ],\n",
              "       [0.        , 0.57648491, 0.        , ..., 0.        , 0.        ,\n",
              "        1.        ]])"
            ]
          },
          "metadata": {},
          "execution_count": 133
        }
      ]
    },
    {
      "cell_type": "markdown",
      "source": [
        "Pada tahapan ini, dihitunh cosine similarity dataframe tfidf_matrix yang diperoleh pada tahapan sebelumnya. Dengan satu baris kode untuk memanggil fungsi cosine similarity dari library sklearn, kita telah berhasil menghitung kesamaan (similarity) antar restoran. Kode di atas menghasilkan keluaran berupa matriks kesamaan dalam bentuk array.\n",
        "\n",
        "Selanjutnya, akan di lihat matriks kesamaan setiap Name (Judul K-Drama) dengan menampilkan Judul K-Drama (Name) dalam 5 sampel kolom (axis = 1) dan 10 sampel baris (axis=0)."
      ],
      "metadata": {
        "id": "8v-EZyD4mVYH"
      }
    },
    {
      "cell_type": "code",
      "source": [
        "# Membuat dataframe dari variabel cosine_sim dengan baris dan kolom berupa Judul K-Drama (Name)\n",
        "cosine_sim_df = pd.DataFrame(cosine_sim, index=data['Name'], columns=data['Name'])\n",
        "print('Shape:', cosine_sim_df.shape)\n",
        "\n",
        "# Melihat similarity matrix pada setiap Name (Judul K-Drama)\n",
        "cosine_sim_df.sample(5, axis=1).sample(10, axis=0)"
      ],
      "metadata": {
        "colab": {
          "base_uri": "https://localhost:8080/",
          "height": 412
        },
        "id": "THxt1h_4SGeM",
        "outputId": "1fa8d5ba-95a6-4d43-d63f-e72fe18eb49a"
      },
      "execution_count": 134,
      "outputs": [
        {
          "output_type": "stream",
          "name": "stdout",
          "text": [
            "Shape: (242, 242)\n"
          ]
        },
        {
          "output_type": "execute_result",
          "data": {
            "text/plain": [
              "Name                 Stranger  Squid Game  Suspicious Partner    Circle  \\\n",
              "Name                                                                      \n",
              "Gu Family Book       0.000000    0.324604            0.104383  0.000000   \n",
              "D.P.                 0.096334    0.377194            0.149621  0.000000   \n",
              "Chicago Typewriter   0.000000    0.000000            0.266044  0.000000   \n",
              "The Crowned Clown    0.000000    0.000000            0.097083  0.000000   \n",
              "Leverage             0.175172    0.520897            0.181731  0.124977   \n",
              "Hello Monster        0.494015    0.532992            0.189617  0.265354   \n",
              "God's Quiz: Reboot   0.210008    0.226578            0.000000  0.149832   \n",
              "My Liberation Notes  0.133159    0.143665            0.121461  0.000000   \n",
              "Tunnel               0.254709    0.274805            0.129856  0.910614   \n",
              "Tomorrow             0.317014    0.694754            0.193133  0.137457   \n",
              "\n",
              "Name                 Nine: Nine Times Time Travel  \n",
              "Name                                               \n",
              "Gu Family Book                           0.114643  \n",
              "D.P.                                     0.000000  \n",
              "Chicago Typewriter                       0.583780  \n",
              "The Crowned Clown                        0.106626  \n",
              "Leverage                                 0.192860  \n",
              "Hello Monster                            0.201229  \n",
              "God's Quiz: Reboot                       0.231214  \n",
              "My Liberation Notes                      0.133400  \n",
              "Tunnel                                   0.137808  \n",
              "Tomorrow                                 0.000000  "
            ],
            "text/html": [
              "\n",
              "  <div id=\"df-9a12ea8c-682e-4191-99e9-64d5fc38a36d\" class=\"colab-df-container\">\n",
              "    <div>\n",
              "<style scoped>\n",
              "    .dataframe tbody tr th:only-of-type {\n",
              "        vertical-align: middle;\n",
              "    }\n",
              "\n",
              "    .dataframe tbody tr th {\n",
              "        vertical-align: top;\n",
              "    }\n",
              "\n",
              "    .dataframe thead th {\n",
              "        text-align: right;\n",
              "    }\n",
              "</style>\n",
              "<table border=\"1\" class=\"dataframe\">\n",
              "  <thead>\n",
              "    <tr style=\"text-align: right;\">\n",
              "      <th>Name</th>\n",
              "      <th>Stranger</th>\n",
              "      <th>Squid Game</th>\n",
              "      <th>Suspicious Partner</th>\n",
              "      <th>Circle</th>\n",
              "      <th>Nine: Nine Times Time Travel</th>\n",
              "    </tr>\n",
              "    <tr>\n",
              "      <th>Name</th>\n",
              "      <th></th>\n",
              "      <th></th>\n",
              "      <th></th>\n",
              "      <th></th>\n",
              "      <th></th>\n",
              "    </tr>\n",
              "  </thead>\n",
              "  <tbody>\n",
              "    <tr>\n",
              "      <th>Gu Family Book</th>\n",
              "      <td>0.000000</td>\n",
              "      <td>0.324604</td>\n",
              "      <td>0.104383</td>\n",
              "      <td>0.000000</td>\n",
              "      <td>0.114643</td>\n",
              "    </tr>\n",
              "    <tr>\n",
              "      <th>D.P.</th>\n",
              "      <td>0.096334</td>\n",
              "      <td>0.377194</td>\n",
              "      <td>0.149621</td>\n",
              "      <td>0.000000</td>\n",
              "      <td>0.000000</td>\n",
              "    </tr>\n",
              "    <tr>\n",
              "      <th>Chicago Typewriter</th>\n",
              "      <td>0.000000</td>\n",
              "      <td>0.000000</td>\n",
              "      <td>0.266044</td>\n",
              "      <td>0.000000</td>\n",
              "      <td>0.583780</td>\n",
              "    </tr>\n",
              "    <tr>\n",
              "      <th>The Crowned Clown</th>\n",
              "      <td>0.000000</td>\n",
              "      <td>0.000000</td>\n",
              "      <td>0.097083</td>\n",
              "      <td>0.000000</td>\n",
              "      <td>0.106626</td>\n",
              "    </tr>\n",
              "    <tr>\n",
              "      <th>Leverage</th>\n",
              "      <td>0.175172</td>\n",
              "      <td>0.520897</td>\n",
              "      <td>0.181731</td>\n",
              "      <td>0.124977</td>\n",
              "      <td>0.192860</td>\n",
              "    </tr>\n",
              "    <tr>\n",
              "      <th>Hello Monster</th>\n",
              "      <td>0.494015</td>\n",
              "      <td>0.532992</td>\n",
              "      <td>0.189617</td>\n",
              "      <td>0.265354</td>\n",
              "      <td>0.201229</td>\n",
              "    </tr>\n",
              "    <tr>\n",
              "      <th>God's Quiz: Reboot</th>\n",
              "      <td>0.210008</td>\n",
              "      <td>0.226578</td>\n",
              "      <td>0.000000</td>\n",
              "      <td>0.149832</td>\n",
              "      <td>0.231214</td>\n",
              "    </tr>\n",
              "    <tr>\n",
              "      <th>My Liberation Notes</th>\n",
              "      <td>0.133159</td>\n",
              "      <td>0.143665</td>\n",
              "      <td>0.121461</td>\n",
              "      <td>0.000000</td>\n",
              "      <td>0.133400</td>\n",
              "    </tr>\n",
              "    <tr>\n",
              "      <th>Tunnel</th>\n",
              "      <td>0.254709</td>\n",
              "      <td>0.274805</td>\n",
              "      <td>0.129856</td>\n",
              "      <td>0.910614</td>\n",
              "      <td>0.137808</td>\n",
              "    </tr>\n",
              "    <tr>\n",
              "      <th>Tomorrow</th>\n",
              "      <td>0.317014</td>\n",
              "      <td>0.694754</td>\n",
              "      <td>0.193133</td>\n",
              "      <td>0.137457</td>\n",
              "      <td>0.000000</td>\n",
              "    </tr>\n",
              "  </tbody>\n",
              "</table>\n",
              "</div>\n",
              "    <div class=\"colab-df-buttons\">\n",
              "\n",
              "  <div class=\"colab-df-container\">\n",
              "    <button class=\"colab-df-convert\" onclick=\"convertToInteractive('df-9a12ea8c-682e-4191-99e9-64d5fc38a36d')\"\n",
              "            title=\"Convert this dataframe to an interactive table.\"\n",
              "            style=\"display:none;\">\n",
              "\n",
              "  <svg xmlns=\"http://www.w3.org/2000/svg\" height=\"24px\" viewBox=\"0 -960 960 960\">\n",
              "    <path d=\"M120-120v-720h720v720H120Zm60-500h600v-160H180v160Zm220 220h160v-160H400v160Zm0 220h160v-160H400v160ZM180-400h160v-160H180v160Zm440 0h160v-160H620v160ZM180-180h160v-160H180v160Zm440 0h160v-160H620v160Z\"/>\n",
              "  </svg>\n",
              "    </button>\n",
              "\n",
              "  <style>\n",
              "    .colab-df-container {\n",
              "      display:flex;\n",
              "      gap: 12px;\n",
              "    }\n",
              "\n",
              "    .colab-df-convert {\n",
              "      background-color: #E8F0FE;\n",
              "      border: none;\n",
              "      border-radius: 50%;\n",
              "      cursor: pointer;\n",
              "      display: none;\n",
              "      fill: #1967D2;\n",
              "      height: 32px;\n",
              "      padding: 0 0 0 0;\n",
              "      width: 32px;\n",
              "    }\n",
              "\n",
              "    .colab-df-convert:hover {\n",
              "      background-color: #E2EBFA;\n",
              "      box-shadow: 0px 1px 2px rgba(60, 64, 67, 0.3), 0px 1px 3px 1px rgba(60, 64, 67, 0.15);\n",
              "      fill: #174EA6;\n",
              "    }\n",
              "\n",
              "    .colab-df-buttons div {\n",
              "      margin-bottom: 4px;\n",
              "    }\n",
              "\n",
              "    [theme=dark] .colab-df-convert {\n",
              "      background-color: #3B4455;\n",
              "      fill: #D2E3FC;\n",
              "    }\n",
              "\n",
              "    [theme=dark] .colab-df-convert:hover {\n",
              "      background-color: #434B5C;\n",
              "      box-shadow: 0px 1px 3px 1px rgba(0, 0, 0, 0.15);\n",
              "      filter: drop-shadow(0px 1px 2px rgba(0, 0, 0, 0.3));\n",
              "      fill: #FFFFFF;\n",
              "    }\n",
              "  </style>\n",
              "\n",
              "    <script>\n",
              "      const buttonEl =\n",
              "        document.querySelector('#df-9a12ea8c-682e-4191-99e9-64d5fc38a36d button.colab-df-convert');\n",
              "      buttonEl.style.display =\n",
              "        google.colab.kernel.accessAllowed ? 'block' : 'none';\n",
              "\n",
              "      async function convertToInteractive(key) {\n",
              "        const element = document.querySelector('#df-9a12ea8c-682e-4191-99e9-64d5fc38a36d');\n",
              "        const dataTable =\n",
              "          await google.colab.kernel.invokeFunction('convertToInteractive',\n",
              "                                                    [key], {});\n",
              "        if (!dataTable) return;\n",
              "\n",
              "        const docLinkHtml = 'Like what you see? Visit the ' +\n",
              "          '<a target=\"_blank\" href=https://colab.research.google.com/notebooks/data_table.ipynb>data table notebook</a>'\n",
              "          + ' to learn more about interactive tables.';\n",
              "        element.innerHTML = '';\n",
              "        dataTable['output_type'] = 'display_data';\n",
              "        await google.colab.output.renderOutput(dataTable, element);\n",
              "        const docLink = document.createElement('div');\n",
              "        docLink.innerHTML = docLinkHtml;\n",
              "        element.appendChild(docLink);\n",
              "      }\n",
              "    </script>\n",
              "  </div>\n",
              "\n",
              "\n",
              "<div id=\"df-f3f72958-67fd-4fe5-b36c-e3ce12b96fbe\">\n",
              "  <button class=\"colab-df-quickchart\" onclick=\"quickchart('df-f3f72958-67fd-4fe5-b36c-e3ce12b96fbe')\"\n",
              "            title=\"Suggest charts\"\n",
              "            style=\"display:none;\">\n",
              "\n",
              "<svg xmlns=\"http://www.w3.org/2000/svg\" height=\"24px\"viewBox=\"0 0 24 24\"\n",
              "     width=\"24px\">\n",
              "    <g>\n",
              "        <path d=\"M19 3H5c-1.1 0-2 .9-2 2v14c0 1.1.9 2 2 2h14c1.1 0 2-.9 2-2V5c0-1.1-.9-2-2-2zM9 17H7v-7h2v7zm4 0h-2V7h2v10zm4 0h-2v-4h2v4z\"/>\n",
              "    </g>\n",
              "</svg>\n",
              "  </button>\n",
              "\n",
              "<style>\n",
              "  .colab-df-quickchart {\n",
              "      --bg-color: #E8F0FE;\n",
              "      --fill-color: #1967D2;\n",
              "      --hover-bg-color: #E2EBFA;\n",
              "      --hover-fill-color: #174EA6;\n",
              "      --disabled-fill-color: #AAA;\n",
              "      --disabled-bg-color: #DDD;\n",
              "  }\n",
              "\n",
              "  [theme=dark] .colab-df-quickchart {\n",
              "      --bg-color: #3B4455;\n",
              "      --fill-color: #D2E3FC;\n",
              "      --hover-bg-color: #434B5C;\n",
              "      --hover-fill-color: #FFFFFF;\n",
              "      --disabled-bg-color: #3B4455;\n",
              "      --disabled-fill-color: #666;\n",
              "  }\n",
              "\n",
              "  .colab-df-quickchart {\n",
              "    background-color: var(--bg-color);\n",
              "    border: none;\n",
              "    border-radius: 50%;\n",
              "    cursor: pointer;\n",
              "    display: none;\n",
              "    fill: var(--fill-color);\n",
              "    height: 32px;\n",
              "    padding: 0;\n",
              "    width: 32px;\n",
              "  }\n",
              "\n",
              "  .colab-df-quickchart:hover {\n",
              "    background-color: var(--hover-bg-color);\n",
              "    box-shadow: 0 1px 2px rgba(60, 64, 67, 0.3), 0 1px 3px 1px rgba(60, 64, 67, 0.15);\n",
              "    fill: var(--button-hover-fill-color);\n",
              "  }\n",
              "\n",
              "  .colab-df-quickchart-complete:disabled,\n",
              "  .colab-df-quickchart-complete:disabled:hover {\n",
              "    background-color: var(--disabled-bg-color);\n",
              "    fill: var(--disabled-fill-color);\n",
              "    box-shadow: none;\n",
              "  }\n",
              "\n",
              "  .colab-df-spinner {\n",
              "    border: 2px solid var(--fill-color);\n",
              "    border-color: transparent;\n",
              "    border-bottom-color: var(--fill-color);\n",
              "    animation:\n",
              "      spin 1s steps(1) infinite;\n",
              "  }\n",
              "\n",
              "  @keyframes spin {\n",
              "    0% {\n",
              "      border-color: transparent;\n",
              "      border-bottom-color: var(--fill-color);\n",
              "      border-left-color: var(--fill-color);\n",
              "    }\n",
              "    20% {\n",
              "      border-color: transparent;\n",
              "      border-left-color: var(--fill-color);\n",
              "      border-top-color: var(--fill-color);\n",
              "    }\n",
              "    30% {\n",
              "      border-color: transparent;\n",
              "      border-left-color: var(--fill-color);\n",
              "      border-top-color: var(--fill-color);\n",
              "      border-right-color: var(--fill-color);\n",
              "    }\n",
              "    40% {\n",
              "      border-color: transparent;\n",
              "      border-right-color: var(--fill-color);\n",
              "      border-top-color: var(--fill-color);\n",
              "    }\n",
              "    60% {\n",
              "      border-color: transparent;\n",
              "      border-right-color: var(--fill-color);\n",
              "    }\n",
              "    80% {\n",
              "      border-color: transparent;\n",
              "      border-right-color: var(--fill-color);\n",
              "      border-bottom-color: var(--fill-color);\n",
              "    }\n",
              "    90% {\n",
              "      border-color: transparent;\n",
              "      border-bottom-color: var(--fill-color);\n",
              "    }\n",
              "  }\n",
              "</style>\n",
              "\n",
              "  <script>\n",
              "    async function quickchart(key) {\n",
              "      const quickchartButtonEl =\n",
              "        document.querySelector('#' + key + ' button');\n",
              "      quickchartButtonEl.disabled = true;  // To prevent multiple clicks.\n",
              "      quickchartButtonEl.classList.add('colab-df-spinner');\n",
              "      try {\n",
              "        const charts = await google.colab.kernel.invokeFunction(\n",
              "            'suggestCharts', [key], {});\n",
              "      } catch (error) {\n",
              "        console.error('Error during call to suggestCharts:', error);\n",
              "      }\n",
              "      quickchartButtonEl.classList.remove('colab-df-spinner');\n",
              "      quickchartButtonEl.classList.add('colab-df-quickchart-complete');\n",
              "    }\n",
              "    (() => {\n",
              "      let quickchartButtonEl =\n",
              "        document.querySelector('#df-f3f72958-67fd-4fe5-b36c-e3ce12b96fbe button');\n",
              "      quickchartButtonEl.style.display =\n",
              "        google.colab.kernel.accessAllowed ? 'block' : 'none';\n",
              "    })();\n",
              "  </script>\n",
              "</div>\n",
              "\n",
              "    </div>\n",
              "  </div>\n"
            ],
            "application/vnd.google.colaboratory.intrinsic+json": {
              "type": "dataframe",
              "summary": "{\n  \"name\": \"cosine_sim_df\",\n  \"rows\": 10,\n  \"fields\": [\n    {\n      \"column\": \"Name\",\n      \"properties\": {\n        \"dtype\": \"string\",\n        \"num_unique_values\": 10,\n        \"samples\": [\n          \"Tunnel\",\n          \"D.P.\",\n          \"Hello Monster\"\n        ],\n        \"semantic_type\": \"\",\n        \"description\": \"\"\n      }\n    },\n    {\n      \"column\": \"Stranger\",\n      \"properties\": {\n        \"dtype\": \"number\",\n        \"std\": 0.1594598755515797,\n        \"min\": 0.0,\n        \"max\": 0.4940146416353697,\n        \"num_unique_values\": 8,\n        \"samples\": [\n          0.09633444416687496,\n          0.13315869627609445,\n          0.0\n        ],\n        \"semantic_type\": \"\",\n        \"description\": \"\"\n      }\n    },\n    {\n      \"column\": \"Squid Game\",\n      \"properties\": {\n        \"dtype\": \"number\",\n        \"std\": 0.22974136183856367,\n        \"min\": 0.0,\n        \"max\": 0.6947538577573393,\n        \"num_unique_values\": 9,\n        \"samples\": [\n          0.2748046738385814,\n          0.37719354771490643,\n          0.22657768427459762\n        ],\n        \"semantic_type\": \"\",\n        \"description\": \"\"\n      }\n    },\n    {\n      \"column\": \"Suspicious Partner\",\n      \"properties\": {\n        \"dtype\": \"number\",\n        \"std\": 0.07153462050235065,\n        \"min\": 0.0,\n        \"max\": 0.2660441239701841,\n        \"num_unique_values\": 10,\n        \"samples\": [\n          0.129855961325736,\n          0.14962051677368268,\n          0.18961700224697672\n        ],\n        \"semantic_type\": \"\",\n        \"description\": \"\"\n      }\n    },\n    {\n      \"column\": \"Circle\",\n      \"properties\": {\n        \"dtype\": \"number\",\n        \"std\": 0.27975090920761037,\n        \"min\": 0.0,\n        \"max\": 0.9106139700704929,\n        \"num_unique_values\": 6,\n        \"samples\": [\n          0.0,\n          0.12497723543432329,\n          0.1374565649559547\n        ],\n        \"semantic_type\": \"\",\n        \"description\": \"\"\n      }\n    },\n    {\n      \"column\": \"Nine: Nine Times Time Travel\",\n      \"properties\": {\n        \"dtype\": \"number\",\n        \"std\": 0.16455827833829656,\n        \"min\": 0.0,\n        \"max\": 0.5837796007993612,\n        \"num_unique_values\": 9,\n        \"samples\": [\n          0.13340002359098824,\n          0.0,\n          0.2012285712630547\n        ],\n        \"semantic_type\": \"\",\n        \"description\": \"\"\n      }\n    }\n  ]\n}"
            }
          },
          "metadata": {},
          "execution_count": 134
        }
      ]
    },
    {
      "cell_type": "markdown",
      "source": [
        "Dengan cosine similarity, telah berhasil diidentifikasi kesamaan antara satu Judul K-Drama dengan K-Drama lainnya. Shape (242, 242) merupakan ukuran matriks similarity dari data yang kita miliki. Berdasarkan data yang ada, matriks di atas sebenarnya berukuran 242 K-Drama X 242 K-Drama (masing-masing dalam sumbu X dan Y). Artinya, kita mengidentifikasi tingkat kesamaan pada 242 Judul K-Drama, dengan dipilih contoh 10 restoran pada baris vertikal dan 5 restoran pada sumbu horizontal."
      ],
      "metadata": {
        "id": "gAFyQL4Vm7Hl"
      }
    },
    {
      "cell_type": "markdown",
      "source": [
        "## **7.3 Mendapatkan Rekomendasi**"
      ],
      "metadata": {
        "id": "7Gy_DV4voD8v"
      }
    },
    {
      "cell_type": "markdown",
      "source": [
        "Disini Rekomendasi K-Drama diambil K-Drama yang Genrenya berkaitan."
      ],
      "metadata": {
        "id": "aMHmt9GPKCQx"
      }
    },
    {
      "cell_type": "code",
      "source": [
        "def kdrama_recommendations(Name, similarity_data=cosine_sim_df, items=data[['Name', 'Genre']], k=5):\n",
        "    \"\"\"\n",
        "    Rekomendasi Resto berdasarkan kemiripan dataframe\n",
        "\n",
        "    Parameter:\n",
        "    ---\n",
        "    Name : Tipe data string (str)\n",
        "           Judul K-Drama (index kemiripan dataframe)\n",
        "    similarity_data : tipe data pd.DataFrame (object)\n",
        "                      Kesamaan dataframe, simetrik, dengan Name (Judul K-Drama) sebagai\n",
        "                      indeks dan kolom\n",
        "    items : tipe data pd.DataFrame (object)\n",
        "            Mengandung kedua nama dan fitur lainnya yang digunakan untuk mendefinisikan kemiripan\n",
        "    k : tipe data integer (int)\n",
        "        Banyaknya jumlah rekomendasi yang diberikan\n",
        "    ---\n",
        "\n",
        "    Pada index ini, kita mengambil k dengan nilai similarity terbesar\n",
        "    pada index matrix yang diberikan (i).\n",
        "    \"\"\"\n",
        "\n",
        "    # Mengambil data dengan menggunakan argpartition untuk melakukan partisi secara tidak langsung sepanjang sumbu yang diberikan\n",
        "    # Dataframe diubah menjadi numpy\n",
        "    # Range(start, stop, step)\n",
        "    index = similarity_data.loc[:,Name].to_numpy().argpartition(\n",
        "        range(-1, -k, -1))\n",
        "\n",
        "    # Mengambil data dengan similarity terbesar dari index yang ada\n",
        "    closest = similarity_data.columns[index[-1:-(k+2):-1]]\n",
        "\n",
        "    # Drop nama_resto agar nama resto yang dicari tidak muncul dalam daftar rekomendasi\n",
        "    closest = closest.drop(Name, errors='ignore')\n",
        "\n",
        "    return pd.DataFrame(closest).merge(items).head(k)"
      ],
      "metadata": {
        "id": "luQIqBL9SOU_"
      },
      "execution_count": 135,
      "outputs": []
    },
    {
      "cell_type": "markdown",
      "source": [
        "Dengan menggunakan argpartition,di ambil sejumlah nilai k tertinggi dari similarity data (dalam kasus ini: dataframe cosine_sim_df). Kemudian, kita mengambil data dari bobot (tingkat kesamaan) tertinggi ke terendah. Data ini dimasukkan ke dalam variabel closest. Berikutnya, kita perlu menghapus nama_resto yang yang dicari agar tidak muncul dalam daftar rekomendasi.\n",
        "\n",
        "Dalam contoh ini, akan dicari K-Drama yang mirip dengan Mr. Queen, sehingga  perlu drop Name Mr. Queen agar tidak muncul dalam daftar rekomendasi yang diberikan nanti.  "
      ],
      "metadata": {
        "id": "tURkVwiNokWQ"
      }
    },
    {
      "cell_type": "code",
      "source": [
        "data[data.Name.eq('Mr. Queen')]"
      ],
      "metadata": {
        "colab": {
          "base_uri": "https://localhost:8080/",
          "height": 309
        },
        "id": "X9dCK8lBSdcc",
        "outputId": "5e3cbf1b-8e0e-48e9-a1bc-c9564f7acb6f"
      },
      "execution_count": 136,
      "outputs": [
        {
          "output_type": "execute_result",
          "data": {
            "text/plain": [
              "         Name                   Aired Date  Year of release Original Network  \\\n",
              "10  Mr. Queen  Dec 12, 2020 - Feb 14, 2021             2020              tvN   \n",
              "\n",
              "             Aired On  Number of Episodes  Duration           Content Rating  \\\n",
              "10   Saturday, Sunday                  20        80  15+ - Teens 15 or older   \n",
              "\n",
              "    Rating                                           Synopsis  \\\n",
              "10     9.0  Jang Bong Hwan is a South Korean chef who has ...   \n",
              "\n",
              "                                       Genre  \\\n",
              "10  Historical,  Mystery,  Comedy,  Romance    \n",
              "\n",
              "                                                 Tags        Director  \\\n",
              "10  Smart Male Lead, Transmigration, Calm Male Lea...  Yoon Sung Shik   \n",
              "\n",
              "               Screenwriter  \\\n",
              "10  Park Kye Ok, Choi Ah Il   \n",
              "\n",
              "                                                 Cast  \\\n",
              "10  Shin Hye Sun, Kim Jung Hyun, Bae Jong Ok, Kim ...   \n",
              "\n",
              "             Production companies Rank  \n",
              "10  Crave Works, YG Entertainment  #11  "
            ],
            "text/html": [
              "\n",
              "  <div id=\"df-99d9fd9f-c460-4817-9221-5640353055de\" class=\"colab-df-container\">\n",
              "    <div>\n",
              "<style scoped>\n",
              "    .dataframe tbody tr th:only-of-type {\n",
              "        vertical-align: middle;\n",
              "    }\n",
              "\n",
              "    .dataframe tbody tr th {\n",
              "        vertical-align: top;\n",
              "    }\n",
              "\n",
              "    .dataframe thead th {\n",
              "        text-align: right;\n",
              "    }\n",
              "</style>\n",
              "<table border=\"1\" class=\"dataframe\">\n",
              "  <thead>\n",
              "    <tr style=\"text-align: right;\">\n",
              "      <th></th>\n",
              "      <th>Name</th>\n",
              "      <th>Aired Date</th>\n",
              "      <th>Year of release</th>\n",
              "      <th>Original Network</th>\n",
              "      <th>Aired On</th>\n",
              "      <th>Number of Episodes</th>\n",
              "      <th>Duration</th>\n",
              "      <th>Content Rating</th>\n",
              "      <th>Rating</th>\n",
              "      <th>Synopsis</th>\n",
              "      <th>Genre</th>\n",
              "      <th>Tags</th>\n",
              "      <th>Director</th>\n",
              "      <th>Screenwriter</th>\n",
              "      <th>Cast</th>\n",
              "      <th>Production companies</th>\n",
              "      <th>Rank</th>\n",
              "    </tr>\n",
              "  </thead>\n",
              "  <tbody>\n",
              "    <tr>\n",
              "      <th>10</th>\n",
              "      <td>Mr. Queen</td>\n",
              "      <td>Dec 12, 2020 - Feb 14, 2021</td>\n",
              "      <td>2020</td>\n",
              "      <td>tvN</td>\n",
              "      <td>Saturday, Sunday</td>\n",
              "      <td>20</td>\n",
              "      <td>80</td>\n",
              "      <td>15+ - Teens 15 or older</td>\n",
              "      <td>9.0</td>\n",
              "      <td>Jang Bong Hwan is a South Korean chef who has ...</td>\n",
              "      <td>Historical,  Mystery,  Comedy,  Romance</td>\n",
              "      <td>Smart Male Lead, Transmigration, Calm Male Lea...</td>\n",
              "      <td>Yoon Sung Shik</td>\n",
              "      <td>Park Kye Ok, Choi Ah Il</td>\n",
              "      <td>Shin Hye Sun, Kim Jung Hyun, Bae Jong Ok, Kim ...</td>\n",
              "      <td>Crave Works, YG Entertainment</td>\n",
              "      <td>#11</td>\n",
              "    </tr>\n",
              "  </tbody>\n",
              "</table>\n",
              "</div>\n",
              "    <div class=\"colab-df-buttons\">\n",
              "\n",
              "  <div class=\"colab-df-container\">\n",
              "    <button class=\"colab-df-convert\" onclick=\"convertToInteractive('df-99d9fd9f-c460-4817-9221-5640353055de')\"\n",
              "            title=\"Convert this dataframe to an interactive table.\"\n",
              "            style=\"display:none;\">\n",
              "\n",
              "  <svg xmlns=\"http://www.w3.org/2000/svg\" height=\"24px\" viewBox=\"0 -960 960 960\">\n",
              "    <path d=\"M120-120v-720h720v720H120Zm60-500h600v-160H180v160Zm220 220h160v-160H400v160Zm0 220h160v-160H400v160ZM180-400h160v-160H180v160Zm440 0h160v-160H620v160ZM180-180h160v-160H180v160Zm440 0h160v-160H620v160Z\"/>\n",
              "  </svg>\n",
              "    </button>\n",
              "\n",
              "  <style>\n",
              "    .colab-df-container {\n",
              "      display:flex;\n",
              "      gap: 12px;\n",
              "    }\n",
              "\n",
              "    .colab-df-convert {\n",
              "      background-color: #E8F0FE;\n",
              "      border: none;\n",
              "      border-radius: 50%;\n",
              "      cursor: pointer;\n",
              "      display: none;\n",
              "      fill: #1967D2;\n",
              "      height: 32px;\n",
              "      padding: 0 0 0 0;\n",
              "      width: 32px;\n",
              "    }\n",
              "\n",
              "    .colab-df-convert:hover {\n",
              "      background-color: #E2EBFA;\n",
              "      box-shadow: 0px 1px 2px rgba(60, 64, 67, 0.3), 0px 1px 3px 1px rgba(60, 64, 67, 0.15);\n",
              "      fill: #174EA6;\n",
              "    }\n",
              "\n",
              "    .colab-df-buttons div {\n",
              "      margin-bottom: 4px;\n",
              "    }\n",
              "\n",
              "    [theme=dark] .colab-df-convert {\n",
              "      background-color: #3B4455;\n",
              "      fill: #D2E3FC;\n",
              "    }\n",
              "\n",
              "    [theme=dark] .colab-df-convert:hover {\n",
              "      background-color: #434B5C;\n",
              "      box-shadow: 0px 1px 3px 1px rgba(0, 0, 0, 0.15);\n",
              "      filter: drop-shadow(0px 1px 2px rgba(0, 0, 0, 0.3));\n",
              "      fill: #FFFFFF;\n",
              "    }\n",
              "  </style>\n",
              "\n",
              "    <script>\n",
              "      const buttonEl =\n",
              "        document.querySelector('#df-99d9fd9f-c460-4817-9221-5640353055de button.colab-df-convert');\n",
              "      buttonEl.style.display =\n",
              "        google.colab.kernel.accessAllowed ? 'block' : 'none';\n",
              "\n",
              "      async function convertToInteractive(key) {\n",
              "        const element = document.querySelector('#df-99d9fd9f-c460-4817-9221-5640353055de');\n",
              "        const dataTable =\n",
              "          await google.colab.kernel.invokeFunction('convertToInteractive',\n",
              "                                                    [key], {});\n",
              "        if (!dataTable) return;\n",
              "\n",
              "        const docLinkHtml = 'Like what you see? Visit the ' +\n",
              "          '<a target=\"_blank\" href=https://colab.research.google.com/notebooks/data_table.ipynb>data table notebook</a>'\n",
              "          + ' to learn more about interactive tables.';\n",
              "        element.innerHTML = '';\n",
              "        dataTable['output_type'] = 'display_data';\n",
              "        await google.colab.output.renderOutput(dataTable, element);\n",
              "        const docLink = document.createElement('div');\n",
              "        docLink.innerHTML = docLinkHtml;\n",
              "        element.appendChild(docLink);\n",
              "      }\n",
              "    </script>\n",
              "  </div>\n",
              "\n",
              "\n",
              "    </div>\n",
              "  </div>\n"
            ],
            "application/vnd.google.colaboratory.intrinsic+json": {
              "type": "dataframe",
              "summary": "{\n  \"name\": \"data[data\",\n  \"rows\": 1,\n  \"fields\": [\n    {\n      \"column\": \"Name\",\n      \"properties\": {\n        \"dtype\": \"string\",\n        \"num_unique_values\": 1,\n        \"samples\": [\n          \"Mr. Queen\"\n        ],\n        \"semantic_type\": \"\",\n        \"description\": \"\"\n      }\n    },\n    {\n      \"column\": \"Aired Date\",\n      \"properties\": {\n        \"dtype\": \"string\",\n        \"num_unique_values\": 1,\n        \"samples\": [\n          \"Dec 12, 2020 - Feb 14, 2021\"\n        ],\n        \"semantic_type\": \"\",\n        \"description\": \"\"\n      }\n    },\n    {\n      \"column\": \"Year of release\",\n      \"properties\": {\n        \"dtype\": \"number\",\n        \"std\": null,\n        \"min\": 2020,\n        \"max\": 2020,\n        \"num_unique_values\": 1,\n        \"samples\": [\n          2020\n        ],\n        \"semantic_type\": \"\",\n        \"description\": \"\"\n      }\n    },\n    {\n      \"column\": \"Original Network\",\n      \"properties\": {\n        \"dtype\": \"string\",\n        \"num_unique_values\": 1,\n        \"samples\": [\n          \"tvN\"\n        ],\n        \"semantic_type\": \"\",\n        \"description\": \"\"\n      }\n    },\n    {\n      \"column\": \"Aired On\",\n      \"properties\": {\n        \"dtype\": \"string\",\n        \"num_unique_values\": 1,\n        \"samples\": [\n          \" Saturday, Sunday\"\n        ],\n        \"semantic_type\": \"\",\n        \"description\": \"\"\n      }\n    },\n    {\n      \"column\": \"Number of Episodes\",\n      \"properties\": {\n        \"dtype\": \"number\",\n        \"std\": null,\n        \"min\": 20,\n        \"max\": 20,\n        \"num_unique_values\": 1,\n        \"samples\": [\n          20\n        ],\n        \"semantic_type\": \"\",\n        \"description\": \"\"\n      }\n    },\n    {\n      \"column\": \"Duration\",\n      \"properties\": {\n        \"dtype\": \"number\",\n        \"std\": null,\n        \"min\": 80,\n        \"max\": 80,\n        \"num_unique_values\": 1,\n        \"samples\": [\n          80\n        ],\n        \"semantic_type\": \"\",\n        \"description\": \"\"\n      }\n    },\n    {\n      \"column\": \"Content Rating\",\n      \"properties\": {\n        \"dtype\": \"string\",\n        \"num_unique_values\": 1,\n        \"samples\": [\n          \"15+ - Teens 15 or older\"\n        ],\n        \"semantic_type\": \"\",\n        \"description\": \"\"\n      }\n    },\n    {\n      \"column\": \"Rating\",\n      \"properties\": {\n        \"dtype\": \"number\",\n        \"std\": null,\n        \"min\": 9.0,\n        \"max\": 9.0,\n        \"num_unique_values\": 1,\n        \"samples\": [\n          9.0\n        ],\n        \"semantic_type\": \"\",\n        \"description\": \"\"\n      }\n    },\n    {\n      \"column\": \"Synopsis\",\n      \"properties\": {\n        \"dtype\": \"string\",\n        \"num_unique_values\": 1,\n        \"samples\": [\n          \"Jang Bong Hwan is a South Korean chef who has risen up the ranks to cook for the country\\u2019s top politicians in the Blue House\\u2019s presidential residences. After a serious accident, he finds himself in the body of the young queen, Kim So Yong, when whisked away to an era deep in Korea\\u2019s past.\"\n        ],\n        \"semantic_type\": \"\",\n        \"description\": \"\"\n      }\n    },\n    {\n      \"column\": \"Genre\",\n      \"properties\": {\n        \"dtype\": \"string\",\n        \"num_unique_values\": 1,\n        \"samples\": [\n          \"Historical,  Mystery,  Comedy,  Romance \"\n        ],\n        \"semantic_type\": \"\",\n        \"description\": \"\"\n      }\n    },\n    {\n      \"column\": \"Tags\",\n      \"properties\": {\n        \"dtype\": \"string\",\n        \"num_unique_values\": 1,\n        \"samples\": [\n          \"Smart Male Lead, Transmigration, Calm Male Lead, Joseon Dynasty, Time Travel, Sassy Female Lead, Body Swap, Gender Swap, Eccentric Female Lead, Power Struggle\"\n        ],\n        \"semantic_type\": \"\",\n        \"description\": \"\"\n      }\n    },\n    {\n      \"column\": \"Director\",\n      \"properties\": {\n        \"dtype\": \"string\",\n        \"num_unique_values\": 1,\n        \"samples\": [\n          \"Yoon Sung Shik\"\n        ],\n        \"semantic_type\": \"\",\n        \"description\": \"\"\n      }\n    },\n    {\n      \"column\": \"Screenwriter\",\n      \"properties\": {\n        \"dtype\": \"string\",\n        \"num_unique_values\": 1,\n        \"samples\": [\n          \"Park Kye Ok, Choi Ah Il\"\n        ],\n        \"semantic_type\": \"\",\n        \"description\": \"\"\n      }\n    },\n    {\n      \"column\": \"Cast\",\n      \"properties\": {\n        \"dtype\": \"string\",\n        \"num_unique_values\": 1,\n        \"samples\": [\n          \"Shin Hye Sun, Kim Jung Hyun, Bae Jong Ok, Kim Tae Woo, Jo Yun Hee, Seol In Ah\"\n        ],\n        \"semantic_type\": \"\",\n        \"description\": \"\"\n      }\n    },\n    {\n      \"column\": \"Production companies\",\n      \"properties\": {\n        \"dtype\": \"string\",\n        \"num_unique_values\": 1,\n        \"samples\": [\n          \"Crave Works, YG Entertainment\"\n        ],\n        \"semantic_type\": \"\",\n        \"description\": \"\"\n      }\n    },\n    {\n      \"column\": \"Rank\",\n      \"properties\": {\n        \"dtype\": \"string\",\n        \"num_unique_values\": 1,\n        \"samples\": [\n          \"#11\"\n        ],\n        \"semantic_type\": \"\",\n        \"description\": \"\"\n      }\n    }\n  ]\n}"
            }
          },
          "metadata": {},
          "execution_count": 136
        }
      ]
    },
    {
      "cell_type": "markdown",
      "source": [
        "Mr. Queen merupakan K- Drama dengan kategori Historical, Mystery, Comedy, Romance.\n",
        "Tentu penonton berharap rekomendasi yang diberikan adalah K-Drama dengan genre yang mirip."
      ],
      "metadata": {
        "id": "kB1z9ZhxpKQd"
      }
    },
    {
      "cell_type": "code",
      "source": [
        "# Mendapatkan rekomendasi film yang mirip dengan The Penthouse\n",
        "kdrama_recommendations('Mr. Queen')"
      ],
      "metadata": {
        "colab": {
          "base_uri": "https://localhost:8080/",
          "height": 206
        },
        "id": "8Y4M3RWwSx7t",
        "outputId": "94a37f73-37a4-4d52-cf05-7d7fdd22d5ae"
      },
      "execution_count": 137,
      "outputs": [
        {
          "output_type": "execute_result",
          "data": {
            "text/plain": [
              "                             Name                                 Genre\n",
              "0              100 Days My Prince    Historical, Comedy, Romance, Drama\n",
              "1  Rookie Historian Goo Hae Ryung    Historical, Comedy, Romance, Drama\n",
              "2               The Tale of Nokdu   Action, Historical, Comedy, Romance\n",
              "3             Queen In Hyun's Man  Historical, Comedy, Romance, Fantasy\n",
              "4            The King's Affection            Historical, Romance, Drama"
            ],
            "text/html": [
              "\n",
              "  <div id=\"df-fb0e9157-c0bd-4e6d-95ce-9afa4025d6e6\" class=\"colab-df-container\">\n",
              "    <div>\n",
              "<style scoped>\n",
              "    .dataframe tbody tr th:only-of-type {\n",
              "        vertical-align: middle;\n",
              "    }\n",
              "\n",
              "    .dataframe tbody tr th {\n",
              "        vertical-align: top;\n",
              "    }\n",
              "\n",
              "    .dataframe thead th {\n",
              "        text-align: right;\n",
              "    }\n",
              "</style>\n",
              "<table border=\"1\" class=\"dataframe\">\n",
              "  <thead>\n",
              "    <tr style=\"text-align: right;\">\n",
              "      <th></th>\n",
              "      <th>Name</th>\n",
              "      <th>Genre</th>\n",
              "    </tr>\n",
              "  </thead>\n",
              "  <tbody>\n",
              "    <tr>\n",
              "      <th>0</th>\n",
              "      <td>100 Days My Prince</td>\n",
              "      <td>Historical, Comedy, Romance, Drama</td>\n",
              "    </tr>\n",
              "    <tr>\n",
              "      <th>1</th>\n",
              "      <td>Rookie Historian Goo Hae Ryung</td>\n",
              "      <td>Historical, Comedy, Romance, Drama</td>\n",
              "    </tr>\n",
              "    <tr>\n",
              "      <th>2</th>\n",
              "      <td>The Tale of Nokdu</td>\n",
              "      <td>Action, Historical, Comedy, Romance</td>\n",
              "    </tr>\n",
              "    <tr>\n",
              "      <th>3</th>\n",
              "      <td>Queen In Hyun's Man</td>\n",
              "      <td>Historical, Comedy, Romance, Fantasy</td>\n",
              "    </tr>\n",
              "    <tr>\n",
              "      <th>4</th>\n",
              "      <td>The King's Affection</td>\n",
              "      <td>Historical, Romance, Drama</td>\n",
              "    </tr>\n",
              "  </tbody>\n",
              "</table>\n",
              "</div>\n",
              "    <div class=\"colab-df-buttons\">\n",
              "\n",
              "  <div class=\"colab-df-container\">\n",
              "    <button class=\"colab-df-convert\" onclick=\"convertToInteractive('df-fb0e9157-c0bd-4e6d-95ce-9afa4025d6e6')\"\n",
              "            title=\"Convert this dataframe to an interactive table.\"\n",
              "            style=\"display:none;\">\n",
              "\n",
              "  <svg xmlns=\"http://www.w3.org/2000/svg\" height=\"24px\" viewBox=\"0 -960 960 960\">\n",
              "    <path d=\"M120-120v-720h720v720H120Zm60-500h600v-160H180v160Zm220 220h160v-160H400v160Zm0 220h160v-160H400v160ZM180-400h160v-160H180v160Zm440 0h160v-160H620v160ZM180-180h160v-160H180v160Zm440 0h160v-160H620v160Z\"/>\n",
              "  </svg>\n",
              "    </button>\n",
              "\n",
              "  <style>\n",
              "    .colab-df-container {\n",
              "      display:flex;\n",
              "      gap: 12px;\n",
              "    }\n",
              "\n",
              "    .colab-df-convert {\n",
              "      background-color: #E8F0FE;\n",
              "      border: none;\n",
              "      border-radius: 50%;\n",
              "      cursor: pointer;\n",
              "      display: none;\n",
              "      fill: #1967D2;\n",
              "      height: 32px;\n",
              "      padding: 0 0 0 0;\n",
              "      width: 32px;\n",
              "    }\n",
              "\n",
              "    .colab-df-convert:hover {\n",
              "      background-color: #E2EBFA;\n",
              "      box-shadow: 0px 1px 2px rgba(60, 64, 67, 0.3), 0px 1px 3px 1px rgba(60, 64, 67, 0.15);\n",
              "      fill: #174EA6;\n",
              "    }\n",
              "\n",
              "    .colab-df-buttons div {\n",
              "      margin-bottom: 4px;\n",
              "    }\n",
              "\n",
              "    [theme=dark] .colab-df-convert {\n",
              "      background-color: #3B4455;\n",
              "      fill: #D2E3FC;\n",
              "    }\n",
              "\n",
              "    [theme=dark] .colab-df-convert:hover {\n",
              "      background-color: #434B5C;\n",
              "      box-shadow: 0px 1px 3px 1px rgba(0, 0, 0, 0.15);\n",
              "      filter: drop-shadow(0px 1px 2px rgba(0, 0, 0, 0.3));\n",
              "      fill: #FFFFFF;\n",
              "    }\n",
              "  </style>\n",
              "\n",
              "    <script>\n",
              "      const buttonEl =\n",
              "        document.querySelector('#df-fb0e9157-c0bd-4e6d-95ce-9afa4025d6e6 button.colab-df-convert');\n",
              "      buttonEl.style.display =\n",
              "        google.colab.kernel.accessAllowed ? 'block' : 'none';\n",
              "\n",
              "      async function convertToInteractive(key) {\n",
              "        const element = document.querySelector('#df-fb0e9157-c0bd-4e6d-95ce-9afa4025d6e6');\n",
              "        const dataTable =\n",
              "          await google.colab.kernel.invokeFunction('convertToInteractive',\n",
              "                                                    [key], {});\n",
              "        if (!dataTable) return;\n",
              "\n",
              "        const docLinkHtml = 'Like what you see? Visit the ' +\n",
              "          '<a target=\"_blank\" href=https://colab.research.google.com/notebooks/data_table.ipynb>data table notebook</a>'\n",
              "          + ' to learn more about interactive tables.';\n",
              "        element.innerHTML = '';\n",
              "        dataTable['output_type'] = 'display_data';\n",
              "        await google.colab.output.renderOutput(dataTable, element);\n",
              "        const docLink = document.createElement('div');\n",
              "        docLink.innerHTML = docLinkHtml;\n",
              "        element.appendChild(docLink);\n",
              "      }\n",
              "    </script>\n",
              "  </div>\n",
              "\n",
              "\n",
              "<div id=\"df-f675ee63-cb82-4e46-8b9a-20e73b60f16f\">\n",
              "  <button class=\"colab-df-quickchart\" onclick=\"quickchart('df-f675ee63-cb82-4e46-8b9a-20e73b60f16f')\"\n",
              "            title=\"Suggest charts\"\n",
              "            style=\"display:none;\">\n",
              "\n",
              "<svg xmlns=\"http://www.w3.org/2000/svg\" height=\"24px\"viewBox=\"0 0 24 24\"\n",
              "     width=\"24px\">\n",
              "    <g>\n",
              "        <path d=\"M19 3H5c-1.1 0-2 .9-2 2v14c0 1.1.9 2 2 2h14c1.1 0 2-.9 2-2V5c0-1.1-.9-2-2-2zM9 17H7v-7h2v7zm4 0h-2V7h2v10zm4 0h-2v-4h2v4z\"/>\n",
              "    </g>\n",
              "</svg>\n",
              "  </button>\n",
              "\n",
              "<style>\n",
              "  .colab-df-quickchart {\n",
              "      --bg-color: #E8F0FE;\n",
              "      --fill-color: #1967D2;\n",
              "      --hover-bg-color: #E2EBFA;\n",
              "      --hover-fill-color: #174EA6;\n",
              "      --disabled-fill-color: #AAA;\n",
              "      --disabled-bg-color: #DDD;\n",
              "  }\n",
              "\n",
              "  [theme=dark] .colab-df-quickchart {\n",
              "      --bg-color: #3B4455;\n",
              "      --fill-color: #D2E3FC;\n",
              "      --hover-bg-color: #434B5C;\n",
              "      --hover-fill-color: #FFFFFF;\n",
              "      --disabled-bg-color: #3B4455;\n",
              "      --disabled-fill-color: #666;\n",
              "  }\n",
              "\n",
              "  .colab-df-quickchart {\n",
              "    background-color: var(--bg-color);\n",
              "    border: none;\n",
              "    border-radius: 50%;\n",
              "    cursor: pointer;\n",
              "    display: none;\n",
              "    fill: var(--fill-color);\n",
              "    height: 32px;\n",
              "    padding: 0;\n",
              "    width: 32px;\n",
              "  }\n",
              "\n",
              "  .colab-df-quickchart:hover {\n",
              "    background-color: var(--hover-bg-color);\n",
              "    box-shadow: 0 1px 2px rgba(60, 64, 67, 0.3), 0 1px 3px 1px rgba(60, 64, 67, 0.15);\n",
              "    fill: var(--button-hover-fill-color);\n",
              "  }\n",
              "\n",
              "  .colab-df-quickchart-complete:disabled,\n",
              "  .colab-df-quickchart-complete:disabled:hover {\n",
              "    background-color: var(--disabled-bg-color);\n",
              "    fill: var(--disabled-fill-color);\n",
              "    box-shadow: none;\n",
              "  }\n",
              "\n",
              "  .colab-df-spinner {\n",
              "    border: 2px solid var(--fill-color);\n",
              "    border-color: transparent;\n",
              "    border-bottom-color: var(--fill-color);\n",
              "    animation:\n",
              "      spin 1s steps(1) infinite;\n",
              "  }\n",
              "\n",
              "  @keyframes spin {\n",
              "    0% {\n",
              "      border-color: transparent;\n",
              "      border-bottom-color: var(--fill-color);\n",
              "      border-left-color: var(--fill-color);\n",
              "    }\n",
              "    20% {\n",
              "      border-color: transparent;\n",
              "      border-left-color: var(--fill-color);\n",
              "      border-top-color: var(--fill-color);\n",
              "    }\n",
              "    30% {\n",
              "      border-color: transparent;\n",
              "      border-left-color: var(--fill-color);\n",
              "      border-top-color: var(--fill-color);\n",
              "      border-right-color: var(--fill-color);\n",
              "    }\n",
              "    40% {\n",
              "      border-color: transparent;\n",
              "      border-right-color: var(--fill-color);\n",
              "      border-top-color: var(--fill-color);\n",
              "    }\n",
              "    60% {\n",
              "      border-color: transparent;\n",
              "      border-right-color: var(--fill-color);\n",
              "    }\n",
              "    80% {\n",
              "      border-color: transparent;\n",
              "      border-right-color: var(--fill-color);\n",
              "      border-bottom-color: var(--fill-color);\n",
              "    }\n",
              "    90% {\n",
              "      border-color: transparent;\n",
              "      border-bottom-color: var(--fill-color);\n",
              "    }\n",
              "  }\n",
              "</style>\n",
              "\n",
              "  <script>\n",
              "    async function quickchart(key) {\n",
              "      const quickchartButtonEl =\n",
              "        document.querySelector('#' + key + ' button');\n",
              "      quickchartButtonEl.disabled = true;  // To prevent multiple clicks.\n",
              "      quickchartButtonEl.classList.add('colab-df-spinner');\n",
              "      try {\n",
              "        const charts = await google.colab.kernel.invokeFunction(\n",
              "            'suggestCharts', [key], {});\n",
              "      } catch (error) {\n",
              "        console.error('Error during call to suggestCharts:', error);\n",
              "      }\n",
              "      quickchartButtonEl.classList.remove('colab-df-spinner');\n",
              "      quickchartButtonEl.classList.add('colab-df-quickchart-complete');\n",
              "    }\n",
              "    (() => {\n",
              "      let quickchartButtonEl =\n",
              "        document.querySelector('#df-f675ee63-cb82-4e46-8b9a-20e73b60f16f button');\n",
              "      quickchartButtonEl.style.display =\n",
              "        google.colab.kernel.accessAllowed ? 'block' : 'none';\n",
              "    })();\n",
              "  </script>\n",
              "</div>\n",
              "\n",
              "    </div>\n",
              "  </div>\n"
            ],
            "application/vnd.google.colaboratory.intrinsic+json": {
              "type": "dataframe",
              "summary": "{\n  \"name\": \"kdrama_recommendations('Mr\",\n  \"rows\": 5,\n  \"fields\": [\n    {\n      \"column\": \"Name\",\n      \"properties\": {\n        \"dtype\": \"string\",\n        \"num_unique_values\": 5,\n        \"samples\": [\n          \"Rookie Historian Goo Hae Ryung\",\n          \"The King's Affection\",\n          \"The Tale of Nokdu\"\n        ],\n        \"semantic_type\": \"\",\n        \"description\": \"\"\n      }\n    },\n    {\n      \"column\": \"Genre\",\n      \"properties\": {\n        \"dtype\": \"string\",\n        \"num_unique_values\": 4,\n        \"samples\": [\n          \"Action, Historical, Comedy, Romance\",\n          \"Historical, Romance, Drama\",\n          \"Historical, Comedy, Romance, Drama\"\n        ],\n        \"semantic_type\": \"\",\n        \"description\": \"\"\n      }\n    }\n  ]\n}"
            }
          },
          "metadata": {},
          "execution_count": 137
        }
      ]
    },
    {
      "cell_type": "markdown",
      "source": [
        "# **8. Evaluasi**"
      ],
      "metadata": {
        "id": "zn6AYcp_LPXq"
      }
    },
    {
      "cell_type": "markdown",
      "source": [
        "Untuk Evaluasi disini digunakan Precision@K, Mean Reciprocal Rank (MRR), dan Mean Average Precision (MAP)."
      ],
      "metadata": {
        "id": "91XELTEqLe6W"
      }
    },
    {
      "cell_type": "markdown",
      "source": [
        "## **8.1  Precision at K**"
      ],
      "metadata": {
        "id": "KvGYbFRoLVsW"
      }
    },
    {
      "cell_type": "markdown",
      "source": [
        "Precision@K mengukur ketepatan model dalam merekomendasikan item yang relevan di antara K rekomendasi teratas yang dihasilkan.\n",
        "\n",
        "Precision@K merupakan rasio dari jumlah item relevan yang ditemukan dalam K rekomendasi teratas, dibagi dengan K. Dengan kata lain, Precision@K menunjukkan persentase rekomendasi yang relevan di antara K rekomendasi teratas.\n",
        "\n",
        "Rumus:\n",
        "\n",
        "![image.png](data:image/png;base64,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)\n",
        "\n"
      ],
      "metadata": {
        "id": "w0fqbQvaPen5"
      }
    },
    {
      "cell_type": "code",
      "source": [
        "def precision_at_k(recommended_items, relevant_items, k):\n",
        "    # Validasi input\n",
        "    if k <= 0:\n",
        "        raise ValueError(\"Nilai k harus lebih besar dari 0.\")\n",
        "    if len(recommended_items) == 0:\n",
        "        return 0  # Jika tidak ada item yang direkomendasikan, precision = 0\n",
        "\n",
        "    # Ambil hanya sebanyak k item atau sebanyak item yang tersedia jika k melebihi jumlah yang direkomendasikan\n",
        "    recommended_k = recommended_items[:min(k, len(recommended_items))]\n",
        "\n",
        "    # Hitung jumlah item yang relevan\n",
        "    relevant_count = sum(1 for item in recommended_k if item in relevant_items)\n",
        "\n",
        "    # Precision dihitung sebagai rasio item yang relevan dalam top-k rekomendasi\n",
        "    return relevant_count / k\n",
        "\n",
        "# Contoh penggunaan\n",
        "recommended_items = list(kdrama_recommendations('Mr. Queen')['Name'])\n",
        "relevant_items = [\n",
        "    '100 Days My Prince', 'Rookie Historian Goo Hae Ryung',\n",
        "    'The Tale of Nokdu', 'Queen In Hyun\\'s Man', 'The King\\'s Affection'\n",
        "]  # Daftar K-Drama yang relevan\n",
        "precision = precision_at_k(recommended_items, relevant_items, k=5)\n",
        "print(f\"Precision@5: {precision}\")\n"
      ],
      "metadata": {
        "colab": {
          "base_uri": "https://localhost:8080/"
        },
        "id": "Kfp5QRp-Gcg_",
        "outputId": "04b0ee50-7d88-41ee-a44f-274fbfa74a15"
      },
      "execution_count": 138,
      "outputs": [
        {
          "output_type": "stream",
          "name": "stdout",
          "text": [
            "Precision@5: 1.0\n"
          ]
        }
      ]
    },
    {
      "cell_type": "markdown",
      "source": [
        "Nilai 1.0 berarti bahwa semua K item (rekomendasi K-Drama) teratas adalah relevan."
      ],
      "metadata": {
        "id": "zBWicww7UI7o"
      }
    },
    {
      "cell_type": "markdown",
      "source": [
        "## **8.2 Mean Reciprocal Rank (MRR)**"
      ],
      "metadata": {
        "id": "FWeSbhy7QUMD"
      }
    },
    {
      "cell_type": "markdown",
      "source": [
        "Mean Reciprocal Rank (MRR) menilai seberapa cepat item relevan pertama muncul dalam daftar rekomendasi. MRR mengukur Reciprocal Rank dari item relevan pertama untuk beberapa query atau pengguna, lalu menghitung rata-ratanya.\n",
        "\n",
        "Reciprocal Rank adalah kebalikan dari posisi item relevan pertama dalam daftar rekomendasi. MRR adalah rata-rata dari Reciprocal Rank untuk semua query atau pengguna.\n",
        "\n",
        "Rumus:\n",
        "\n",
        "![image.png](data:image/png;base64,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)\n",
        "\n",
        "Di mana rank_𝑖 adalah posisi item relevan pertama untuk query ke-𝑖\n",
        "i, dan 𝑁 adalah jumlah query."
      ],
      "metadata": {
        "id": "r9YxFHu_QYEm"
      }
    },
    {
      "cell_type": "code",
      "source": [
        "def reciprocal_rank(recommended_items, relevant_items):\n",
        "    for i, item in enumerate(recommended_items, start=1):\n",
        "        if item in relevant_items:\n",
        "            return 1 / i\n",
        "    return 0\n",
        "\n",
        "# Contoh penggunaan\n",
        "recommended_items = list(kdrama_recommendations('Mr. Queen')['Name'])\n",
        "relevant_items = ['100 Days My Prince', 'Rookie Historian Goo Hae Ryung',\n",
        "    'The Tale of Nokdu', 'Queen In Hyun\\'s Man', 'The King\\'s Affection']  # Daftar K-Drama yang relevan\n",
        "rr = reciprocal_rank(recommended_items, relevant_items)\n",
        "print(f\"Reciprocal Rank: {rr}\")"
      ],
      "metadata": {
        "colab": {
          "base_uri": "https://localhost:8080/"
        },
        "id": "IB098_BcJFZ6",
        "outputId": "782fc43d-aeb8-45b3-a9be-30e8d5d6421b"
      },
      "execution_count": 139,
      "outputs": [
        {
          "output_type": "stream",
          "name": "stdout",
          "text": [
            "Reciprocal Rank: 1.0\n"
          ]
        }
      ]
    },
    {
      "cell_type": "markdown",
      "source": [
        "Nilai 1.0 berarti item relevan (Rekomendasi K-Drama) pertama selalu ada di posisi teratas.\n",
        "\n",
        "Semakin tinggi nilai MRR, semakin cepat item relevan ditemukan di dalam daftar rekomendasi."
      ],
      "metadata": {
        "id": "fV38oLPGUXNw"
      }
    },
    {
      "cell_type": "markdown",
      "source": [
        "## **8.3 Mean Average Precision (MAP)**"
      ],
      "metadata": {
        "id": "n8biizhrR1wo"
      }
    },
    {
      "cell_type": "markdown",
      "source": [
        "Mean Average Precision (MAP) mengukur akurasi rata-rata dari semua posisi relevan dalam daftar rekomendasi dan kemudian menghitung rata-ratanya untuk semua query atau pengguna. Dimana Untuk setiap query atau pengguna, kita menghitung Average Precision (AP), yang merupakan rata-rata Precision pada setiap posisi di mana item relevan muncul. MAP adalah rata-rata dari AP untuk seluruh query.\n",
        "\n",
        "Rumus:\n",
        "\n",
        "![image.png](data:image/png;base64,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)\n",
        "\n",
        "Di mana AP𝑖 adalah Average Precision untuk query ke-𝑖, dan 𝑁 adalah jumlah query.\n",
        "\n",
        "Untuk menghitung AP, kita menggunakan\n",
        "\n",
        "![image.png](data:image/png;base64,iVBORw0KGgoAAAANSUhEUgAAArkAAABqCAYAAAC4a0kcAAAAAXNSR0IArs4c6QAAAARnQU1BAACxjwv8YQUAAAAJcEhZcwAADsMAAA7DAcdvqGQAAB5JSURBVHhe7Z3tqx3F4cc3v38g3tRXRSR4U2iIoqQxQmgCFZrYCGKxkmp9EVCapELBPpg0WvoimpqUtlCkppKAL1qvaZUWaaRGSMBU0fSBChULMaGIL+ND9Q/I73zm7jfOnTu7Z/fcPQ859/uBObNndnd2nnbmu7Mzsysu9SiMMcYYY4yZIv6vtI0xxhhjjJkaLHKNMcYYY8zUYZFrjDHGGGOmDotcY4wxxhgzdVjkGmOMMcaYqcMi1xhjjDHGTB0WucYYY4wxZuqwyDXGGGOMMVOHRa4xxhhjjJk6LHKNMcYYY8zUYZFrjDHGGGOmDotcY4wxxhgzdVjkGmOMMcaYqcMi1xhjjDHGTB0WucYYY4wxZuqwyDXGGGOMMVOHRa4xxgyJw4cPF6tWrQrmrbfeWuC2YsWK4pFHHgluxhhjusci1xhjhsB3vvOdYuXKlcW5c+eKjz76qHj55ZeDqN20aVPx4YcfFhs2bCgOHjxYHm2MMaZrVlzqUW4bY4zpGHpwb7rppmJmZqY4ffp0ceONNwb32267LQhfV8HGGDMc3JNrjDFD5J133gn2vn37LgtcOHv2bDE7O1v+M8YY0zUWucYYM0ReffXVYG/bti3YQO8uQxi2bt1auhhjjOkai1xjjBkiJ0+eDEMV4l5chinAli1bgm2MMaZ7LHKNMWZIXLhwoTh//vyiHttTp04Fe+PGjcH+4IMPgm2MMaY7LHKNMWZI/Oc//wn2+vXrg51y3XXXhVUYjh07VroYY4zpCotcY4wZEq+99lqwWTYsZufOncFes2ZNGMbw8MMPh//GGGO6w0uIGWOMMcaYqcM9ucYYY4wxZuqwyDVmifz1r38NC/szttIYY4wxk4FFrjEDInG7efPmsCTU6tWryz3GGGOMGTcWuca0ROL2jjvuKK666qrS1RhjjDGThEWuMS158skni1tvvbU4d+5c8dxzzy34kpUxxhhjJgOLXGNagrBlyafPfe5zpYtZLtCLv2LFirGYw4cPl6EwxhjTBItcY4xpyOc///lyyxhjzKRjkWuMMQ3hC2Vzc3Plv884ceJEwZLjXZojR46UvhtjjBkEi1xjjGnBN7/5zWLPnj3lv3nuu+++4sKFC+W/bti1a5eFrjHGLAGLXGOMacmBAweKDRs2lP+K4qOPPip27NhR/usOhO7MzEz5zxhjTBssco0xpiVMOjx69OgCAfr3v/+9eOSRR8p/3UHPsTHGmPZY5BpjzADceOONxW9/+9vy3zwHDx4Mq290yZYtW8otY4wxbbDINcaYAdm+fXuxf//+8t88fN75rbfeKv8tnWuuuabcMsYY0waLXGOMWQKPP/74ovG5DzzwQPHBBx+ULkvjy1/+clhtgbWZjTHGNMci1xhjlshf/vKXReNzf/zjH5f/jDHGjAOLXGM64n//+1+5ZZYbTER78cUXy3/zPPXUU52PzzXGGNMci1xjlsBLL71UvPzyy2EbUcNnX83yhGEFhw4dKv/N0/X4XGOMMc1ZcYnBXsaYxiBkN2/eXP6rxrfW8oQlv44fP17+K8J4XYYz0NtrjDFmdFjkGmNMhzDh7JZbbinOnz9fuhThQxEeumCMMaPFwxWMMaZD6LF94YUXyn/z0LP7m9/8pvxnjDFmFFjkGmNMx/ChiLm5ufLfPLt37/b4XDN0+OreqlWrihUrVgSz3OcJOD1GC2+sbr755kVvrnjIVx5gDh8+XO6phjkNDP9aSp5NnMglcZokAPvjBEsN/nBMV2tVGmNMG6ic9+zZU/6b56677hp6nYSQXrNmTbZelLntttuumJ5lhXmp4kRtBnGfZMg/hBnhVNwxCDXciMeFCxfKoxfDus3pl/iWM06P0UC5RXchTL///e8XX/3qV8s98+zatav417/+Vf4rik2bNpVb1Rw4cKBYv359cccdd4SyP1DdyZjcSeHIkSOMDw7m0KFDpWs1+/fvv3z8+fPnS9dLl3oJeWnDhg3BHdsYY8bBxYsXL9dFMjt27Cj3DpfZ2dnLdeCZM2eCOXHixIJ6k32EcZJRWAn/UqBNwZ9t27aVLpMF7RZhI4zkHflEfinv5ubmgtvMzEw4hu26vOsq3aYFp8fwoOxSLpvUJ8qHNrTxP2ViRC4BJxK6gZuIXG56jqVCSME/JSbHGWPMOFAFrfoIwwP9sJFgyok6GnqFpUldO04IHybuyBgE4ow/k9geqC2jnPQLH23bnj17wvE0+lUofy3q5nF6DAdpN3RYPwGqeqeu3FZBPTrIuRMzXIGvA/E6Zt++feF/k4X133vvvWBv3bo12DHxcj06zhhjRg3jc9PXpYzPHefYQNb07TUWYfvpp58O9qTC54wx1113XekyGMQZfxhGMkkwdvGee+4J+XHu3Lm+4aNt+/Wvfx2GwvBlvX5D+7qC19BNVwjh1fXAr5fNFQXajU+ZP/bYY32XSXz99deDndNs/aAe7T2khjLfZqjVRIhcKnsW0n/mmWdKl6L4xz/+UW5Vc+rUqWBv2bIl2FWsXLmy3DLGmNGzffv2Yv/+/eW/eRhnNk4RoIYmXurMjBbEIAJ3ZmZm0VrKfGhGc1QwiF8ELeOtgfGKnPfEE08MvRwxBlhivJ/QJU5f+cpXirNnzxbvv/9+6WqmEcoF2m12drbRw+M///nPYN9www3Bbsv9998f7B/96EfBbsJEiNyHHnooPJXypN0GfWlq48aNwY6Je0nSAdDGGDNqmACj3lOg9+Nb3/pW+W/0cH1AKIl0JjogoOjFk3vac0hDF++XIEPsVKFz4glymliluhsxFfuZ6/nmGlX+IBJFLBbZVwXXIOw6FsP/2C+RCx9pRfrInXDlzhV79+4NNj2zscAlTrfffntx9913FxcvXgzm448/vnw8cDxhIx/ffPPN0rWeNMwY8rwf9KKfPn06lJU6oSuBCxxP71sTyBOFR/mDX3FepPk/SLmro4l/hKEu/dgfl0W243CTbml5pWzmykiuzOJXnFb4VfeA0+Q+i8EtTnOOrbvGsWPHgv3DH/4w2P04efJksGPNRproehjFNQdlHq1Ima8qg4sohy2MDcamMZ5DYzk0Nqnf5ACN7agaj8u4DfYzOL8tnDeomfTxbcaY8UHdRH0X1xnDom5MLqiOTCfCMdlJYYvrUpm4juNY4sMxGjNL3aw4Mo4uJZ5EovGRnEtdnvrP9XXddCxl7I+uja3xqmldTFuAe1V66DzSI46L4s/+lDh8pAXHchzXVnww8i+mqg3TBOy07cJP3OP8UnuZxhVwx6Tppnhy3Vz+1KE05/x07HDdvibE+RP7JRPHY5Byl/NHtPEPd/mVi2dcJuRXHB+Nx+c4xTk+NiZOE65FnpHXykNMrlyCrkmcFGeukbvPQOUL/wgbqCxyjtxi5FcuvVM4Rn6lqK4irLnrxKjMN53AO1aRS2TIhHgShgpQLiFi4gwRZKAKgvb1S7AcnDuoyVU2xhgj4kaS+m9YqOHIiTo1FBg1gCIOH+eqfpa76jjV35i0nlXjmF5b57AvbRgVprQOxQ2ThpNGDncESoyukfqjNiOXHvjBvlxjrsY5FwbQPs6N44Q/aoty7YKESixmFfZcmkrw5NrLnP+4Y+Iwy/8mYqIK4qg8JM+q3Nqi/CFspJvCLXf9r0ujqnIHuMf+iEH8q8tXdAj7Ym2ifIrdhPyK81Uo7oQtPVdhw6QoTuxrcp8pfLl0032WxlXxxDRB103Fqdzj+6AOhZX4NWGsIpdMSxNVEeiXcEr41FBg8DctyMYYMwlIUGFSgdYl1K1cQz05GBoU6kddPydI4jo41/AKNcC5HpVYGMY9VHUipAr5k9bpil/TxlHhzV2bNKrzS/tzccUdk4oAUDuVO09+xmWgSgiA4hung/Iqd23c4+MRPlwTk4q5tsSilmtrO1eemqL8waTCLEbHtSl3IPe0HA3in84hLVO0Lz6ebdxz8VK+sj9FfpG+aZ7FYUv9bXufKQy5+11+oa1iVPZS9ypU78TXYJu4tS03+INpUo7HJnKVQGnmyB1Th26qXKG5ElAcbWxsJs8MCxo71V1NxdmgqOFKTb+OgLgOrmtE6hpnkB/xdfqdkyPnD0gAYBAo/doCHZ9r+KuuIXRurkGvO7ftNYkHbqnYIB90fAzn4pZLTx3PMRjC3oXAFaS3yjJmKQIXlFY54RgzSLmDKvdB/OM+lnssZkH3V1Pqrq80yZUfUBjaximlyh/ATftj9EBWFbYU0kXXoOxwHnk9iIZTeHLhTRnbxDMmm8FNN920YNDx5s2bg3sdDATXpImmA9uNMWbc9ERMqLt6FXyYiDYKuFavrr9s3n333TDRqclE37olgZg9D0yGiutwmRw6pwtYDqz3oBC2jx8/HtqSqgk1dbSZqNQTNOXWcGByGaxbty7Y4pVXXgl2TxQEW7z99tvBvv7664OdgzYVQ9jJz7o8nQT6hW+QclfHIP4xEY/7CpQ3wGQo0vnee+8tXRbCRDCWv2JylyaWaQJ9l7S5z+LyTzlJ41+lydoszcrENd07+Me9Srx7wnfoGm4sIpdMJsK9J8oFla+MqKp83njjjWCrkF2J5OJtY2MzGWYYMAubNR5nZmaK3/3ud6XrlYs6Gg4dOpRNQ5lYTOucruBBgbZkz549IV1pOGlEmRHelE8//bTcmky0ugUgjGLURt5yyy3BznHmzJnwOVWlT5PVFPrBdVlFgfwk//G7yfJiXTBIuatjUP927twZ7J/97GfBBpZBRZfkrk26I+r++Mc/FnfeeWdx9OjR4O8wdEyb+ywu/5SVNN6xGRSt/sFDGv5wHdBqC8Nk5CKXG5Y1zvjoQ78ntqrKRzf2rbfeGuyuSZ9k2phRLcxtjLlyYImggwcPhu0XX3xx4nvTmpD2KjZB5zT52E9T6FWjZ5oPKSBUgLU7my4Yv3bt2nKrKD755JNyK88gca4CwVOF1pelvaR3GhEPq1evDjbQK0g86c3uV57oLWNJL6Ac1i1r1g8JXJibmws96k2WF+uKLvMABvWPpUmJMw9ZpAmGh4hHH320POIzELikO/nIesj05A6zB7PNfRaX/zZce+215VZ/XnvttWDrIY2HAMo/Ylx6bliMXOTydQzQor6DIPVf94rGGGMmAcTIfffdF7YRYU17mCYdNVj6KE+OdOiAzqnqwVlKg4fQQ3BJEDYV0pwnwanGOEWL2A/ypaYqJET0FShQxw09t3SY0EP7wAMPhB5rBBVpjfClTDH0BT++973vhXP6gag6cuRI2KY8DpLWnBOvg4tYA4noUQjdQcpdHYP6R7lR/H//+9+HhyryI3d/8zACuWEM5GfXtLnP4vIfl8UYwpiWl2uuuSbYTYZG6ONe8Ye7dC8tZbhGI4F+aYQwSJhLbuszUJljMLmZx72npsv7mww6NsaYcdJr+BrVe13D9Qa5ruppTB3xcblJR0y+6TWe5b956s7RRKbUXcen9X3VdZnQx77eA0XpMg//cc+lh/Zx/XRiVtzmsJ2ifbn2qO6ahJ19cRpxbdJN7nH8aA9x0z78rptExnGYNFya3Ea5bDMJTfmDqZospGPwP5c3ddSlVcwg5Q50Tpoeg/oHOlf5UhXnKv/5r33EP6VfmujcNnHK3We6Ti5vKSOUFdIhJr4v+qHjYr8V90HrJ8LahJGJXBJKBYEEq0KJjUkTFT90g2LSGajGGDNJSLBQIbcRFF2g+raqga4iXuIsbTxTFD8MdTP1NyKTa+YaTMidgxvH5+p8HctxMbhxTtwZwjZumFSQSvyyL5cXehjB1rnEX+6pWIC68EEsKHMoj7puy+I8jNMH4jATviblkvRQuubyNEYiKnftOvrlT0zbcleXHjBIORbKQ+wq5D9+4S/+I+5wV7xzYq8uTQgT+zBN44QbfmHH4LfKufbHx7MvlyeKe109USVK8U/hY1v3Wu46MdwrnEOcmjASkUvglRgyuQCSqPExGDJZUAjS/ZxjjDGTRtxL008YdAnXSutb/jcJA2GmMdJ5bOfEXQz747qZa1Fv1zVWnKNGFcN2ep1cPOL2gAY4bRM4HvcqgRsfl0sPGtA4XGrwc8f2C18aNvxNwQ/t70ro9stDtrUPU5UWKcStyXHAccS/n2ARTfMnhng0KXf90kM09S9FuiXnp8AP/FI44vIe6564jNSlCaK2aZzi8hxfN4UwEpb0+LpyqTBiV6H4kbYphEXxqLrPUtCOHF8Vj5SRDlcwVzYUKm40ChhmqQ8YXftnhgeVT1z55Sos8xmklyrvrnvpzHRBJ5DKCvcV9WLc2CM+EDWIgKYNuzGjQEMWaMdHAfcC1+N+6ffwIca2Tq6Zn3EZr8zAYPGlzHodNgyy11IgXdC1f8Dg+DVr1ixIVyZwDGNw/zjJxTM1zMpmMkQXcWdiyd/+9reBZyIvJ0hvJgsxc3jHjh3Frl27yj3GLIaJSqwM0XsYCmWHiVvx+vFXX3315YmLzOg3ZlJgZZPew1dYYWIUy8cdO3Ys2E1W57pMKXbNmODJnGzA1I1rmSTobSC8XfW8du0fqIcYv6cZxZNeVsqPTPpqrOlTbz/qXj2ZeehxI43Im67S3Swv6MnVvdzkFa4x44I6jramTe/qIHAfqD1rg3tyx4yW4TDdQi9nHepFb/t1pElD8eSplh4hGZYc0rqYfIBAS/eZ4UJvhpYLeuGFF5r3NhgTwZsT3cvDXE/VmKVCHae2hreHw3hrqqXreJPIOsNtsMg1yxKt2zfN0DhuK7+mM4pXScsdKmJ9mYpXzxYnxpjlAHWdhO4XvvCFztobBDPDDRG4GzduDAK3bceBRa5ZdnDjLGUB6isJLS7f5jOPpj3xOFzGqHkcrjFmOYHQZd4GXx/8+c9/3onQ/cUvfhE+xMJXIgcRuGCRO8EwEU2TD9LPBTOhaNWqVZf3x6STknQuhU7u2PFnL5nwpuvh76DfN6exx18mlcXh4z/hagLhjcPZ5WQ80iD+zjvfuVcYMWk6M5yBsGs/caK3Ln0lk04iBL5KxLFywx/cgPPZpzQi7ZumTxv01afZik+IEo44vRWWpaQ5aRyXXfxO0zVOUx0Txz9ON4x6SIE0xD9ejWl/Vb4Qlrgckp+Ks9y7KGMMB2FYCK/TDhw4ULp2h+J6pQ+vMcZMN9TtiF3spcKwO+pwhu0MTDk214wJJhaQDRi2Uxhkzb7cpKx40lqO+FwmwzBZiG1sncfSNLgxSUbHaV/umqDz0/0KDwPQFReWGNHxXCOH9jNZijAThjScubSpQ+dix2hCh/xleSf+y8TraxIGjiE8GlDP8bjlJhWRlvKX63AMcUongbEvjifHsW+QgftV8RQqA1wrhbhy7TS/dE5u6SulSdX1FB6dS3xUptK1sXVsVbkg3dgfh11+EUblFWFXGubiSRjYhyGPcmmPifO+DSoTpOOwJgmp/LQtH8YYs5yxyB0zNNBqZCU0YiQEaJBT4nNz6FwayHR9RQkZ9qXCQOKiSnxUhUkCKL0W4gF3TE4EyL/cuXXipQ75iZ1D18ulOShtc+drMeo0/nF+cF4sSGIBTJzidIhFWBr/ftTFM37oyIkjnZumAWGrOk95nLue9qXpAhJp8bUUPkwOCdpYfCrMqSCN45pD18mlvcpYLtz9UFph2uZdU+L7xxhjTHM8XGEZwIDt9NXB3XffXW4Vi16vfu1rXwt2r3ENdlM2bdpU9ITCorUcWUtPfPrpp+XWYnrielE4WWcU9Jp/VDz22GPB/vrXvx7sGAbBw9NPPx3sHI8++uiC8UPbt28vt4ri29/+9oJJSRzXE29h+7333gt2W3gFz6tsDK/eeXXPepv4y4SAdCwTxzEuuScKF70KImy4M770lVdeKV3r4fpPPPFE2FZcYrZu3RrsZ599NthAOeE6kA4XwD9eU/WE7oLys3PnzjCpK3YDrVLSb+xxLu17D3xhm7FfbSCMd911V9gmnF28nstx9uzZcssYY0wbLHKXAZp8lAMBPMhg7hyIpYcffnhg/1auXFlufUbObRRoYtq6deuCHSO3uoeAujFEPAx0DeNBGV+Muf3228MyVggvBuvHok68/vrrwSb/c8i9qeh+5513LgvM3PXWr18f7PhhhXIiYfjnP/852AJxjX8/+MEPSpd5OH4pk7pyaa+wffzxx8FuyoMPPhjKACJ5GONwxTPPPFNuGWOMaYNFrukcJhBpYpAmNF1JxBOg0olpGNwmDXpPL80PPyrOnDkTekgRuvGErRj1WiLm0/hh2q4+8fbbb5dbRda/vXv3lnsXcu+99wabXtsYesKJU9pjK+j5ZbIfZYwJZKPOEyZXHj9+PKTz0aNHO3tQjKGnmPxTXuR6yI0xxlRjkWs6g0YZ0cEnKf/73/8W3/3ud4uTJ08G4XUlEQ+pQDBKPObMJEIv8k9/+tOwjdDNrRygXstYHOcMPfNN0CoOkPNHJl3Im7DOzs6GXlsJXYZS0EOK0E3hAYQHJ33mlGP4JCr5NCoIw+7du8M24Y4/wdql4XOu+rCEMcaY9ljkms5A4NLrNDc3F9bKYxxqVU/cJLN27dpy68qFV/qIR0AQ8gAS86Uvfanc6obrr7++3GoP42ThT3/6U7CffPLJIL7TIR8MdWA89IcffhjGGbO8DMcMoxe1ingcrjHGmMnGInfCkUjMTYp5//33y63xQ+8W40IhnYCTCqxJQBOecmmIaJJA1NjVFOIUD2uYRDSWk95GFtWOueGGG4LNpKaq/GmzJusXv/jFcqv6PNIrd61vfOMbweb1P8dg8xYgReN0GS+cjvv95JNPyq3hwnq4bSdkdsVVV11VbhljjGmCRe6Es3r16mDz2j8WCIiBqvGW4yB+xZ+uhIAwmDQ0serVV18NNpC+Crt6F1kxIBWzHEevdfwxjUmEXk6N4zx48OCCeGhlA0RjLn8YOsA416arWvAwpms99NBDi8Qs16YXNrdaQ3wuvaQ8YMSrUQgNiXj33XeDLbjWT37yk/LfcGmaHsNAE+SMMcY0wyJ3wlEvF2KEL3UxoQtxyydENe4SUlEBcjt16lSwYyQYcssTxb1iaa8cfmoiTDwOU2MrgeWiCCeG8ZP0uknEpD2j+KcwxP4JxvZCKmz6oeNz6QJaGkyTswgr6fv8888H9/vvvz/MmifdEWc6Bptvc0M6o75fuol4kpaoy6s6+sWTYSOCMqPj6K3WPtKAL5Qpz9hm+TGGnaTDTf7whz8EO3c9lo9DONOjT1oyMQz/6Nln3Cp22ssvWBoM6CXV8m0puhc4hocM/OYaXOuXv/xl2Ad1aZ/rmddbkqo0jGFMcW6s8ShM0/HRxhhjSnqVpxkjLI5PNmDihfJj+JBAT0CGY3oiIixazyL28bm4x4vR62MPMvwX+tiDDH5rgXz8wC/ti/3lGIVDBr9ET3xc/lAChm3FqSdyF53Tz7+6cFaR87PqPPxXXEmfOP2ANCat47RkO/clsKWkW11eVZHzk/PIgxTioGM4J44n+UM+KezYfIQhl15Nwsn1OT8OG/5Thusgrbk259VBeBUOhVVx1vXapH1cLjFN0t4YY8yVwQp+epW7GRP0Omn5I3qorsSJWsYYY4wxk4aHK4wZveKemZmxwDXGGGOM6QiL3DHzq1/9Ktj79u0LtjHGGGOMWToWuWOC2eZaV5bPr3pSiTGTD6srxB9saDJZzRhjzHiwyB0TfOsfTpw4sWAGvDFmcmFI0cWLF8P2hg0bRvIhCj0Qs5qEMcaY5ljkjgmWUmI5otx6oMaYyYel8oYJvcYsWcfya1q2zxhjTHMsco0xpgVvvvlmsPXVuGHAqiuI6C1bthRHjhwpXY0xxrTBItcYY1rw73//O9j6ah6CNB6n+9JLLwX3pbB27dogpnnjs27dutLVGGNMGyxyjTGmBXyVbnZ29vKSf/Hnk/fv3x++wCYYSxsL4DoTw1jfUYz3NcaYacYi1xhjWsD4WCadsbLCc889Fz5dzeeVz5w5Uzz++OMLxGmbzwAbY4zpFotcY4xpCCsdwPHjx4urr766uOeee4odO3YEkUuPrjHGmMnBItcYYxryxhtvBJteWwxce+21wTbGGDNZWOQaY0xD1JPLxDB6bvkc9+nTp4NbjkHH5BpjjFk6FrnGGNOQkydPhklnGnfLMl8MXaj68pnH5BpjzPiwyDXGmAYgZM+fPx8mnYk777wz2M8//3zo5b355pvD/67gms8++2zYZlUHPhBhjDGmGRa5xhjTAH0EYv369cEG1rFl+bDdu3cXe/fuLY4ePVruWToMYWBy21NPPRX+s6oDvci4szavMcaYelZc8nsyY4wxxhgzZbgn1xhjjDHGTB0WucYYY4wxZuqwyDXGGGOMMVOHRa4xxhhjjJk6LHKNMcYYY8zUYZFrjDHGGGOmjKL4fwQNr04YKxynAAAAAElFTkSuQmCC)\n",
        "\n",
        "Di mana 𝑛 adalah jumlah item yang direkomendasikan, dan relevance (𝑘)\n",
        "adalah 1 jika item pada posisi 𝑘 relevan, dan 0 jika tidak relevan."
      ],
      "metadata": {
        "id": "fCfJ4hTvR7R4"
      }
    },
    {
      "cell_type": "code",
      "source": [
        "def average_precision(recommended_items, relevant_items):\n",
        "    score = 0.0\n",
        "    relevant_count = 0\n",
        "    for i, item in enumerate(recommended_items, start=1):\n",
        "        if item in relevant_items:\n",
        "            relevant_count += 1\n",
        "            score += relevant_count / i\n",
        "    return score / len(relevant_items) if relevant_items else 0\n",
        "\n",
        "# Contoh penggunaan\n",
        "recommended_items = list(kdrama_recommendations('Mr. Queen')['Name'])\n",
        "relevant_items = ['100 Days My Prince', 'Rookie Historian Goo Hae Ryung',\n",
        "    'The Tale of Nokdu', 'Queen In Hyun\\'s Man', 'The King\\'s Affection']  # Daftar K-Drama yang relevan\n",
        "ap = average_precision(recommended_items, relevant_items)\n",
        "print(f\"Average Precision: {ap}\")"
      ],
      "metadata": {
        "colab": {
          "base_uri": "https://localhost:8080/"
        },
        "id": "udSm5SDaJjO-",
        "outputId": "f6ca9ba0-ea6c-440f-ce4a-dd82da7484d1"
      },
      "execution_count": 140,
      "outputs": [
        {
          "output_type": "stream",
          "name": "stdout",
          "text": [
            "Average Precision: 1.0\n"
          ]
        }
      ]
    },
    {
      "cell_type": "markdown",
      "source": [
        "Nilai 1.0 menunjukkan bahwa semua item relevan berada di posisi paling atas dan semuanya relevan."
      ],
      "metadata": {
        "id": "YwYcZ-yeUhKq"
      }
    },
    {
      "cell_type": "markdown",
      "source": [
        "Jadi Berdasarkan Evaluasi menggunakan Precision@K, Mean Reciprocal Rank (MRR), dan Mean Average Precision (MAP) didapatkan nilai 1.0 yang berarti item yang di rekomendasikan relevan."
      ],
      "metadata": {
        "id": "P8a9DfCPUjct"
      }
    },
    {
      "cell_type": "markdown",
      "source": [
        "# **8. Interpretasi**"
      ],
      "metadata": {
        "id": "464tPqiup5zi"
      }
    },
    {
      "cell_type": "markdown",
      "source": [
        "Jadi dengan menggunakan Content Based Filtering penonton K-Drama dapat menemukan judul baru yang sesuai dengan preferensi genre mereka di tengah banyaknya pilihan yang tersedia.\n",
        "\n",
        "Genre sangat memengaruhi preferensi k-drama yang di tonton oleh penonton, penonton biasnaya lebih suka dengan K-Drama yang memiliki tema Genre yang hampir mirip."
      ],
      "metadata": {
        "id": "E7aTjEchK96g"
      }
    }
  ]
}